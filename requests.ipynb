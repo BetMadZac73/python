{
 "cells": [
  {
   "cell_type": "code",
   "execution_count": null,
   "id": "advisory-buddy",
   "metadata": {},
   "outputs": [],
   "source": [
    "## Example code to use Google and Requests to perform a google search and then disply the result\n",
    "\n",
    "import requests\n",
    "from IPython.core.display import display, HTML\n",
    "from googlesearch import search\n",
    "\n",
    "#url = 'https://realpython.com/python-f-strings/'\n",
    "#parms = ''\n",
    "#result = requests.get(url, parms)\n",
    "\n",
    "query = input('Google Search:> ') or 'BBC News'\n",
    "urls = []\n",
    "j = 0\n",
    "print(f'Please wait, search Google for {query}')\n",
    "for url in search(query, tld=\"com\", num=10, start=0, stop=10, pause=2): \n",
    "    print(f'{j} - {url}')\n",
    "    urls.append(url)\n",
    "    j += 1\n",
    "\n",
    "i = int(input('Choose url :> ') or 0)\n",
    "\n",
    "display(HTML(requests.get(urls[i]).text))"
   ]
  },
  {
   "cell_type": "code",
   "execution_count": null,
   "id": "proof-visitor",
   "metadata": {},
   "outputs": [],
   "source": [
    "display(HTML(requests.get(urls[i]).text))"
   ]
  },
  {
   "cell_type": "code",
   "execution_count": null,
   "id": "adjacent-official",
   "metadata": {},
   "outputs": [],
   "source": [
    "\n"
   ]
  },
  {
   "cell_type": "code",
   "execution_count": null,
   "id": "adapted-invite",
   "metadata": {},
   "outputs": [],
   "source": []
  }
 ],
 "metadata": {
  "kernelspec": {
   "display_name": "Python 3",
   "language": "python",
   "name": "python3"
  },
  "language_info": {
   "codemirror_mode": {
    "name": "ipython",
    "version": 3
   },
   "file_extension": ".py",
   "mimetype": "text/x-python",
   "name": "python",
   "nbconvert_exporter": "python",
   "pygments_lexer": "ipython3",
   "version": "3.8.3"
  }
 },
 "nbformat": 4,
 "nbformat_minor": 5
}
