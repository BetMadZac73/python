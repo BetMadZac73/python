{
 "cells": [
  {
   "cell_type": "code",
   "execution_count": 12,
   "id": "emotional-kitchen",
   "metadata": {},
   "outputs": [
    {
     "data": {
      "text/html": [
       "<TABLE>\n",
       "<TR><TD style='width:33%'>  <IMG src='./dxc-images/remote_work.jpg'> ./dxc-images/remote_work.jpg </TD>\n",
       "    <TD style='width:33%'>  <IMG src='./dxc-images/scape_farm_silo_iowa.jpg'> ./dxc-images/scape_farm_silo_iowa.jpg </TD>\n",
       "    <TD style='width:33%'>  <IMG src='./dxc-images/shutterstock_48913078_Color.jpg'> ./dxc-images/shutterstock_48913078_Color.jpg </TD></TR>\n",
       "<TR><TD style='width:33%'>  <IMG src='./dxc-images/analytics-466457490-c.jpg'> ./dxc-images/analytics-466457490-c.jpg </TD>\n",
       "    <TD style='width:33%'>  <IMG src='./dxc-images/Smart_Pricing_Belt-Pullys.jpg'> ./dxc-images/Smart_Pricing_Belt-Pullys.jpg </TD>\n",
       "    <TD style='width:33%'>  <IMG src='./dxc-images/Data_Analytics.jpeg'> ./dxc-images/Data_Analytics.jpeg </TD></TR>\n",
       "<TR><TD style='width:33%'>  <IMG src='./dxc-images/03-03_clr.jpg'> ./dxc-images/03-03_clr.jpg </TD>\n",
       "    <TD style='width:33%'>  <IMG src='./dxc-images/Russell_Mineral_c.jpg'> ./dxc-images/Russell_Mineral_c.jpg </TD>\n",
       "    <TD style='width:33%'>  <IMG src='./dxc-images/03-08_clr.jpg'> ./dxc-images/03-08_clr.jpg </TD></TR>\n",
       "<TR><TD style='width:33%'>  <IMG src='./dxc-images/03-09a_clr.jpg'> ./dxc-images/03-09a_clr.jpg </TD>\n",
       "    <TD style='width:33%'>  <IMG src='./dxc-images/University_of_Zurich.jpg'> ./dxc-images/University_of_Zurich.jpg </TD>\n",
       "    <TD style='width:33%'>  <IMG src='./dxc-images/Retail_Analytics.jpeg'> ./dxc-images/Retail_Analytics.jpeg </TD></TR>\n",
       "<TR><TD style='width:33%'>  <IMG src='./dxc-images/03-17_clr.jpg'> ./dxc-images/03-17_clr.jpg </TD>\n",
       "    <TD style='width:33%'>  <IMG src='./dxc-images/Blog_Image.jpg'> ./dxc-images/Blog_Image.jpg </TD>\n",
       "    <TD style='width:33%'>  <IMG src='./dxc-images/Online_Meeting.jpg'> ./dxc-images/Online_Meeting.jpg </TD></TR>\n",
       "</TABLE>"
      ],
      "text/plain": [
       "<IPython.core.display.HTML object>"
      ]
     },
     "execution_count": 12,
     "metadata": {},
     "output_type": "execute_result"
    }
   ],
   "source": [
    "# Use Beautifulsoup to get image files from DXC Web-Site\n",
    "import requests\n",
    "from bs4 import BeautifulSoup as bs\n",
    "from IPython.core.display import display, HTML    # this is so we can display HTML in Jupyter\n",
    "import os\n",
    "\n",
    "HTMLout = '<TABLE>'    # Set an empty table to hold the output code\n",
    "i = 0    # a counter to help with the formatting\n",
    "\n",
    "## Let's set the folder and check that it exists, if not - create it. \n",
    "folder = './dxc-images'\n",
    "if not os.path.exists(folder):\n",
    "    print('making folder')\n",
    "    os.makedirs(folder)\n",
    "\n",
    "# set the URL to the sector you want to scrape images from\n",
    "#url = 'https://www.dxc.technology/banking'\n",
    "#url = 'https://www.dxc.technology/technology_media_telecom'\n",
    "url = 'https://www.dxc.technology/analytics'\n",
    "soup = bs(requests.get(url).content, 'html.parser')    # make the soup\n",
    "\n",
    "# A little function, this just helps to clean up the url of the image\n",
    "def clean_src(url):\n",
    "    x = url.split('https:')[-1]\n",
    "    x = 'https:' + x\n",
    "    y = x.split('/')[-1]\n",
    "    return x, y\n",
    "\n",
    "# function to create the HTML code to display the pic\n",
    "def pic_out(i, img):\n",
    "    if i % 3 == 0: h = f\"\\n<TR><TD style='width:33%'>  <IMG src='{img}'> {img} </TD>\"\n",
    "    if i % 3 == 1: h = f\"\\n    <TD style='width:33%'>  <IMG src='{img}'> {img} </TD>\"\n",
    "    if i % 3 == 2: h = f\"\\n    <TD style='width:33%'>  <IMG src='{img}'> {img} </TD></TR>\"\n",
    "    return h\n",
    "\n",
    "## There are two lots of images, the ones in the <img> tags and some in a <div> tag\n",
    "## so we are going after both\n",
    "imgs = soup.findAll('img', class_ = 'color')    # Find the <img> tags with class = color\n",
    "for img in imgs:    # for each of the tags\n",
    "    imgsrc , imgname = clean_src(img['src'])    # call the function to clean the names up\n",
    "#    print(f'source = {imgsrc} \\nname  = {imgname}')    # for debugging\n",
    "    try:\n",
    "        with open(f\"{folder}/{imgname}\", \"wb\") as writer:\n",
    "            writer.write(requests.get(imgsrc).content)\n",
    "        HTMLout += pic_out(i, f'{folder}/{imgname}')\n",
    "        i += 1\n",
    "    except:\n",
    "        pass\n",
    "            \n",
    "imgs = soup.findAll('div', class_ = 'image-hover')\n",
    "for img in imgs:\n",
    "    img = img['style'].split(\"('\")[-1]\n",
    "    img = img.split(\"')\")[0]\n",
    "    imgsrc , imgname = clean_src(img)\n",
    "#    print(f'source = {imgsrc} \\nname  = {imgname}')\n",
    "    try:\n",
    "        with open(f\"{folder}/{imgname}\", \"wb\") as writer:\n",
    "            writer.write(requests.get(imgsrc).content)\n",
    "        HTMLout += pic_out(i, f'{folder}/{imgname}')\n",
    "        i += 1\n",
    "    except:\n",
    "        pass\n",
    "\n",
    "if i % 3 != 0: HTMLout += '</TR>'\n",
    "HTMLout += '\\n</TABLE>'\n",
    "HTML(HTMLout)"
   ]
  },
  {
   "cell_type": "code",
   "execution_count": 13,
   "id": "treated-start",
   "metadata": {},
   "outputs": [
    {
     "name": "stdout",
     "output_type": "stream",
     "text": [
      "<TABLE>\n",
      "<TR><TD style='width:33%'>  <IMG src='./dxc-images/remote_work.jpg'> ./dxc-images/remote_work.jpg </TD>\n",
      "    <TD style='width:33%'>  <IMG src='./dxc-images/scape_farm_silo_iowa.jpg'> ./dxc-images/scape_farm_silo_iowa.jpg </TD>\n",
      "    <TD style='width:33%'>  <IMG src='./dxc-images/shutterstock_48913078_Color.jpg'> ./dxc-images/shutterstock_48913078_Color.jpg </TD></TR>\n",
      "<TR><TD style='width:33%'>  <IMG src='./dxc-images/analytics-466457490-c.jpg'> ./dxc-images/analytics-466457490-c.jpg </TD>\n",
      "    <TD style='width:33%'>  <IMG src='./dxc-images/Smart_Pricing_Belt-Pullys.jpg'> ./dxc-images/Smart_Pricing_Belt-Pullys.jpg </TD>\n",
      "    <TD style='width:33%'>  <IMG src='./dxc-images/Data_Analytics.jpeg'> ./dxc-images/Data_Analytics.jpeg </TD></TR>\n",
      "<TR><TD style='width:33%'>  <IMG src='./dxc-images/03-03_clr.jpg'> ./dxc-images/03-03_clr.jpg </TD>\n",
      "    <TD style='width:33%'>  <IMG src='./dxc-images/Russell_Mineral_c.jpg'> ./dxc-images/Russell_Mineral_c.jpg </TD>\n",
      "    <TD style='width:33%'>  <IMG src='./dxc-images/03-08_clr.jpg'> ./dxc-images/03-08_clr.jpg </TD></TR>\n",
      "<TR><TD style='width:33%'>  <IMG src='./dxc-images/03-09a_clr.jpg'> ./dxc-images/03-09a_clr.jpg </TD>\n",
      "    <TD style='width:33%'>  <IMG src='./dxc-images/University_of_Zurich.jpg'> ./dxc-images/University_of_Zurich.jpg </TD>\n",
      "    <TD style='width:33%'>  <IMG src='./dxc-images/Retail_Analytics.jpeg'> ./dxc-images/Retail_Analytics.jpeg </TD></TR>\n",
      "<TR><TD style='width:33%'>  <IMG src='./dxc-images/03-17_clr.jpg'> ./dxc-images/03-17_clr.jpg </TD>\n",
      "    <TD style='width:33%'>  <IMG src='./dxc-images/Blog_Image.jpg'> ./dxc-images/Blog_Image.jpg </TD>\n",
      "    <TD style='width:33%'>  <IMG src='./dxc-images/Online_Meeting.jpg'> ./dxc-images/Online_Meeting.jpg </TD></TR>\n",
      "</TABLE>\n"
     ]
    }
   ],
   "source": [
    "print(HTMLout)"
   ]
  },
  {
   "cell_type": "code",
   "execution_count": null,
   "id": "blessed-chemical",
   "metadata": {},
   "outputs": [],
   "source": []
  }
 ],
 "metadata": {
  "kernelspec": {
   "display_name": "Python 3",
   "language": "python",
   "name": "python3"
  },
  "language_info": {
   "codemirror_mode": {
    "name": "ipython",
    "version": 3
   },
   "file_extension": ".py",
   "mimetype": "text/x-python",
   "name": "python",
   "nbconvert_exporter": "python",
   "pygments_lexer": "ipython3",
   "version": "3.8.3"
  }
 },
 "nbformat": 4,
 "nbformat_minor": 5
}
