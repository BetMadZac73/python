{
 "cells": [
  {
   "cell_type": "code",
   "execution_count": 72,
   "id": "australian-image",
   "metadata": {},
   "outputs": [
    {
     "name": "stdout",
     "output_type": "stream",
     "text": [
      "source = https://assets1.dxc.technology/analytics/images/remote_work.jpg \n",
      "name  = remote_work.jpg\n",
      "source = https://assets1.dxc.technology/analytics/images/scape_farm_silo_iowa.jpg \n",
      "name  = scape_farm_silo_iowa.jpg\n",
      "source = https://assets1.dxc.technology/analytics/images/shutterstock_48913078_Color.jpg \n",
      "name  = shutterstock_48913078_Color.jpg\n",
      "source = https://assets1.dxc.technology/analytics/images/analytics-466457490-c.jpg \n",
      "name  = analytics-466457490-c.jpg\n",
      "source = https://assets1.dxc.technology/analytics/images/Smart_Pricing_Belt-Pullys.jpg \n",
      "name  = Smart_Pricing_Belt-Pullys.jpg\n",
      "source = https://assets1.dxc.technology/analytics/images/Data_Analytics.jpeg \n",
      "name  = Data_Analytics.jpeg\n",
      "source = https://assets1.dxc.technology/analytics/images/03-03_clr.jpg \n",
      "name  = 03-03_clr.jpg\n",
      "source = https://assets1.dxc.technology/analytics/images/Russell_Mineral_c.jpg \n",
      "name  = Russell_Mineral_c.jpg\n",
      "source = https://assets1.dxc.technology/analytics/images/03-08_clr.jpg \n",
      "name  = 03-08_clr.jpg\n",
      "source = https://assets1.dxc.technology/analytics/images/03-09a_clr.jpg \n",
      "name  = 03-09a_clr.jpg\n",
      "source = https://assets1.dxc.technology/analytics/images/University_of_Zurich.jpg \n",
      "name  = University_of_Zurich.jpg\n",
      "source = https://assets1.dxc.technology/analytics/images/Retail_Analytics.jpeg \n",
      "name  = Retail_Analytics.jpeg\n",
      "source = https://assets1.dxc.technology/analytics/images/03-17_clr.jpg \n",
      "name  = 03-17_clr.jpg\n",
      "source = https://assets1.dxc.technology/analytics/images/Blog_Image.jpg \n",
      "name  = Blog_Image.jpg\n",
      "source = https://assets1.dxc.technology/analytics/images/Online_Meeting.jpg \n",
      "name  = Online_Meeting.jpg\n"
     ]
    }
   ],
   "source": [
    "# Use Beautifulsoup to get image files from DXC\n",
    "import requests\n",
    "from bs4 import BeautifulSoup as bs\n",
    "from IPython.core.display import display, HTML    # this is so we can display HTML in Jupyter\n",
    "\n",
    "# set the URL to the sector you want to scrape images from\n",
    "url = 'https://www.dxc.technology/banking'\n",
    "url = 'https://www.dxc.technology/technology_media_telecom'\n",
    "url = 'https://www.dxc.technology/analytics'\n",
    "soup = bs(requests.get(url).content, 'html.parser')\n",
    "\n",
    "# this just helps to clean up the url of the image\n",
    "def clean_src(url):\n",
    "    x = url.split('https:')[-1]\n",
    "    x = 'https:' + x\n",
    "    y = x.split('/')[-1]\n",
    "    return x, y\n",
    "\n",
    "## There are two lots of images, the ones in the <img> tags and some in a <div> tag\n",
    "## so we are going after both\n",
    "\n",
    "imgs = soup.findAll('img', class_ = 'color')\n",
    "for img in imgs:\n",
    "    imgsrc , imgname = clean_src(img['src'])\n",
    "    print(f'source = {imgsrc} \\nname  = {imgname}')\n",
    "    try:\n",
    "        with open(f\"dxc_images/{imgname}\", \"wb\") as writer:\n",
    "            writer.write(requests.get(imgsrc).content)\n",
    "    except:\n",
    "        pass\n",
    "            \n",
    "imgs = soup.findAll('div', class_ = 'image-hover')\n",
    "for img in imgs:\n",
    "    img = img['style'].split(\"('\")[-1]\n",
    "    img = img.split(\"')\")[0]\n",
    "    imgsrc , imgname = clean_src(img)\n",
    "    print(f'source = {imgsrc} \\nname  = {imgname}')\n",
    "    try:\n",
    "        with open(f\"dxc_images/{imgname}\", \"wb\") as writer:\n",
    "            writer.write(requests.get(imgsrc).content)\n",
    "    except:\n",
    "        pass\n",
    "    "
   ]
  },
  {
   "cell_type": "code",
   "execution_count": 73,
   "id": "right-making",
   "metadata": {},
   "outputs": [
    {
     "data": {
      "text/html": [
       "<img src=https://assets1.dxc.technology/analytics/images/Online_Meeting.jpg>"
      ],
      "text/plain": [
       "<IPython.core.display.HTML object>"
      ]
     },
     "execution_count": 73,
     "metadata": {},
     "output_type": "execute_result"
    }
   ],
   "source": [
    "imghtml = f'<img src={imgsrc}>'\n",
    "HTML(imghtml)"
   ]
  },
  {
   "cell_type": "code",
   "execution_count": 28,
   "id": "objective-charity",
   "metadata": {},
   "outputs": [],
   "source": [
    "pic = requests.get('https://assets1.dxc.technology/banking/images/city_newYork-91956352.jpg')"
   ]
  },
  {
   "cell_type": "code",
   "execution_count": null,
   "id": "mexican-mileage",
   "metadata": {},
   "outputs": [],
   "source": []
  }
 ],
 "metadata": {
  "kernelspec": {
   "display_name": "Python 3",
   "language": "python",
   "name": "python3"
  },
  "language_info": {
   "codemirror_mode": {
    "name": "ipython",
    "version": 3
   },
   "file_extension": ".py",
   "mimetype": "text/x-python",
   "name": "python",
   "nbconvert_exporter": "python",
   "pygments_lexer": "ipython3",
   "version": "3.8.3"
  }
 },
 "nbformat": 4,
 "nbformat_minor": 5
}
