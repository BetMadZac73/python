{
 "cells": [
  {
   "cell_type": "markdown",
   "id": "medium-photograph",
   "metadata": {},
   "source": [
    "# my_module\n",
    "> ### this is a test for creating functions in a seperate module to leave the main notebooks neater"
   ]
  },
  {
   "cell_type": "code",
   "execution_count": 57,
   "id": "fifteen-premium",
   "metadata": {},
   "outputs": [],
   "source": [
    "import datetime as dt\n",
    "from IPython.display import Markdown, display, HTML\n"
   ]
  },
  {
   "cell_type": "markdown",
   "id": "legal-grill",
   "metadata": {},
   "source": [
    "# standard variables\n"
   ]
  },
  {
   "cell_type": "code",
   "execution_count": 79,
   "id": "apparent-infection",
   "metadata": {},
   "outputs": [],
   "source": [
    "f1 = '<font color=purple style=\"font-size: 18px; font-weight: bold;\">'"
   ]
  },
  {
   "cell_type": "markdown",
   "id": "consistent-relationship",
   "metadata": {},
   "source": [
    "# my.timer"
   ]
  },
  {
   "cell_type": "code",
   "execution_count": 82,
   "id": "activated-breakdown",
   "metadata": {},
   "outputs": [],
   "source": [
    "class timer():\n",
    "    def __init__(self):\n",
    "        self.start = dt.datetime.now()\n",
    "        self.chkpt = dt.datetime.now()\n",
    "    def checkpt(self):\n",
    "        now = dt.datetime.now()\n",
    "        elapse = (now - self.chkpt).seconds\n",
    "        self.chkpt = now\n",
    "        display(Markdown(f'{f1}Time since last checkpoint = {elapse // 60} mins, {elapse % 60} seconds'))\n",
    "#        print(f'{f1}Time since last checkpoint = {elapse // 60} mins, {elapse % 60} seconds')\n",
    "    def end(self):\n",
    "        now = dt.datetime.now()\n",
    "        elapse = (now - self.start).seconds\n",
    "        display(Markdown(f'{f1}Time since start of notebook = {elapse // 60} mins, {elapse % 60} seconds'))\n",
    "    def tell(self):\n",
    "        display(Markdown(f'{f1}self.start)'))\n",
    "#        print(f'{f1}self.start)')\n"
   ]
  },
  {
   "cell_type": "markdown",
   "id": "functional-kentucky",
   "metadata": {},
   "source": [
    "# my.print"
   ]
  },
  {
   "cell_type": "code",
   "execution_count": 98,
   "id": "abstract-shower",
   "metadata": {},
   "outputs": [],
   "source": [
    "class myprint():\n",
    "    def __init__(self, level):\n",
    "        self.level = level\n",
    "    def report(self, lvl, text):\n",
    "        if lvl == 0: font = '<font color=purple style=\"font-size: 18px; font-weight: bold;\">'\n",
    "        if lvl == 1: font = '<font color=red style=\"font-size: 18px; font-weight: bold;\">'\n",
    "        if lvl == 2: font = '<font color=green style=\"font-size: 18px; font-weight: bold;\">'\n",
    "        if lvl <= self.level:\n",
    "            display(Markdown(f'{font}{text}'))\n",
    "        "
   ]
  },
  {
   "cell_type": "code",
   "execution_count": 103,
   "id": "incorrect-encyclopedia",
   "metadata": {},
   "outputs": [],
   "source": [
    "#myprint = myprint(0)\n",
    "#myprint.report(0, \"Hello\")"
   ]
  },
  {
   "cell_type": "code",
   "execution_count": 100,
   "id": "hindu-regard",
   "metadata": {},
   "outputs": [
    {
     "data": {
      "text/markdown": [
       "<font color=purple style=\"font-size: 18px; font-weight: bold;\">Hello"
      ],
      "text/plain": [
       "<IPython.core.display.Markdown object>"
      ]
     },
     "metadata": {},
     "output_type": "display_data"
    }
   ],
   "source": []
  },
  {
   "cell_type": "code",
   "execution_count": null,
   "id": "bronze-silly",
   "metadata": {},
   "outputs": [],
   "source": []
  }
 ],
 "metadata": {
  "kernelspec": {
   "display_name": "Python 3",
   "language": "python",
   "name": "python3"
  },
  "language_info": {
   "codemirror_mode": {
    "name": "ipython",
    "version": 3
   },
   "file_extension": ".py",
   "mimetype": "text/x-python",
   "name": "python",
   "nbconvert_exporter": "python",
   "pygments_lexer": "ipython3",
   "version": "3.8.3"
  }
 },
 "nbformat": 4,
 "nbformat_minor": 5
}
