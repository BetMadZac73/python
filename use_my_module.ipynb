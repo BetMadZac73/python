{
 "cells": [
  {
   "cell_type": "code",
   "execution_count": 1,
   "id": "developing-acquisition",
   "metadata": {},
   "outputs": [
    {
     "name": "stdout",
     "output_type": "stream",
     "text": [
      "importing Jupyter notebook from my_module.ipynb\n"
     ]
    }
   ],
   "source": [
    "#!pip install import_ipynb\n",
    "import import_ipynb\n",
    "import my_module as my\n"
   ]
  },
  {
   "cell_type": "code",
   "execution_count": 10,
   "id": "automatic-convenience",
   "metadata": {},
   "outputs": [],
   "source": [
    "timer = my.timer()"
   ]
  },
  {
   "cell_type": "code",
   "execution_count": 17,
   "id": "ideal-belief",
   "metadata": {},
   "outputs": [
    {
     "data": {
      "text/markdown": [
       "<font color=purple style=\"font-size: 18px; font-weight: bold;\">Time since last checkpoint = 0 mins, 7 seconds"
      ],
      "text/plain": [
       "<IPython.core.display.Markdown object>"
      ]
     },
     "metadata": {},
     "output_type": "display_data"
    },
    {
     "data": {
      "text/markdown": [
       "<font color=purple style=\"font-size: 18px; font-weight: bold;\">Time since start of notebook = 12 mins, 28 seconds"
      ],
      "text/plain": [
       "<IPython.core.display.Markdown object>"
      ]
     },
     "metadata": {},
     "output_type": "display_data"
    }
   ],
   "source": [
    "timer.checkpt()\n",
    "timer.end()"
   ]
  },
  {
   "cell_type": "code",
   "execution_count": 12,
   "id": "confirmed-conservative",
   "metadata": {},
   "outputs": [],
   "source": [
    "myprint = my.myprint(1) # set the messaging level 0-2"
   ]
  },
  {
   "cell_type": "code",
   "execution_count": 13,
   "id": "million-moore",
   "metadata": {},
   "outputs": [
    {
     "data": {
      "text/markdown": [
       "<font color=purple style=\"font-size: 18px; font-weight: bold;\">Just tell the important stuff"
      ],
      "text/plain": [
       "<IPython.core.display.Markdown object>"
      ]
     },
     "metadata": {},
     "output_type": "display_data"
    },
    {
     "data": {
      "text/markdown": [
       "<font color=red style=\"font-size: 18px; font-weight: bold;\">Tell more detail"
      ],
      "text/plain": [
       "<IPython.core.display.Markdown object>"
      ]
     },
     "metadata": {},
     "output_type": "display_data"
    }
   ],
   "source": [
    "myprint.report(0, \"Just tell the important stuff\")\n",
    "myprint.report(1, \"Tell more detail\")\n",
    "myprint.report(2, \"Tell everything\")\n"
   ]
  },
  {
   "cell_type": "code",
   "execution_count": null,
   "id": "realistic-russell",
   "metadata": {},
   "outputs": [],
   "source": []
  }
 ],
 "metadata": {
  "kernelspec": {
   "display_name": "Python 3",
   "language": "python",
   "name": "python3"
  },
  "language_info": {
   "codemirror_mode": {
    "name": "ipython",
    "version": 3
   },
   "file_extension": ".py",
   "mimetype": "text/x-python",
   "name": "python",
   "nbconvert_exporter": "python",
   "pygments_lexer": "ipython3",
   "version": "3.8.3"
  }
 },
 "nbformat": 4,
 "nbformat_minor": 5
}
