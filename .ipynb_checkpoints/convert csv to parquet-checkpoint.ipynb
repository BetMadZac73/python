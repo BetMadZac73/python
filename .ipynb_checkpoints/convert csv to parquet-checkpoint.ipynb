{
 "cells": [
  {
   "cell_type": "markdown",
   "metadata": {},
   "source": [
    "# Convert CSV file to Parquet \n",
    "## Compressed Binary File"
   ]
  },
  {
   "cell_type": "code",
   "execution_count": 31,
   "metadata": {},
   "outputs": [],
   "source": [
    "import pandas as pd\n",
    "path = 'C:\\\\Users\\\\carll\\\\Downloads'\n",
    "file_in = 'covid.csv'\n",
    "\n",
    "df = pd.read_csv(f'{path}\\\\{file_in}')\n",
    "\n",
    "df.to_parquet(f'{path}\\\\covid.parquet.gzip', compression='gzip')\n",
    "\n",
    "df2 = pd.read_parquet(f'{path}\\\\covid.parquet.gzip')"
   ]
  },
  {
   "cell_type": "code",
   "execution_count": 30,
   "metadata": {},
   "outputs": [
    {
     "name": "stdout",
     "output_type": "stream",
     "text": [
      "Original DF  = (57806, 52)\n",
      "New DF       = (57806, 52)\n"
     ]
    }
   ],
   "source": [
    "print(f'{\"Original DF\":12} = {df.shape}\\n{\"New DF\":12} = {df2.shape}')"
   ]
  },
  {
   "cell_type": "code",
   "execution_count": null,
   "metadata": {},
   "outputs": [],
   "source": []
  }
 ],
 "metadata": {
  "kernelspec": {
   "display_name": "Python 3",
   "language": "python",
   "name": "python3"
  },
  "language_info": {
   "codemirror_mode": {
    "name": "ipython",
    "version": 3
   },
   "file_extension": ".py",
   "mimetype": "text/x-python",
   "name": "python",
   "nbconvert_exporter": "python",
   "pygments_lexer": "ipython3",
   "version": "3.8.3"
  }
 },
 "nbformat": 4,
 "nbformat_minor": 4
}
