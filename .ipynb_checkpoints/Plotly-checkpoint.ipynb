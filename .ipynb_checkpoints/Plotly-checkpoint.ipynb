{
 "cells": [
  {
   "cell_type": "code",
   "execution_count": null,
   "id": "pretty-james",
   "metadata": {},
   "outputs": [],
   "source": [
    "import pandas as pd\n",
    "import plotly.graph_objects as go\n",
    "import numpy as np\n",
    "df = pd.read_csv('https://github.com/owid/covid-19-data/raw/master/public/data/owid-covid-data.csv')"
   ]
  },
  {
   "cell_type": "code",
   "execution_count": 68,
   "id": "coupled-somerset",
   "metadata": {},
   "outputs": [
    {
     "data": {
      "application/vnd.plotly.v1+json": {
       "config": {
        "plotlyServerURL": "https://plot.ly"
       },
       "data": [
        {
         "labels": [
          "Afghanistan",
          "Africa",
          "Albania",
          "Algeria",
          "Andorra",
          "Angola",
          "Antigua and Barbuda",
          "Argentina",
          "Armenia",
          "Asia",
          "Australia",
          "Austria",
          "Azerbaijan",
          "Bahamas",
          "Bahrain",
          "Bangladesh",
          "Barbados",
          "Belarus",
          "Belgium",
          "Belize",
          "Benin",
          "Bhutan",
          "Bolivia",
          "Bosnia and Herzegovina",
          "Botswana",
          "Brazil",
          "Brunei",
          "Bulgaria",
          "Burkina Faso",
          "Burundi",
          "Cambodia",
          "Cameroon",
          "Canada",
          "Cape Verde",
          "Central African Republic",
          "Chad",
          "Chile",
          "China",
          "Colombia",
          "Comoros",
          "Congo",
          "Costa Rica",
          "Cote d'Ivoire",
          "Croatia",
          "Cuba",
          "Cyprus",
          "Czechia",
          "Democratic Republic of Congo",
          "Denmark",
          "Djibouti",
          "Dominica",
          "Dominican Republic",
          "Ecuador",
          "Egypt",
          "El Salvador",
          "Equatorial Guinea",
          "Eritrea",
          "Estonia",
          "Eswatini",
          "Ethiopia",
          "Europe",
          "European Union",
          "Fiji",
          "Finland",
          "France",
          "Gabon",
          "Gambia",
          "Georgia",
          "Germany",
          "Ghana",
          "Greece",
          "Grenada",
          "Guatemala",
          "Guinea",
          "Guinea-Bissau",
          "Guyana",
          "Haiti",
          "Honduras",
          "Hungary",
          "Iceland",
          "India",
          "Indonesia",
          "International",
          "Iran",
          "Iraq",
          "Ireland",
          "Israel",
          "Italy",
          "Jamaica",
          "Japan",
          "Jordan",
          "Kazakhstan",
          "Kenya",
          "Kosovo",
          "Kuwait",
          "Kyrgyzstan",
          "Laos",
          "Latvia",
          "Lebanon",
          "Lesotho",
          "Liberia",
          "Libya",
          "Liechtenstein",
          "Lithuania",
          "Luxembourg",
          "Madagascar",
          "Malawi",
          "Malaysia",
          "Maldives",
          "Mali",
          "Malta",
          "Marshall Islands",
          "Mauritania",
          "Mauritius",
          "Mexico",
          "Micronesia (country)",
          "Moldova",
          "Monaco",
          "Mongolia",
          "Montenegro",
          "Morocco",
          "Mozambique",
          "Myanmar",
          "Namibia",
          "Nepal",
          "Netherlands",
          "New Zealand",
          "Nicaragua",
          "Niger",
          "Nigeria",
          "North America",
          "North Macedonia",
          "Norway",
          "Oceania",
          "Oman",
          "Pakistan",
          "Palestine",
          "Panama",
          "Papua New Guinea",
          "Paraguay",
          "Peru",
          "Philippines",
          "Poland",
          "Portugal",
          "Qatar",
          "Romania",
          "Russia",
          "Rwanda",
          "Saint Kitts and Nevis",
          "Saint Lucia",
          "Saint Vincent and the Grenadines",
          "Samoa",
          "San Marino",
          "Sao Tome and Principe",
          "Saudi Arabia",
          "Senegal",
          "Serbia",
          "Seychelles",
          "Sierra Leone",
          "Singapore",
          "Slovakia",
          "Slovenia",
          "Solomon Islands",
          "Somalia",
          "South Africa",
          "South America",
          "South Korea",
          "South Sudan",
          "Spain",
          "Sri Lanka",
          "Sudan",
          "Suriname",
          "Sweden",
          "Switzerland",
          "Syria",
          "Taiwan",
          "Tajikistan",
          "Tanzania",
          "Thailand",
          "Timor",
          "Togo",
          "Trinidad and Tobago",
          "Tunisia",
          "Turkey",
          "Uganda",
          "Ukraine",
          "United Arab Emirates",
          "United Kingdom",
          "United States",
          "Uruguay",
          "Uzbekistan",
          "Vanuatu",
          "Vatican",
          "Venezuela",
          "Vietnam",
          "World",
          "Yemen",
          "Zambia",
          "Zimbabwe"
         ],
         "marker": {
          "colorscale": [
           [
            0,
            "rgb(247,251,255)"
           ],
           [
            0.125,
            "rgb(222,235,247)"
           ],
           [
            0.25,
            "rgb(198,219,239)"
           ],
           [
            0.375,
            "rgb(158,202,225)"
           ],
           [
            0.5,
            "rgb(107,174,214)"
           ],
           [
            0.625,
            "rgb(66,146,198)"
           ],
           [
            0.75,
            "rgb(33,113,181)"
           ],
           [
            0.875,
            "rgb(8,81,156)"
           ],
           [
            1,
            "rgb(8,48,107)"
           ]
          ]
         },
         "parents": [
          "Asia",
          null,
          "Europe",
          "Africa",
          "Europe",
          "Africa",
          "North America",
          "South America",
          "Asia",
          null,
          "Oceania",
          "Europe",
          "Asia",
          "North America",
          "Asia",
          "Asia",
          "North America",
          "Europe",
          "Europe",
          "North America",
          "Africa",
          "Asia",
          "South America",
          "Europe",
          "Africa",
          "South America",
          "Asia",
          "Europe",
          "Africa",
          "Africa",
          "Asia",
          "Africa",
          "North America",
          "Africa",
          "Africa",
          "Africa",
          "South America",
          "Asia",
          "South America",
          "Africa",
          "Africa",
          "North America",
          "Africa",
          "Europe",
          "North America",
          "Europe",
          "Europe",
          "Africa",
          "Europe",
          "Africa",
          "North America",
          "North America",
          "South America",
          "Africa",
          "North America",
          "Africa",
          "Africa",
          "Europe",
          "Africa",
          "Africa",
          null,
          null,
          "Oceania",
          "Europe",
          "Europe",
          "Africa",
          "Africa",
          "Asia",
          "Europe",
          "Africa",
          "Europe",
          "North America",
          "North America",
          "Africa",
          "Africa",
          "South America",
          "North America",
          "North America",
          "Europe",
          "Europe",
          "Asia",
          "Asia",
          null,
          "Asia",
          "Asia",
          "Europe",
          "Asia",
          "Europe",
          "North America",
          "Asia",
          "Asia",
          "Asia",
          "Africa",
          "Europe",
          "Asia",
          "Asia",
          "Asia",
          "Europe",
          "Asia",
          "Africa",
          "Africa",
          "Africa",
          "Europe",
          "Europe",
          "Europe",
          "Africa",
          "Africa",
          "Asia",
          "Asia",
          "Africa",
          "Europe",
          "Oceania",
          "Africa",
          "Africa",
          "North America",
          "Oceania",
          "Europe",
          "Europe",
          "Asia",
          "Europe",
          "Africa",
          "Africa",
          "Asia",
          "Africa",
          "Asia",
          "Europe",
          "Oceania",
          "North America",
          "Africa",
          "Africa",
          null,
          "Europe",
          "Europe",
          null,
          "Asia",
          "Asia",
          "Asia",
          "North America",
          "Oceania",
          "South America",
          "South America",
          "Asia",
          "Europe",
          "Europe",
          "Asia",
          "Europe",
          "Europe",
          "Africa",
          "North America",
          "North America",
          "North America",
          "Oceania",
          "Europe",
          "Africa",
          "Asia",
          "Africa",
          "Europe",
          "Africa",
          "Africa",
          "Asia",
          "Europe",
          "Europe",
          "Oceania",
          "Africa",
          "Africa",
          null,
          "Asia",
          "Africa",
          "Europe",
          "Asia",
          "Africa",
          "South America",
          "Europe",
          "Europe",
          "Asia",
          "Asia",
          "Asia",
          "Africa",
          "Asia",
          "Asia",
          "Africa",
          "North America",
          "Africa",
          "Asia",
          "Africa",
          "Europe",
          "Asia",
          "Europe",
          "North America",
          "South America",
          "Asia",
          "Oceania",
          "Europe",
          "South America",
          "Asia",
          null,
          "Asia",
          "Africa",
          "Africa"
         ],
         "type": "treemap",
         "values": [
          55580,
          3819882,
          99062,
          111764,
          10672,
          20499,
          598,
          2060625,
          170234,
          24448415,
          28926,
          443536,
          232973,
          8403,
          117234,
          543024,
          2715,
          276990,
          752379,
          12244,
          5143,
          866,
          241771,
          127537,
          26524,
          10139148,
          185,
          236439,
          11783,
          1983,
          533,
          33749,
          848330,
          14999,
          5001,
          3794,
          795845,
          100727,
          2222018,
          3490,
          8419,
          201678,
          31914,
          239685,
          43484,
          33153,
          1146321,
          25080,
          207769,
          6022,
          134,
          234502,
          273097,
          177543,
          58546,
          5798,
          2685,
          57033,
          16764,
          151857,
          33164946,
          21604513,
          56,
          53285,
          3597113,
          13553,
          4554,
          268097,
          2388421,
          79655,
          178918,
          148,
          170931,
          15395,
          3091,
          8399,
          12254,
          164495,
          400111,
          6045,
          10991651,
          1271353,
          721,
          1566081,
          664750,
          214378,
          744513,
          2795796,
          20924,
          423952,
          359811,
          256388,
          103993,
          65450,
          183322,
          85831,
          45,
          81109,
          353371,
          10461,
          1988,
          129325,
          2545,
          193562,
          53782,
          19598,
          30528,
          280272,
          18612,
          8292,
          20762,
          4,
          17083,
          603,
          2038276,
          1,
          176245,
          1862,
          2638,
          71593,
          480948,
          54968,
          141735,
          37295,
          273351,
          1066522,
          2350,
          6398,
          4733,
          151553,
          32249792,
          99031,
          68315,
          32329,
          138494,
          571174,
          172315,
          336037,
          970,
          150731,
          1269523,
          559288,
          1631727,
          796339,
          159967,
          777276,
          4105424,
          17988,
          41,
          2860,
          1498,
          3,
          3472,
          1578,
          374691,
          32630,
          434122,
          2328,
          3849,
          59858,
          290457,
          184352,
          18,
          5889,
          1502367,
          17357779,
          86992,
          6417,
          3133122,
          79480,
          30128,
          8856,
          631166,
          547775,
          15143,
          942,
          13308,
          509,
          25323,
          103,
          6268,
          7676,
          227643,
          2631876,
          40199,
          1346527,
          368175,
          4117739,
          28077620,
          52163,
          79632,
          1,
          27,
          135603,
          2368,
          111073864,
          2157,
          73894,
          35768
         ]
        }
       ],
       "layout": {
        "template": {
         "data": {
          "bar": [
           {
            "error_x": {
             "color": "#2a3f5f"
            },
            "error_y": {
             "color": "#2a3f5f"
            },
            "marker": {
             "line": {
              "color": "#E5ECF6",
              "width": 0.5
             }
            },
            "type": "bar"
           }
          ],
          "barpolar": [
           {
            "marker": {
             "line": {
              "color": "#E5ECF6",
              "width": 0.5
             }
            },
            "type": "barpolar"
           }
          ],
          "carpet": [
           {
            "aaxis": {
             "endlinecolor": "#2a3f5f",
             "gridcolor": "white",
             "linecolor": "white",
             "minorgridcolor": "white",
             "startlinecolor": "#2a3f5f"
            },
            "baxis": {
             "endlinecolor": "#2a3f5f",
             "gridcolor": "white",
             "linecolor": "white",
             "minorgridcolor": "white",
             "startlinecolor": "#2a3f5f"
            },
            "type": "carpet"
           }
          ],
          "choropleth": [
           {
            "colorbar": {
             "outlinewidth": 0,
             "ticks": ""
            },
            "type": "choropleth"
           }
          ],
          "contour": [
           {
            "colorbar": {
             "outlinewidth": 0,
             "ticks": ""
            },
            "colorscale": [
             [
              0,
              "#0d0887"
             ],
             [
              0.1111111111111111,
              "#46039f"
             ],
             [
              0.2222222222222222,
              "#7201a8"
             ],
             [
              0.3333333333333333,
              "#9c179e"
             ],
             [
              0.4444444444444444,
              "#bd3786"
             ],
             [
              0.5555555555555556,
              "#d8576b"
             ],
             [
              0.6666666666666666,
              "#ed7953"
             ],
             [
              0.7777777777777778,
              "#fb9f3a"
             ],
             [
              0.8888888888888888,
              "#fdca26"
             ],
             [
              1,
              "#f0f921"
             ]
            ],
            "type": "contour"
           }
          ],
          "contourcarpet": [
           {
            "colorbar": {
             "outlinewidth": 0,
             "ticks": ""
            },
            "type": "contourcarpet"
           }
          ],
          "heatmap": [
           {
            "colorbar": {
             "outlinewidth": 0,
             "ticks": ""
            },
            "colorscale": [
             [
              0,
              "#0d0887"
             ],
             [
              0.1111111111111111,
              "#46039f"
             ],
             [
              0.2222222222222222,
              "#7201a8"
             ],
             [
              0.3333333333333333,
              "#9c179e"
             ],
             [
              0.4444444444444444,
              "#bd3786"
             ],
             [
              0.5555555555555556,
              "#d8576b"
             ],
             [
              0.6666666666666666,
              "#ed7953"
             ],
             [
              0.7777777777777778,
              "#fb9f3a"
             ],
             [
              0.8888888888888888,
              "#fdca26"
             ],
             [
              1,
              "#f0f921"
             ]
            ],
            "type": "heatmap"
           }
          ],
          "heatmapgl": [
           {
            "colorbar": {
             "outlinewidth": 0,
             "ticks": ""
            },
            "colorscale": [
             [
              0,
              "#0d0887"
             ],
             [
              0.1111111111111111,
              "#46039f"
             ],
             [
              0.2222222222222222,
              "#7201a8"
             ],
             [
              0.3333333333333333,
              "#9c179e"
             ],
             [
              0.4444444444444444,
              "#bd3786"
             ],
             [
              0.5555555555555556,
              "#d8576b"
             ],
             [
              0.6666666666666666,
              "#ed7953"
             ],
             [
              0.7777777777777778,
              "#fb9f3a"
             ],
             [
              0.8888888888888888,
              "#fdca26"
             ],
             [
              1,
              "#f0f921"
             ]
            ],
            "type": "heatmapgl"
           }
          ],
          "histogram": [
           {
            "marker": {
             "colorbar": {
              "outlinewidth": 0,
              "ticks": ""
             }
            },
            "type": "histogram"
           }
          ],
          "histogram2d": [
           {
            "colorbar": {
             "outlinewidth": 0,
             "ticks": ""
            },
            "colorscale": [
             [
              0,
              "#0d0887"
             ],
             [
              0.1111111111111111,
              "#46039f"
             ],
             [
              0.2222222222222222,
              "#7201a8"
             ],
             [
              0.3333333333333333,
              "#9c179e"
             ],
             [
              0.4444444444444444,
              "#bd3786"
             ],
             [
              0.5555555555555556,
              "#d8576b"
             ],
             [
              0.6666666666666666,
              "#ed7953"
             ],
             [
              0.7777777777777778,
              "#fb9f3a"
             ],
             [
              0.8888888888888888,
              "#fdca26"
             ],
             [
              1,
              "#f0f921"
             ]
            ],
            "type": "histogram2d"
           }
          ],
          "histogram2dcontour": [
           {
            "colorbar": {
             "outlinewidth": 0,
             "ticks": ""
            },
            "colorscale": [
             [
              0,
              "#0d0887"
             ],
             [
              0.1111111111111111,
              "#46039f"
             ],
             [
              0.2222222222222222,
              "#7201a8"
             ],
             [
              0.3333333333333333,
              "#9c179e"
             ],
             [
              0.4444444444444444,
              "#bd3786"
             ],
             [
              0.5555555555555556,
              "#d8576b"
             ],
             [
              0.6666666666666666,
              "#ed7953"
             ],
             [
              0.7777777777777778,
              "#fb9f3a"
             ],
             [
              0.8888888888888888,
              "#fdca26"
             ],
             [
              1,
              "#f0f921"
             ]
            ],
            "type": "histogram2dcontour"
           }
          ],
          "mesh3d": [
           {
            "colorbar": {
             "outlinewidth": 0,
             "ticks": ""
            },
            "type": "mesh3d"
           }
          ],
          "parcoords": [
           {
            "line": {
             "colorbar": {
              "outlinewidth": 0,
              "ticks": ""
             }
            },
            "type": "parcoords"
           }
          ],
          "pie": [
           {
            "automargin": true,
            "type": "pie"
           }
          ],
          "scatter": [
           {
            "marker": {
             "colorbar": {
              "outlinewidth": 0,
              "ticks": ""
             }
            },
            "type": "scatter"
           }
          ],
          "scatter3d": [
           {
            "line": {
             "colorbar": {
              "outlinewidth": 0,
              "ticks": ""
             }
            },
            "marker": {
             "colorbar": {
              "outlinewidth": 0,
              "ticks": ""
             }
            },
            "type": "scatter3d"
           }
          ],
          "scattercarpet": [
           {
            "marker": {
             "colorbar": {
              "outlinewidth": 0,
              "ticks": ""
             }
            },
            "type": "scattercarpet"
           }
          ],
          "scattergeo": [
           {
            "marker": {
             "colorbar": {
              "outlinewidth": 0,
              "ticks": ""
             }
            },
            "type": "scattergeo"
           }
          ],
          "scattergl": [
           {
            "marker": {
             "colorbar": {
              "outlinewidth": 0,
              "ticks": ""
             }
            },
            "type": "scattergl"
           }
          ],
          "scattermapbox": [
           {
            "marker": {
             "colorbar": {
              "outlinewidth": 0,
              "ticks": ""
             }
            },
            "type": "scattermapbox"
           }
          ],
          "scatterpolar": [
           {
            "marker": {
             "colorbar": {
              "outlinewidth": 0,
              "ticks": ""
             }
            },
            "type": "scatterpolar"
           }
          ],
          "scatterpolargl": [
           {
            "marker": {
             "colorbar": {
              "outlinewidth": 0,
              "ticks": ""
             }
            },
            "type": "scatterpolargl"
           }
          ],
          "scatterternary": [
           {
            "marker": {
             "colorbar": {
              "outlinewidth": 0,
              "ticks": ""
             }
            },
            "type": "scatterternary"
           }
          ],
          "surface": [
           {
            "colorbar": {
             "outlinewidth": 0,
             "ticks": ""
            },
            "colorscale": [
             [
              0,
              "#0d0887"
             ],
             [
              0.1111111111111111,
              "#46039f"
             ],
             [
              0.2222222222222222,
              "#7201a8"
             ],
             [
              0.3333333333333333,
              "#9c179e"
             ],
             [
              0.4444444444444444,
              "#bd3786"
             ],
             [
              0.5555555555555556,
              "#d8576b"
             ],
             [
              0.6666666666666666,
              "#ed7953"
             ],
             [
              0.7777777777777778,
              "#fb9f3a"
             ],
             [
              0.8888888888888888,
              "#fdca26"
             ],
             [
              1,
              "#f0f921"
             ]
            ],
            "type": "surface"
           }
          ],
          "table": [
           {
            "cells": {
             "fill": {
              "color": "#EBF0F8"
             },
             "line": {
              "color": "white"
             }
            },
            "header": {
             "fill": {
              "color": "#C8D4E3"
             },
             "line": {
              "color": "white"
             }
            },
            "type": "table"
           }
          ]
         },
         "layout": {
          "annotationdefaults": {
           "arrowcolor": "#2a3f5f",
           "arrowhead": 0,
           "arrowwidth": 1
          },
          "autotypenumbers": "strict",
          "coloraxis": {
           "colorbar": {
            "outlinewidth": 0,
            "ticks": ""
           }
          },
          "colorscale": {
           "diverging": [
            [
             0,
             "#8e0152"
            ],
            [
             0.1,
             "#c51b7d"
            ],
            [
             0.2,
             "#de77ae"
            ],
            [
             0.3,
             "#f1b6da"
            ],
            [
             0.4,
             "#fde0ef"
            ],
            [
             0.5,
             "#f7f7f7"
            ],
            [
             0.6,
             "#e6f5d0"
            ],
            [
             0.7,
             "#b8e186"
            ],
            [
             0.8,
             "#7fbc41"
            ],
            [
             0.9,
             "#4d9221"
            ],
            [
             1,
             "#276419"
            ]
           ],
           "sequential": [
            [
             0,
             "#0d0887"
            ],
            [
             0.1111111111111111,
             "#46039f"
            ],
            [
             0.2222222222222222,
             "#7201a8"
            ],
            [
             0.3333333333333333,
             "#9c179e"
            ],
            [
             0.4444444444444444,
             "#bd3786"
            ],
            [
             0.5555555555555556,
             "#d8576b"
            ],
            [
             0.6666666666666666,
             "#ed7953"
            ],
            [
             0.7777777777777778,
             "#fb9f3a"
            ],
            [
             0.8888888888888888,
             "#fdca26"
            ],
            [
             1,
             "#f0f921"
            ]
           ],
           "sequentialminus": [
            [
             0,
             "#0d0887"
            ],
            [
             0.1111111111111111,
             "#46039f"
            ],
            [
             0.2222222222222222,
             "#7201a8"
            ],
            [
             0.3333333333333333,
             "#9c179e"
            ],
            [
             0.4444444444444444,
             "#bd3786"
            ],
            [
             0.5555555555555556,
             "#d8576b"
            ],
            [
             0.6666666666666666,
             "#ed7953"
            ],
            [
             0.7777777777777778,
             "#fb9f3a"
            ],
            [
             0.8888888888888888,
             "#fdca26"
            ],
            [
             1,
             "#f0f921"
            ]
           ]
          },
          "colorway": [
           "#636efa",
           "#EF553B",
           "#00cc96",
           "#ab63fa",
           "#FFA15A",
           "#19d3f3",
           "#FF6692",
           "#B6E880",
           "#FF97FF",
           "#FECB52"
          ],
          "font": {
           "color": "#2a3f5f"
          },
          "geo": {
           "bgcolor": "white",
           "lakecolor": "white",
           "landcolor": "#E5ECF6",
           "showlakes": true,
           "showland": true,
           "subunitcolor": "white"
          },
          "hoverlabel": {
           "align": "left"
          },
          "hovermode": "closest",
          "mapbox": {
           "style": "light"
          },
          "paper_bgcolor": "white",
          "plot_bgcolor": "#E5ECF6",
          "polar": {
           "angularaxis": {
            "gridcolor": "white",
            "linecolor": "white",
            "ticks": ""
           },
           "bgcolor": "#E5ECF6",
           "radialaxis": {
            "gridcolor": "white",
            "linecolor": "white",
            "ticks": ""
           }
          },
          "scene": {
           "xaxis": {
            "backgroundcolor": "#E5ECF6",
            "gridcolor": "white",
            "gridwidth": 2,
            "linecolor": "white",
            "showbackground": true,
            "ticks": "",
            "zerolinecolor": "white"
           },
           "yaxis": {
            "backgroundcolor": "#E5ECF6",
            "gridcolor": "white",
            "gridwidth": 2,
            "linecolor": "white",
            "showbackground": true,
            "ticks": "",
            "zerolinecolor": "white"
           },
           "zaxis": {
            "backgroundcolor": "#E5ECF6",
            "gridcolor": "white",
            "gridwidth": 2,
            "linecolor": "white",
            "showbackground": true,
            "ticks": "",
            "zerolinecolor": "white"
           }
          },
          "shapedefaults": {
           "line": {
            "color": "#2a3f5f"
           }
          },
          "ternary": {
           "aaxis": {
            "gridcolor": "white",
            "linecolor": "white",
            "ticks": ""
           },
           "baxis": {
            "gridcolor": "white",
            "linecolor": "white",
            "ticks": ""
           },
           "bgcolor": "#E5ECF6",
           "caxis": {
            "gridcolor": "white",
            "linecolor": "white",
            "ticks": ""
           }
          },
          "title": {
           "x": 0.05
          },
          "xaxis": {
           "automargin": true,
           "gridcolor": "white",
           "linecolor": "white",
           "ticks": "",
           "title": {
            "standoff": 15
           },
           "zerolinecolor": "white",
           "zerolinewidth": 2
          },
          "yaxis": {
           "automargin": true,
           "gridcolor": "white",
           "linecolor": "white",
           "ticks": "",
           "title": {
            "standoff": 15
           },
           "zerolinecolor": "white",
           "zerolinewidth": 2
          }
         }
        }
       }
      },
      "text/html": [
       "<div>                            <div id=\"f7be4b78-6ecb-4a11-a788-18b331fa891d\" class=\"plotly-graph-div\" style=\"height:525px; width:100%;\"></div>            <script type=\"text/javascript\">                require([\"plotly\"], function(Plotly) {                    window.PLOTLYENV=window.PLOTLYENV || {};                                    if (document.getElementById(\"f7be4b78-6ecb-4a11-a788-18b331fa891d\")) {                    Plotly.newPlot(                        \"f7be4b78-6ecb-4a11-a788-18b331fa891d\",                        [{\"labels\": [\"Afghanistan\", \"Africa\", \"Albania\", \"Algeria\", \"Andorra\", \"Angola\", \"Antigua and Barbuda\", \"Argentina\", \"Armenia\", \"Asia\", \"Australia\", \"Austria\", \"Azerbaijan\", \"Bahamas\", \"Bahrain\", \"Bangladesh\", \"Barbados\", \"Belarus\", \"Belgium\", \"Belize\", \"Benin\", \"Bhutan\", \"Bolivia\", \"Bosnia and Herzegovina\", \"Botswana\", \"Brazil\", \"Brunei\", \"Bulgaria\", \"Burkina Faso\", \"Burundi\", \"Cambodia\", \"Cameroon\", \"Canada\", \"Cape Verde\", \"Central African Republic\", \"Chad\", \"Chile\", \"China\", \"Colombia\", \"Comoros\", \"Congo\", \"Costa Rica\", \"Cote d'Ivoire\", \"Croatia\", \"Cuba\", \"Cyprus\", \"Czechia\", \"Democratic Republic of Congo\", \"Denmark\", \"Djibouti\", \"Dominica\", \"Dominican Republic\", \"Ecuador\", \"Egypt\", \"El Salvador\", \"Equatorial Guinea\", \"Eritrea\", \"Estonia\", \"Eswatini\", \"Ethiopia\", \"Europe\", \"European Union\", \"Fiji\", \"Finland\", \"France\", \"Gabon\", \"Gambia\", \"Georgia\", \"Germany\", \"Ghana\", \"Greece\", \"Grenada\", \"Guatemala\", \"Guinea\", \"Guinea-Bissau\", \"Guyana\", \"Haiti\", \"Honduras\", \"Hungary\", \"Iceland\", \"India\", \"Indonesia\", \"International\", \"Iran\", \"Iraq\", \"Ireland\", \"Israel\", \"Italy\", \"Jamaica\", \"Japan\", \"Jordan\", \"Kazakhstan\", \"Kenya\", \"Kosovo\", \"Kuwait\", \"Kyrgyzstan\", \"Laos\", \"Latvia\", \"Lebanon\", \"Lesotho\", \"Liberia\", \"Libya\", \"Liechtenstein\", \"Lithuania\", \"Luxembourg\", \"Madagascar\", \"Malawi\", \"Malaysia\", \"Maldives\", \"Mali\", \"Malta\", \"Marshall Islands\", \"Mauritania\", \"Mauritius\", \"Mexico\", \"Micronesia (country)\", \"Moldova\", \"Monaco\", \"Mongolia\", \"Montenegro\", \"Morocco\", \"Mozambique\", \"Myanmar\", \"Namibia\", \"Nepal\", \"Netherlands\", \"New Zealand\", \"Nicaragua\", \"Niger\", \"Nigeria\", \"North America\", \"North Macedonia\", \"Norway\", \"Oceania\", \"Oman\", \"Pakistan\", \"Palestine\", \"Panama\", \"Papua New Guinea\", \"Paraguay\", \"Peru\", \"Philippines\", \"Poland\", \"Portugal\", \"Qatar\", \"Romania\", \"Russia\", \"Rwanda\", \"Saint Kitts and Nevis\", \"Saint Lucia\", \"Saint Vincent and the Grenadines\", \"Samoa\", \"San Marino\", \"Sao Tome and Principe\", \"Saudi Arabia\", \"Senegal\", \"Serbia\", \"Seychelles\", \"Sierra Leone\", \"Singapore\", \"Slovakia\", \"Slovenia\", \"Solomon Islands\", \"Somalia\", \"South Africa\", \"South America\", \"South Korea\", \"South Sudan\", \"Spain\", \"Sri Lanka\", \"Sudan\", \"Suriname\", \"Sweden\", \"Switzerland\", \"Syria\", \"Taiwan\", \"Tajikistan\", \"Tanzania\", \"Thailand\", \"Timor\", \"Togo\", \"Trinidad and Tobago\", \"Tunisia\", \"Turkey\", \"Uganda\", \"Ukraine\", \"United Arab Emirates\", \"United Kingdom\", \"United States\", \"Uruguay\", \"Uzbekistan\", \"Vanuatu\", \"Vatican\", \"Venezuela\", \"Vietnam\", \"World\", \"Yemen\", \"Zambia\", \"Zimbabwe\"], \"marker\": {\"colorscale\": [[0.0, \"rgb(247,251,255)\"], [0.125, \"rgb(222,235,247)\"], [0.25, \"rgb(198,219,239)\"], [0.375, \"rgb(158,202,225)\"], [0.5, \"rgb(107,174,214)\"], [0.625, \"rgb(66,146,198)\"], [0.75, \"rgb(33,113,181)\"], [0.875, \"rgb(8,81,156)\"], [1.0, \"rgb(8,48,107)\"]]}, \"parents\": [\"Asia\", null, \"Europe\", \"Africa\", \"Europe\", \"Africa\", \"North America\", \"South America\", \"Asia\", null, \"Oceania\", \"Europe\", \"Asia\", \"North America\", \"Asia\", \"Asia\", \"North America\", \"Europe\", \"Europe\", \"North America\", \"Africa\", \"Asia\", \"South America\", \"Europe\", \"Africa\", \"South America\", \"Asia\", \"Europe\", \"Africa\", \"Africa\", \"Asia\", \"Africa\", \"North America\", \"Africa\", \"Africa\", \"Africa\", \"South America\", \"Asia\", \"South America\", \"Africa\", \"Africa\", \"North America\", \"Africa\", \"Europe\", \"North America\", \"Europe\", \"Europe\", \"Africa\", \"Europe\", \"Africa\", \"North America\", \"North America\", \"South America\", \"Africa\", \"North America\", \"Africa\", \"Africa\", \"Europe\", \"Africa\", \"Africa\", null, null, \"Oceania\", \"Europe\", \"Europe\", \"Africa\", \"Africa\", \"Asia\", \"Europe\", \"Africa\", \"Europe\", \"North America\", \"North America\", \"Africa\", \"Africa\", \"South America\", \"North America\", \"North America\", \"Europe\", \"Europe\", \"Asia\", \"Asia\", null, \"Asia\", \"Asia\", \"Europe\", \"Asia\", \"Europe\", \"North America\", \"Asia\", \"Asia\", \"Asia\", \"Africa\", \"Europe\", \"Asia\", \"Asia\", \"Asia\", \"Europe\", \"Asia\", \"Africa\", \"Africa\", \"Africa\", \"Europe\", \"Europe\", \"Europe\", \"Africa\", \"Africa\", \"Asia\", \"Asia\", \"Africa\", \"Europe\", \"Oceania\", \"Africa\", \"Africa\", \"North America\", \"Oceania\", \"Europe\", \"Europe\", \"Asia\", \"Europe\", \"Africa\", \"Africa\", \"Asia\", \"Africa\", \"Asia\", \"Europe\", \"Oceania\", \"North America\", \"Africa\", \"Africa\", null, \"Europe\", \"Europe\", null, \"Asia\", \"Asia\", \"Asia\", \"North America\", \"Oceania\", \"South America\", \"South America\", \"Asia\", \"Europe\", \"Europe\", \"Asia\", \"Europe\", \"Europe\", \"Africa\", \"North America\", \"North America\", \"North America\", \"Oceania\", \"Europe\", \"Africa\", \"Asia\", \"Africa\", \"Europe\", \"Africa\", \"Africa\", \"Asia\", \"Europe\", \"Europe\", \"Oceania\", \"Africa\", \"Africa\", null, \"Asia\", \"Africa\", \"Europe\", \"Asia\", \"Africa\", \"South America\", \"Europe\", \"Europe\", \"Asia\", \"Asia\", \"Asia\", \"Africa\", \"Asia\", \"Asia\", \"Africa\", \"North America\", \"Africa\", \"Asia\", \"Africa\", \"Europe\", \"Asia\", \"Europe\", \"North America\", \"South America\", \"Asia\", \"Oceania\", \"Europe\", \"South America\", \"Asia\", null, \"Asia\", \"Africa\", \"Africa\"], \"type\": \"treemap\", \"values\": [55580.0, 3819882.0, 99062.0, 111764.0, 10672.0, 20499.0, 598.0, 2060625.0, 170234.0, 24448415.0, 28926.0, 443536.0, 232973.0, 8403.0, 117234.0, 543024.0, 2715.0, 276990.0, 752379.0, 12244.0, 5143.0, 866.0, 241771.0, 127537.0, 26524.0, 10139148.0, 185.0, 236439.0, 11783.0, 1983.0, 533.0, 33749.0, 848330.0, 14999.0, 5001.0, 3794.0, 795845.0, 100727.0, 2222018.0, 3490.0, 8419.0, 201678.0, 31914.0, 239685.0, 43484.0, 33153.0, 1146321.0, 25080.0, 207769.0, 6022.0, 134.0, 234502.0, 273097.0, 177543.0, 58546.0, 5798.0, 2685.0, 57033.0, 16764.0, 151857.0, 33164946.0, 21604513.0, 56.0, 53285.0, 3597113.0, 13553.0, 4554.0, 268097.0, 2388421.0, 79655.0, 178918.0, 148.0, 170931.0, 15395.0, 3091.0, 8399.0, 12254.0, 164495.0, 400111.0, 6045.0, 10991651.0, 1271353.0, 721.0, 1566081.0, 664750.0, 214378.0, 744513.0, 2795796.0, 20924.0, 423952.0, 359811.0, 256388.0, 103993.0, 65450.0, 183322.0, 85831.0, 45.0, 81109.0, 353371.0, 10461.0, 1988.0, 129325.0, 2545.0, 193562.0, 53782.0, 19598.0, 30528.0, 280272.0, 18612.0, 8292.0, 20762.0, 4.0, 17083.0, 603.0, 2038276.0, 1.0, 176245.0, 1862.0, 2638.0, 71593.0, 480948.0, 54968.0, 141735.0, 37295.0, 273351.0, 1066522.0, 2350.0, 6398.0, 4733.0, 151553.0, 32249792.0, 99031.0, 68315.0, 32329.0, 138494.0, 571174.0, 172315.0, 336037.0, 970.0, 150731.0, 1269523.0, 559288.0, 1631727.0, 796339.0, 159967.0, 777276.0, 4105424.0, 17988.0, 41.0, 2860.0, 1498.0, 3.0, 3472.0, 1578.0, 374691.0, 32630.0, 434122.0, 2328.0, 3849.0, 59858.0, 290457.0, 184352.0, 18.0, 5889.0, 1502367.0, 17357779.0, 86992.0, 6417.0, 3133122.0, 79480.0, 30128.0, 8856.0, 631166.0, 547775.0, 15143.0, 942.0, 13308.0, 509.0, 25323.0, 103.0, 6268.0, 7676.0, 227643.0, 2631876.0, 40199.0, 1346527.0, 368175.0, 4117739.0, 28077620.0, 52163.0, 79632.0, 1.0, 27.0, 135603.0, 2368.0, 111073864.0, 2157.0, 73894.0, 35768.0]}],                        {\"template\": {\"data\": {\"bar\": [{\"error_x\": {\"color\": \"#2a3f5f\"}, \"error_y\": {\"color\": \"#2a3f5f\"}, \"marker\": {\"line\": {\"color\": \"#E5ECF6\", \"width\": 0.5}}, \"type\": \"bar\"}], \"barpolar\": [{\"marker\": {\"line\": {\"color\": \"#E5ECF6\", \"width\": 0.5}}, \"type\": \"barpolar\"}], \"carpet\": [{\"aaxis\": {\"endlinecolor\": \"#2a3f5f\", \"gridcolor\": \"white\", \"linecolor\": \"white\", \"minorgridcolor\": \"white\", \"startlinecolor\": \"#2a3f5f\"}, \"baxis\": {\"endlinecolor\": \"#2a3f5f\", \"gridcolor\": \"white\", \"linecolor\": \"white\", \"minorgridcolor\": \"white\", \"startlinecolor\": \"#2a3f5f\"}, \"type\": \"carpet\"}], \"choropleth\": [{\"colorbar\": {\"outlinewidth\": 0, \"ticks\": \"\"}, \"type\": \"choropleth\"}], \"contour\": [{\"colorbar\": {\"outlinewidth\": 0, \"ticks\": \"\"}, \"colorscale\": [[0.0, \"#0d0887\"], [0.1111111111111111, \"#46039f\"], [0.2222222222222222, \"#7201a8\"], [0.3333333333333333, \"#9c179e\"], [0.4444444444444444, \"#bd3786\"], [0.5555555555555556, \"#d8576b\"], [0.6666666666666666, \"#ed7953\"], [0.7777777777777778, \"#fb9f3a\"], [0.8888888888888888, \"#fdca26\"], [1.0, \"#f0f921\"]], \"type\": \"contour\"}], \"contourcarpet\": [{\"colorbar\": {\"outlinewidth\": 0, \"ticks\": \"\"}, \"type\": \"contourcarpet\"}], \"heatmap\": [{\"colorbar\": {\"outlinewidth\": 0, \"ticks\": \"\"}, \"colorscale\": [[0.0, \"#0d0887\"], [0.1111111111111111, \"#46039f\"], [0.2222222222222222, \"#7201a8\"], [0.3333333333333333, \"#9c179e\"], [0.4444444444444444, \"#bd3786\"], [0.5555555555555556, \"#d8576b\"], [0.6666666666666666, \"#ed7953\"], [0.7777777777777778, \"#fb9f3a\"], [0.8888888888888888, \"#fdca26\"], [1.0, \"#f0f921\"]], \"type\": \"heatmap\"}], \"heatmapgl\": [{\"colorbar\": {\"outlinewidth\": 0, \"ticks\": \"\"}, \"colorscale\": [[0.0, \"#0d0887\"], [0.1111111111111111, \"#46039f\"], [0.2222222222222222, \"#7201a8\"], [0.3333333333333333, \"#9c179e\"], [0.4444444444444444, \"#bd3786\"], [0.5555555555555556, \"#d8576b\"], [0.6666666666666666, \"#ed7953\"], [0.7777777777777778, \"#fb9f3a\"], [0.8888888888888888, \"#fdca26\"], [1.0, \"#f0f921\"]], \"type\": \"heatmapgl\"}], \"histogram\": [{\"marker\": {\"colorbar\": {\"outlinewidth\": 0, \"ticks\": \"\"}}, \"type\": \"histogram\"}], \"histogram2d\": [{\"colorbar\": {\"outlinewidth\": 0, \"ticks\": \"\"}, \"colorscale\": [[0.0, \"#0d0887\"], [0.1111111111111111, \"#46039f\"], [0.2222222222222222, \"#7201a8\"], [0.3333333333333333, \"#9c179e\"], [0.4444444444444444, \"#bd3786\"], [0.5555555555555556, \"#d8576b\"], [0.6666666666666666, \"#ed7953\"], [0.7777777777777778, \"#fb9f3a\"], [0.8888888888888888, \"#fdca26\"], [1.0, \"#f0f921\"]], \"type\": \"histogram2d\"}], \"histogram2dcontour\": [{\"colorbar\": {\"outlinewidth\": 0, \"ticks\": \"\"}, \"colorscale\": [[0.0, \"#0d0887\"], [0.1111111111111111, \"#46039f\"], [0.2222222222222222, \"#7201a8\"], [0.3333333333333333, \"#9c179e\"], [0.4444444444444444, \"#bd3786\"], [0.5555555555555556, \"#d8576b\"], [0.6666666666666666, \"#ed7953\"], [0.7777777777777778, \"#fb9f3a\"], [0.8888888888888888, \"#fdca26\"], [1.0, \"#f0f921\"]], \"type\": \"histogram2dcontour\"}], \"mesh3d\": [{\"colorbar\": {\"outlinewidth\": 0, \"ticks\": \"\"}, \"type\": \"mesh3d\"}], \"parcoords\": [{\"line\": {\"colorbar\": {\"outlinewidth\": 0, \"ticks\": \"\"}}, \"type\": \"parcoords\"}], \"pie\": [{\"automargin\": true, \"type\": \"pie\"}], \"scatter\": [{\"marker\": {\"colorbar\": {\"outlinewidth\": 0, \"ticks\": \"\"}}, \"type\": \"scatter\"}], \"scatter3d\": [{\"line\": {\"colorbar\": {\"outlinewidth\": 0, \"ticks\": \"\"}}, \"marker\": {\"colorbar\": {\"outlinewidth\": 0, \"ticks\": \"\"}}, \"type\": \"scatter3d\"}], \"scattercarpet\": [{\"marker\": {\"colorbar\": {\"outlinewidth\": 0, \"ticks\": \"\"}}, \"type\": \"scattercarpet\"}], \"scattergeo\": [{\"marker\": {\"colorbar\": {\"outlinewidth\": 0, \"ticks\": \"\"}}, \"type\": \"scattergeo\"}], \"scattergl\": [{\"marker\": {\"colorbar\": {\"outlinewidth\": 0, \"ticks\": \"\"}}, \"type\": \"scattergl\"}], \"scattermapbox\": [{\"marker\": {\"colorbar\": {\"outlinewidth\": 0, \"ticks\": \"\"}}, \"type\": \"scattermapbox\"}], \"scatterpolar\": [{\"marker\": {\"colorbar\": {\"outlinewidth\": 0, \"ticks\": \"\"}}, \"type\": \"scatterpolar\"}], \"scatterpolargl\": [{\"marker\": {\"colorbar\": {\"outlinewidth\": 0, \"ticks\": \"\"}}, \"type\": \"scatterpolargl\"}], \"scatterternary\": [{\"marker\": {\"colorbar\": {\"outlinewidth\": 0, \"ticks\": \"\"}}, \"type\": \"scatterternary\"}], \"surface\": [{\"colorbar\": {\"outlinewidth\": 0, \"ticks\": \"\"}, \"colorscale\": [[0.0, \"#0d0887\"], [0.1111111111111111, \"#46039f\"], [0.2222222222222222, \"#7201a8\"], [0.3333333333333333, \"#9c179e\"], [0.4444444444444444, \"#bd3786\"], [0.5555555555555556, \"#d8576b\"], [0.6666666666666666, \"#ed7953\"], [0.7777777777777778, \"#fb9f3a\"], [0.8888888888888888, \"#fdca26\"], [1.0, \"#f0f921\"]], \"type\": \"surface\"}], \"table\": [{\"cells\": {\"fill\": {\"color\": \"#EBF0F8\"}, \"line\": {\"color\": \"white\"}}, \"header\": {\"fill\": {\"color\": \"#C8D4E3\"}, \"line\": {\"color\": \"white\"}}, \"type\": \"table\"}]}, \"layout\": {\"annotationdefaults\": {\"arrowcolor\": \"#2a3f5f\", \"arrowhead\": 0, \"arrowwidth\": 1}, \"autotypenumbers\": \"strict\", \"coloraxis\": {\"colorbar\": {\"outlinewidth\": 0, \"ticks\": \"\"}}, \"colorscale\": {\"diverging\": [[0, \"#8e0152\"], [0.1, \"#c51b7d\"], [0.2, \"#de77ae\"], [0.3, \"#f1b6da\"], [0.4, \"#fde0ef\"], [0.5, \"#f7f7f7\"], [0.6, \"#e6f5d0\"], [0.7, \"#b8e186\"], [0.8, \"#7fbc41\"], [0.9, \"#4d9221\"], [1, \"#276419\"]], \"sequential\": [[0.0, \"#0d0887\"], [0.1111111111111111, \"#46039f\"], [0.2222222222222222, \"#7201a8\"], [0.3333333333333333, \"#9c179e\"], [0.4444444444444444, \"#bd3786\"], [0.5555555555555556, \"#d8576b\"], [0.6666666666666666, \"#ed7953\"], [0.7777777777777778, \"#fb9f3a\"], [0.8888888888888888, \"#fdca26\"], [1.0, \"#f0f921\"]], \"sequentialminus\": [[0.0, \"#0d0887\"], [0.1111111111111111, \"#46039f\"], [0.2222222222222222, \"#7201a8\"], [0.3333333333333333, \"#9c179e\"], [0.4444444444444444, \"#bd3786\"], [0.5555555555555556, \"#d8576b\"], [0.6666666666666666, \"#ed7953\"], [0.7777777777777778, \"#fb9f3a\"], [0.8888888888888888, \"#fdca26\"], [1.0, \"#f0f921\"]]}, \"colorway\": [\"#636efa\", \"#EF553B\", \"#00cc96\", \"#ab63fa\", \"#FFA15A\", \"#19d3f3\", \"#FF6692\", \"#B6E880\", \"#FF97FF\", \"#FECB52\"], \"font\": {\"color\": \"#2a3f5f\"}, \"geo\": {\"bgcolor\": \"white\", \"lakecolor\": \"white\", \"landcolor\": \"#E5ECF6\", \"showlakes\": true, \"showland\": true, \"subunitcolor\": \"white\"}, \"hoverlabel\": {\"align\": \"left\"}, \"hovermode\": \"closest\", \"mapbox\": {\"style\": \"light\"}, \"paper_bgcolor\": \"white\", \"plot_bgcolor\": \"#E5ECF6\", \"polar\": {\"angularaxis\": {\"gridcolor\": \"white\", \"linecolor\": \"white\", \"ticks\": \"\"}, \"bgcolor\": \"#E5ECF6\", \"radialaxis\": {\"gridcolor\": \"white\", \"linecolor\": \"white\", \"ticks\": \"\"}}, \"scene\": {\"xaxis\": {\"backgroundcolor\": \"#E5ECF6\", \"gridcolor\": \"white\", \"gridwidth\": 2, \"linecolor\": \"white\", \"showbackground\": true, \"ticks\": \"\", \"zerolinecolor\": \"white\"}, \"yaxis\": {\"backgroundcolor\": \"#E5ECF6\", \"gridcolor\": \"white\", \"gridwidth\": 2, \"linecolor\": \"white\", \"showbackground\": true, \"ticks\": \"\", \"zerolinecolor\": \"white\"}, \"zaxis\": {\"backgroundcolor\": \"#E5ECF6\", \"gridcolor\": \"white\", \"gridwidth\": 2, \"linecolor\": \"white\", \"showbackground\": true, \"ticks\": \"\", \"zerolinecolor\": \"white\"}}, \"shapedefaults\": {\"line\": {\"color\": \"#2a3f5f\"}}, \"ternary\": {\"aaxis\": {\"gridcolor\": \"white\", \"linecolor\": \"white\", \"ticks\": \"\"}, \"baxis\": {\"gridcolor\": \"white\", \"linecolor\": \"white\", \"ticks\": \"\"}, \"bgcolor\": \"#E5ECF6\", \"caxis\": {\"gridcolor\": \"white\", \"linecolor\": \"white\", \"ticks\": \"\"}}, \"title\": {\"x\": 0.05}, \"xaxis\": {\"automargin\": true, \"gridcolor\": \"white\", \"linecolor\": \"white\", \"ticks\": \"\", \"title\": {\"standoff\": 15}, \"zerolinecolor\": \"white\", \"zerolinewidth\": 2}, \"yaxis\": {\"automargin\": true, \"gridcolor\": \"white\", \"linecolor\": \"white\", \"ticks\": \"\", \"title\": {\"standoff\": 15}, \"zerolinecolor\": \"white\", \"zerolinewidth\": 2}}}},                        {\"responsive\": true}                    ).then(function(){\n",
       "                            \n",
       "var gd = document.getElementById('f7be4b78-6ecb-4a11-a788-18b331fa891d');\n",
       "var x = new MutationObserver(function (mutations, observer) {{\n",
       "        var display = window.getComputedStyle(gd).display;\n",
       "        if (!display || display === 'none') {{\n",
       "            console.log([gd, 'removed!']);\n",
       "            Plotly.purge(gd);\n",
       "            observer.disconnect();\n",
       "        }}\n",
       "}});\n",
       "\n",
       "// Listen for the removal of the full notebook cells\n",
       "var notebookContainer = gd.closest('#notebook-container');\n",
       "if (notebookContainer) {{\n",
       "    x.observe(notebookContainer, {childList: true});\n",
       "}}\n",
       "\n",
       "// Listen for the clearing of the current output cell\n",
       "var outputEl = gd.closest('.output');\n",
       "if (outputEl) {{\n",
       "    x.observe(outputEl, {childList: true});\n",
       "}}\n",
       "\n",
       "                        })                };                });            </script>        </div>"
      ]
     },
     "metadata": {},
     "output_type": "display_data"
    }
   ],
   "source": [
    "\n",
    "df2 = pd.DataFrame(columns = df.columns.tolist())\n",
    "\n",
    "for country in df.location.unique().tolist():\n",
    "    df1 = df.loc[df.location == country].tail(1)\n",
    "    df2 = df2.append(df1)\n",
    "\n",
    "df2.dropna(subset=['total_cases'],inplace=True)\n",
    "\n",
    "fig = go.Figure()\n",
    "\n",
    "labels = df2['location'].tolist()\n",
    "parents = df2['continent'].tolist()\n",
    "values = df2['total_cases'].tolist()\n",
    "\n",
    "fig = go.Figure(go.Treemap(\n",
    "    labels = labels,\n",
    "    values = values,\n",
    "    parents = parents,\n",
    "    marker_colorscale = 'Blues'))\n",
    "\n",
    "\n",
    "fig.show()"
   ]
  },
  {
   "cell_type": "code",
   "execution_count": 74,
   "id": "modular-orbit",
   "metadata": {},
   "outputs": [
    {
     "data": {
      "application/vnd.plotly.v1+json": {
       "config": {
        "plotlyServerURL": "https://plot.ly"
       },
       "data": [
        {
         "labels": [
          "Afghanistan",
          "Albania",
          "Algeria",
          "Andorra",
          "Angola",
          "Antigua and Barbuda",
          "Argentina",
          "Armenia",
          "Australia",
          "Austria",
          "Azerbaijan",
          "Bahamas",
          "Bahrain",
          "Bangladesh",
          "Barbados",
          "Belarus",
          "Belgium",
          "Belize",
          "Benin",
          "Bhutan",
          "Bolivia",
          "Bosnia and Herzegovina",
          "Botswana",
          "Brazil",
          "Brunei",
          "Bulgaria",
          "Burkina Faso",
          "Burundi",
          "Cambodia",
          "Cameroon",
          "Canada",
          "Cape Verde",
          "Central African Republic",
          "Chad",
          "Chile",
          "China",
          "Colombia",
          "Comoros",
          "Congo",
          "Costa Rica",
          "Cote d'Ivoire",
          "Croatia",
          "Cuba",
          "Cyprus",
          "Czechia",
          "Democratic Republic of Congo",
          "Denmark",
          "Djibouti",
          "Dominica",
          "Dominican Republic",
          "Ecuador",
          "Egypt",
          "El Salvador",
          "Equatorial Guinea",
          "Eritrea",
          "Estonia",
          "Eswatini",
          "Ethiopia",
          "Fiji",
          "Finland",
          "France",
          "Gabon",
          "Gambia",
          "Georgia",
          "Germany",
          "Ghana",
          "Greece",
          "Grenada",
          "Guatemala",
          "Guinea",
          "Guinea-Bissau",
          "Guyana",
          "Haiti",
          "Honduras",
          "Hungary",
          "Iceland",
          "India",
          "Indonesia",
          "Iran",
          "Iraq",
          "Ireland",
          "Israel",
          "Italy",
          "Jamaica",
          "Japan",
          "Jordan",
          "Kazakhstan",
          "Kenya",
          "Kosovo",
          "Kuwait",
          "Kyrgyzstan",
          "Laos",
          "Latvia",
          "Lebanon",
          "Lesotho",
          "Liberia",
          "Libya",
          "Liechtenstein",
          "Lithuania",
          "Luxembourg",
          "Madagascar",
          "Malawi",
          "Malaysia",
          "Maldives",
          "Mali",
          "Malta",
          "Marshall Islands",
          "Mauritania",
          "Mauritius",
          "Mexico",
          "Micronesia (country)",
          "Moldova",
          "Monaco",
          "Mongolia",
          "Montenegro",
          "Morocco",
          "Mozambique",
          "Myanmar",
          "Namibia",
          "Nepal",
          "Netherlands",
          "New Zealand",
          "Nicaragua",
          "Niger",
          "Nigeria",
          "North Macedonia",
          "Norway",
          "Oman",
          "Pakistan",
          "Palestine",
          "Panama",
          "Papua New Guinea",
          "Paraguay",
          "Peru",
          "Philippines",
          "Poland",
          "Portugal",
          "Qatar",
          "Romania",
          "Russia",
          "Rwanda",
          "Saint Kitts and Nevis",
          "Saint Lucia",
          "Saint Vincent and the Grenadines",
          "Samoa",
          "San Marino",
          "Sao Tome and Principe",
          "Saudi Arabia",
          "Senegal",
          "Serbia",
          "Seychelles",
          "Sierra Leone",
          "Singapore",
          "Slovakia",
          "Slovenia",
          "Solomon Islands",
          "Somalia",
          "South Africa",
          "South Korea",
          "South Sudan",
          "Spain",
          "Sri Lanka",
          "Sudan",
          "Suriname",
          "Sweden",
          "Switzerland",
          "Syria",
          "Taiwan",
          "Tajikistan",
          "Tanzania",
          "Thailand",
          "Timor",
          "Togo",
          "Trinidad and Tobago",
          "Tunisia",
          "Turkey",
          "Uganda",
          "Ukraine",
          "United Arab Emirates",
          "United Kingdom",
          "United States",
          "Uruguay",
          "Uzbekistan",
          "Vanuatu",
          "Vatican",
          "Venezuela",
          "Vietnam",
          "Yemen",
          "Zambia",
          "Zimbabwe"
         ],
         "parents": [
          "Asia",
          "Europe",
          "Africa",
          "Europe",
          "Africa",
          "North America",
          "South America",
          "Asia",
          "Oceania",
          "Europe",
          "Asia",
          "North America",
          "Asia",
          "Asia",
          "North America",
          "Europe",
          "Europe",
          "North America",
          "Africa",
          "Asia",
          "South America",
          "Europe",
          "Africa",
          "South America",
          "Asia",
          "Europe",
          "Africa",
          "Africa",
          "Asia",
          "Africa",
          "North America",
          "Africa",
          "Africa",
          "Africa",
          "South America",
          "Asia",
          "South America",
          "Africa",
          "Africa",
          "North America",
          "Africa",
          "Europe",
          "North America",
          "Europe",
          "Europe",
          "Africa",
          "Europe",
          "Africa",
          "North America",
          "North America",
          "South America",
          "Africa",
          "North America",
          "Africa",
          "Africa",
          "Europe",
          "Africa",
          "Africa",
          "Oceania",
          "Europe",
          "Europe",
          "Africa",
          "Africa",
          "Asia",
          "Europe",
          "Africa",
          "Europe",
          "North America",
          "North America",
          "Africa",
          "Africa",
          "South America",
          "North America",
          "North America",
          "Europe",
          "Europe",
          "Asia",
          "Asia",
          "Asia",
          "Asia",
          "Europe",
          "Asia",
          "Europe",
          "North America",
          "Asia",
          "Asia",
          "Asia",
          "Africa",
          "Europe",
          "Asia",
          "Asia",
          "Asia",
          "Europe",
          "Asia",
          "Africa",
          "Africa",
          "Africa",
          "Europe",
          "Europe",
          "Europe",
          "Africa",
          "Africa",
          "Asia",
          "Asia",
          "Africa",
          "Europe",
          "Oceania",
          "Africa",
          "Africa",
          "North America",
          "Oceania",
          "Europe",
          "Europe",
          "Asia",
          "Europe",
          "Africa",
          "Africa",
          "Asia",
          "Africa",
          "Asia",
          "Europe",
          "Oceania",
          "North America",
          "Africa",
          "Africa",
          "Europe",
          "Europe",
          "Asia",
          "Asia",
          "Asia",
          "North America",
          "Oceania",
          "South America",
          "South America",
          "Asia",
          "Europe",
          "Europe",
          "Asia",
          "Europe",
          "Europe",
          "Africa",
          "North America",
          "North America",
          "North America",
          "Oceania",
          "Europe",
          "Africa",
          "Asia",
          "Africa",
          "Europe",
          "Africa",
          "Africa",
          "Asia",
          "Europe",
          "Europe",
          "Oceania",
          "Africa",
          "Africa",
          "Asia",
          "Africa",
          "Europe",
          "Asia",
          "Africa",
          "South America",
          "Europe",
          "Europe",
          "Asia",
          "Asia",
          "Asia",
          "Africa",
          "Asia",
          "Asia",
          "Africa",
          "North America",
          "Africa",
          "Asia",
          "Africa",
          "Europe",
          "Asia",
          "Europe",
          "North America",
          "South America",
          "Asia",
          "Oceania",
          "Europe",
          "South America",
          "Asia",
          "Asia",
          "Africa",
          "Africa"
         ],
         "type": "sunburst",
         "values": [
          55580,
          99062,
          111764,
          10672,
          20499,
          598,
          2060625,
          170234,
          28926,
          443536,
          232973,
          8403,
          117234,
          543024,
          2715,
          276990,
          752379,
          12244,
          5143,
          866,
          241771,
          127537,
          26524,
          10139148,
          185,
          236439,
          11783,
          1983,
          533,
          33749,
          848330,
          14999,
          5001,
          3794,
          795845,
          100727,
          2222018,
          3490,
          8419,
          201678,
          31914,
          239685,
          43484,
          33153,
          1146321,
          25080,
          207769,
          6022,
          134,
          234502,
          273097,
          177543,
          58546,
          5798,
          2685,
          57033,
          16764,
          151857,
          56,
          53285,
          3597113,
          13553,
          4554,
          268097,
          2388421,
          79655,
          178918,
          148,
          170931,
          15395,
          3091,
          8399,
          12254,
          164495,
          400111,
          6045,
          10991651,
          1271353,
          1566081,
          664750,
          214378,
          744513,
          2795796,
          20924,
          423952,
          359811,
          256388,
          103993,
          65450,
          183322,
          85831,
          45,
          81109,
          353371,
          10461,
          1988,
          129325,
          2545,
          193562,
          53782,
          19598,
          30528,
          280272,
          18612,
          8292,
          20762,
          4,
          17083,
          603,
          2038276,
          1,
          176245,
          1862,
          2638,
          71593,
          480948,
          54968,
          141735,
          37295,
          273351,
          1066522,
          2350,
          6398,
          4733,
          151553,
          99031,
          68315,
          138494,
          571174,
          172315,
          336037,
          970,
          150731,
          1269523,
          559288,
          1631727,
          796339,
          159967,
          777276,
          4105424,
          17988,
          41,
          2860,
          1498,
          3,
          3472,
          1578,
          374691,
          32630,
          434122,
          2328,
          3849,
          59858,
          290457,
          184352,
          18,
          5889,
          1502367,
          86992,
          6417,
          3133122,
          79480,
          30128,
          8856,
          631166,
          547775,
          15143,
          942,
          13308,
          509,
          25323,
          103,
          6268,
          7676,
          227643,
          2631876,
          40199,
          1346527,
          368175,
          4117739,
          28077620,
          52163,
          79632,
          1,
          27,
          135603,
          2368,
          2157,
          73894,
          35768
         ]
        },
        {
         "labels": [
          "Afghanistan",
          "Albania",
          "Algeria",
          "Andorra",
          "Angola",
          "Antigua and Barbuda",
          "Argentina",
          "Armenia",
          "Australia",
          "Austria",
          "Azerbaijan",
          "Bahamas",
          "Bahrain",
          "Bangladesh",
          "Barbados",
          "Belarus",
          "Belgium",
          "Belize",
          "Benin",
          "Bhutan",
          "Bolivia",
          "Bosnia and Herzegovina",
          "Botswana",
          "Brazil",
          "Brunei",
          "Bulgaria",
          "Burkina Faso",
          "Burundi",
          "Cambodia",
          "Cameroon",
          "Canada",
          "Cape Verde",
          "Central African Republic",
          "Chad",
          "Chile",
          "China",
          "Colombia",
          "Comoros",
          "Congo",
          "Costa Rica",
          "Cote d'Ivoire",
          "Croatia",
          "Cuba",
          "Cyprus",
          "Czechia",
          "Democratic Republic of Congo",
          "Denmark",
          "Djibouti",
          "Dominica",
          "Dominican Republic",
          "Ecuador",
          "Egypt",
          "El Salvador",
          "Equatorial Guinea",
          "Eritrea",
          "Estonia",
          "Eswatini",
          "Ethiopia",
          "Fiji",
          "Finland",
          "France",
          "Gabon",
          "Gambia",
          "Georgia",
          "Germany",
          "Ghana",
          "Greece",
          "Grenada",
          "Guatemala",
          "Guinea",
          "Guinea-Bissau",
          "Guyana",
          "Haiti",
          "Honduras",
          "Hungary",
          "Iceland",
          "India",
          "Indonesia",
          "Iran",
          "Iraq",
          "Ireland",
          "Israel",
          "Italy",
          "Jamaica",
          "Japan",
          "Jordan",
          "Kazakhstan",
          "Kenya",
          "Kosovo",
          "Kuwait",
          "Kyrgyzstan",
          "Laos",
          "Latvia",
          "Lebanon",
          "Lesotho",
          "Liberia",
          "Libya",
          "Liechtenstein",
          "Lithuania",
          "Luxembourg",
          "Madagascar",
          "Malawi",
          "Malaysia",
          "Maldives",
          "Mali",
          "Malta",
          "Marshall Islands",
          "Mauritania",
          "Mauritius",
          "Mexico",
          "Micronesia (country)",
          "Moldova",
          "Monaco",
          "Mongolia",
          "Montenegro",
          "Morocco",
          "Mozambique",
          "Myanmar",
          "Namibia",
          "Nepal",
          "Netherlands",
          "New Zealand",
          "Nicaragua",
          "Niger",
          "Nigeria",
          "North Macedonia",
          "Norway",
          "Oman",
          "Pakistan",
          "Palestine",
          "Panama",
          "Papua New Guinea",
          "Paraguay",
          "Peru",
          "Philippines",
          "Poland",
          "Portugal",
          "Qatar",
          "Romania",
          "Russia",
          "Rwanda",
          "Saint Kitts and Nevis",
          "Saint Lucia",
          "Saint Vincent and the Grenadines",
          "Samoa",
          "San Marino",
          "Sao Tome and Principe",
          "Saudi Arabia",
          "Senegal",
          "Serbia",
          "Seychelles",
          "Sierra Leone",
          "Singapore",
          "Slovakia",
          "Slovenia",
          "Solomon Islands",
          "Somalia",
          "South Africa",
          "South Korea",
          "South Sudan",
          "Spain",
          "Sri Lanka",
          "Sudan",
          "Suriname",
          "Sweden",
          "Switzerland",
          "Syria",
          "Taiwan",
          "Tajikistan",
          "Tanzania",
          "Thailand",
          "Timor",
          "Togo",
          "Trinidad and Tobago",
          "Tunisia",
          "Turkey",
          "Uganda",
          "Ukraine",
          "United Arab Emirates",
          "United Kingdom",
          "United States",
          "Uruguay",
          "Uzbekistan",
          "Vanuatu",
          "Vatican",
          "Venezuela",
          "Vietnam",
          "Yemen",
          "Zambia",
          "Zimbabwe"
         ],
         "parents": [
          "Asia",
          "Europe",
          "Africa",
          "Europe",
          "Africa",
          "North America",
          "South America",
          "Asia",
          "Oceania",
          "Europe",
          "Asia",
          "North America",
          "Asia",
          "Asia",
          "North America",
          "Europe",
          "Europe",
          "North America",
          "Africa",
          "Asia",
          "South America",
          "Europe",
          "Africa",
          "South America",
          "Asia",
          "Europe",
          "Africa",
          "Africa",
          "Asia",
          "Africa",
          "North America",
          "Africa",
          "Africa",
          "Africa",
          "South America",
          "Asia",
          "South America",
          "Africa",
          "Africa",
          "North America",
          "Africa",
          "Europe",
          "North America",
          "Europe",
          "Europe",
          "Africa",
          "Europe",
          "Africa",
          "North America",
          "North America",
          "South America",
          "Africa",
          "North America",
          "Africa",
          "Africa",
          "Europe",
          "Africa",
          "Africa",
          "Oceania",
          "Europe",
          "Europe",
          "Africa",
          "Africa",
          "Asia",
          "Europe",
          "Africa",
          "Europe",
          "North America",
          "North America",
          "Africa",
          "Africa",
          "South America",
          "North America",
          "North America",
          "Europe",
          "Europe",
          "Asia",
          "Asia",
          "Asia",
          "Asia",
          "Europe",
          "Asia",
          "Europe",
          "North America",
          "Asia",
          "Asia",
          "Asia",
          "Africa",
          "Europe",
          "Asia",
          "Asia",
          "Asia",
          "Europe",
          "Asia",
          "Africa",
          "Africa",
          "Africa",
          "Europe",
          "Europe",
          "Europe",
          "Africa",
          "Africa",
          "Asia",
          "Asia",
          "Africa",
          "Europe",
          "Oceania",
          "Africa",
          "Africa",
          "North America",
          "Oceania",
          "Europe",
          "Europe",
          "Asia",
          "Europe",
          "Africa",
          "Africa",
          "Asia",
          "Africa",
          "Asia",
          "Europe",
          "Oceania",
          "North America",
          "Africa",
          "Africa",
          "Europe",
          "Europe",
          "Asia",
          "Asia",
          "Asia",
          "North America",
          "Oceania",
          "South America",
          "South America",
          "Asia",
          "Europe",
          "Europe",
          "Asia",
          "Europe",
          "Europe",
          "Africa",
          "North America",
          "North America",
          "North America",
          "Oceania",
          "Europe",
          "Africa",
          "Asia",
          "Africa",
          "Europe",
          "Africa",
          "Africa",
          "Asia",
          "Europe",
          "Europe",
          "Oceania",
          "Africa",
          "Africa",
          "Asia",
          "Africa",
          "Europe",
          "Asia",
          "Africa",
          "South America",
          "Europe",
          "Europe",
          "Asia",
          "Asia",
          "Asia",
          "Africa",
          "Asia",
          "Asia",
          "Africa",
          "North America",
          "Africa",
          "Asia",
          "Africa",
          "Europe",
          "Asia",
          "Europe",
          "North America",
          "South America",
          "Asia",
          "Oceania",
          "Europe",
          "South America",
          "Asia",
          "Asia",
          "Africa",
          "Africa"
         ],
         "type": "sunburst",
         "values": [
          55580,
          99062,
          111764,
          10672,
          20499,
          598,
          2060625,
          170234,
          28926,
          443536,
          232973,
          8403,
          117234,
          543024,
          2715,
          276990,
          752379,
          12244,
          5143,
          866,
          241771,
          127537,
          26524,
          10139148,
          185,
          236439,
          11783,
          1983,
          533,
          33749,
          848330,
          14999,
          5001,
          3794,
          795845,
          100727,
          2222018,
          3490,
          8419,
          201678,
          31914,
          239685,
          43484,
          33153,
          1146321,
          25080,
          207769,
          6022,
          134,
          234502,
          273097,
          177543,
          58546,
          5798,
          2685,
          57033,
          16764,
          151857,
          56,
          53285,
          3597113,
          13553,
          4554,
          268097,
          2388421,
          79655,
          178918,
          148,
          170931,
          15395,
          3091,
          8399,
          12254,
          164495,
          400111,
          6045,
          10991651,
          1271353,
          1566081,
          664750,
          214378,
          744513,
          2795796,
          20924,
          423952,
          359811,
          256388,
          103993,
          65450,
          183322,
          85831,
          45,
          81109,
          353371,
          10461,
          1988,
          129325,
          2545,
          193562,
          53782,
          19598,
          30528,
          280272,
          18612,
          8292,
          20762,
          4,
          17083,
          603,
          2038276,
          1,
          176245,
          1862,
          2638,
          71593,
          480948,
          54968,
          141735,
          37295,
          273351,
          1066522,
          2350,
          6398,
          4733,
          151553,
          99031,
          68315,
          138494,
          571174,
          172315,
          336037,
          970,
          150731,
          1269523,
          559288,
          1631727,
          796339,
          159967,
          777276,
          4105424,
          17988,
          41,
          2860,
          1498,
          3,
          3472,
          1578,
          374691,
          32630,
          434122,
          2328,
          3849,
          59858,
          290457,
          184352,
          18,
          5889,
          1502367,
          86992,
          6417,
          3133122,
          79480,
          30128,
          8856,
          631166,
          547775,
          15143,
          942,
          13308,
          509,
          25323,
          103,
          6268,
          7676,
          227643,
          2631876,
          40199,
          1346527,
          368175,
          4117739,
          28077620,
          52163,
          79632,
          1,
          27,
          135603,
          2368,
          2157,
          73894,
          35768
         ]
        }
       ],
       "layout": {
        "template": {
         "data": {
          "bar": [
           {
            "error_x": {
             "color": "#2a3f5f"
            },
            "error_y": {
             "color": "#2a3f5f"
            },
            "marker": {
             "line": {
              "color": "#E5ECF6",
              "width": 0.5
             }
            },
            "type": "bar"
           }
          ],
          "barpolar": [
           {
            "marker": {
             "line": {
              "color": "#E5ECF6",
              "width": 0.5
             }
            },
            "type": "barpolar"
           }
          ],
          "carpet": [
           {
            "aaxis": {
             "endlinecolor": "#2a3f5f",
             "gridcolor": "white",
             "linecolor": "white",
             "minorgridcolor": "white",
             "startlinecolor": "#2a3f5f"
            },
            "baxis": {
             "endlinecolor": "#2a3f5f",
             "gridcolor": "white",
             "linecolor": "white",
             "minorgridcolor": "white",
             "startlinecolor": "#2a3f5f"
            },
            "type": "carpet"
           }
          ],
          "choropleth": [
           {
            "colorbar": {
             "outlinewidth": 0,
             "ticks": ""
            },
            "type": "choropleth"
           }
          ],
          "contour": [
           {
            "colorbar": {
             "outlinewidth": 0,
             "ticks": ""
            },
            "colorscale": [
             [
              0,
              "#0d0887"
             ],
             [
              0.1111111111111111,
              "#46039f"
             ],
             [
              0.2222222222222222,
              "#7201a8"
             ],
             [
              0.3333333333333333,
              "#9c179e"
             ],
             [
              0.4444444444444444,
              "#bd3786"
             ],
             [
              0.5555555555555556,
              "#d8576b"
             ],
             [
              0.6666666666666666,
              "#ed7953"
             ],
             [
              0.7777777777777778,
              "#fb9f3a"
             ],
             [
              0.8888888888888888,
              "#fdca26"
             ],
             [
              1,
              "#f0f921"
             ]
            ],
            "type": "contour"
           }
          ],
          "contourcarpet": [
           {
            "colorbar": {
             "outlinewidth": 0,
             "ticks": ""
            },
            "type": "contourcarpet"
           }
          ],
          "heatmap": [
           {
            "colorbar": {
             "outlinewidth": 0,
             "ticks": ""
            },
            "colorscale": [
             [
              0,
              "#0d0887"
             ],
             [
              0.1111111111111111,
              "#46039f"
             ],
             [
              0.2222222222222222,
              "#7201a8"
             ],
             [
              0.3333333333333333,
              "#9c179e"
             ],
             [
              0.4444444444444444,
              "#bd3786"
             ],
             [
              0.5555555555555556,
              "#d8576b"
             ],
             [
              0.6666666666666666,
              "#ed7953"
             ],
             [
              0.7777777777777778,
              "#fb9f3a"
             ],
             [
              0.8888888888888888,
              "#fdca26"
             ],
             [
              1,
              "#f0f921"
             ]
            ],
            "type": "heatmap"
           }
          ],
          "heatmapgl": [
           {
            "colorbar": {
             "outlinewidth": 0,
             "ticks": ""
            },
            "colorscale": [
             [
              0,
              "#0d0887"
             ],
             [
              0.1111111111111111,
              "#46039f"
             ],
             [
              0.2222222222222222,
              "#7201a8"
             ],
             [
              0.3333333333333333,
              "#9c179e"
             ],
             [
              0.4444444444444444,
              "#bd3786"
             ],
             [
              0.5555555555555556,
              "#d8576b"
             ],
             [
              0.6666666666666666,
              "#ed7953"
             ],
             [
              0.7777777777777778,
              "#fb9f3a"
             ],
             [
              0.8888888888888888,
              "#fdca26"
             ],
             [
              1,
              "#f0f921"
             ]
            ],
            "type": "heatmapgl"
           }
          ],
          "histogram": [
           {
            "marker": {
             "colorbar": {
              "outlinewidth": 0,
              "ticks": ""
             }
            },
            "type": "histogram"
           }
          ],
          "histogram2d": [
           {
            "colorbar": {
             "outlinewidth": 0,
             "ticks": ""
            },
            "colorscale": [
             [
              0,
              "#0d0887"
             ],
             [
              0.1111111111111111,
              "#46039f"
             ],
             [
              0.2222222222222222,
              "#7201a8"
             ],
             [
              0.3333333333333333,
              "#9c179e"
             ],
             [
              0.4444444444444444,
              "#bd3786"
             ],
             [
              0.5555555555555556,
              "#d8576b"
             ],
             [
              0.6666666666666666,
              "#ed7953"
             ],
             [
              0.7777777777777778,
              "#fb9f3a"
             ],
             [
              0.8888888888888888,
              "#fdca26"
             ],
             [
              1,
              "#f0f921"
             ]
            ],
            "type": "histogram2d"
           }
          ],
          "histogram2dcontour": [
           {
            "colorbar": {
             "outlinewidth": 0,
             "ticks": ""
            },
            "colorscale": [
             [
              0,
              "#0d0887"
             ],
             [
              0.1111111111111111,
              "#46039f"
             ],
             [
              0.2222222222222222,
              "#7201a8"
             ],
             [
              0.3333333333333333,
              "#9c179e"
             ],
             [
              0.4444444444444444,
              "#bd3786"
             ],
             [
              0.5555555555555556,
              "#d8576b"
             ],
             [
              0.6666666666666666,
              "#ed7953"
             ],
             [
              0.7777777777777778,
              "#fb9f3a"
             ],
             [
              0.8888888888888888,
              "#fdca26"
             ],
             [
              1,
              "#f0f921"
             ]
            ],
            "type": "histogram2dcontour"
           }
          ],
          "mesh3d": [
           {
            "colorbar": {
             "outlinewidth": 0,
             "ticks": ""
            },
            "type": "mesh3d"
           }
          ],
          "parcoords": [
           {
            "line": {
             "colorbar": {
              "outlinewidth": 0,
              "ticks": ""
             }
            },
            "type": "parcoords"
           }
          ],
          "pie": [
           {
            "automargin": true,
            "type": "pie"
           }
          ],
          "scatter": [
           {
            "marker": {
             "colorbar": {
              "outlinewidth": 0,
              "ticks": ""
             }
            },
            "type": "scatter"
           }
          ],
          "scatter3d": [
           {
            "line": {
             "colorbar": {
              "outlinewidth": 0,
              "ticks": ""
             }
            },
            "marker": {
             "colorbar": {
              "outlinewidth": 0,
              "ticks": ""
             }
            },
            "type": "scatter3d"
           }
          ],
          "scattercarpet": [
           {
            "marker": {
             "colorbar": {
              "outlinewidth": 0,
              "ticks": ""
             }
            },
            "type": "scattercarpet"
           }
          ],
          "scattergeo": [
           {
            "marker": {
             "colorbar": {
              "outlinewidth": 0,
              "ticks": ""
             }
            },
            "type": "scattergeo"
           }
          ],
          "scattergl": [
           {
            "marker": {
             "colorbar": {
              "outlinewidth": 0,
              "ticks": ""
             }
            },
            "type": "scattergl"
           }
          ],
          "scattermapbox": [
           {
            "marker": {
             "colorbar": {
              "outlinewidth": 0,
              "ticks": ""
             }
            },
            "type": "scattermapbox"
           }
          ],
          "scatterpolar": [
           {
            "marker": {
             "colorbar": {
              "outlinewidth": 0,
              "ticks": ""
             }
            },
            "type": "scatterpolar"
           }
          ],
          "scatterpolargl": [
           {
            "marker": {
             "colorbar": {
              "outlinewidth": 0,
              "ticks": ""
             }
            },
            "type": "scatterpolargl"
           }
          ],
          "scatterternary": [
           {
            "marker": {
             "colorbar": {
              "outlinewidth": 0,
              "ticks": ""
             }
            },
            "type": "scatterternary"
           }
          ],
          "surface": [
           {
            "colorbar": {
             "outlinewidth": 0,
             "ticks": ""
            },
            "colorscale": [
             [
              0,
              "#0d0887"
             ],
             [
              0.1111111111111111,
              "#46039f"
             ],
             [
              0.2222222222222222,
              "#7201a8"
             ],
             [
              0.3333333333333333,
              "#9c179e"
             ],
             [
              0.4444444444444444,
              "#bd3786"
             ],
             [
              0.5555555555555556,
              "#d8576b"
             ],
             [
              0.6666666666666666,
              "#ed7953"
             ],
             [
              0.7777777777777778,
              "#fb9f3a"
             ],
             [
              0.8888888888888888,
              "#fdca26"
             ],
             [
              1,
              "#f0f921"
             ]
            ],
            "type": "surface"
           }
          ],
          "table": [
           {
            "cells": {
             "fill": {
              "color": "#EBF0F8"
             },
             "line": {
              "color": "white"
             }
            },
            "header": {
             "fill": {
              "color": "#C8D4E3"
             },
             "line": {
              "color": "white"
             }
            },
            "type": "table"
           }
          ]
         },
         "layout": {
          "annotationdefaults": {
           "arrowcolor": "#2a3f5f",
           "arrowhead": 0,
           "arrowwidth": 1
          },
          "autotypenumbers": "strict",
          "coloraxis": {
           "colorbar": {
            "outlinewidth": 0,
            "ticks": ""
           }
          },
          "colorscale": {
           "diverging": [
            [
             0,
             "#8e0152"
            ],
            [
             0.1,
             "#c51b7d"
            ],
            [
             0.2,
             "#de77ae"
            ],
            [
             0.3,
             "#f1b6da"
            ],
            [
             0.4,
             "#fde0ef"
            ],
            [
             0.5,
             "#f7f7f7"
            ],
            [
             0.6,
             "#e6f5d0"
            ],
            [
             0.7,
             "#b8e186"
            ],
            [
             0.8,
             "#7fbc41"
            ],
            [
             0.9,
             "#4d9221"
            ],
            [
             1,
             "#276419"
            ]
           ],
           "sequential": [
            [
             0,
             "#0d0887"
            ],
            [
             0.1111111111111111,
             "#46039f"
            ],
            [
             0.2222222222222222,
             "#7201a8"
            ],
            [
             0.3333333333333333,
             "#9c179e"
            ],
            [
             0.4444444444444444,
             "#bd3786"
            ],
            [
             0.5555555555555556,
             "#d8576b"
            ],
            [
             0.6666666666666666,
             "#ed7953"
            ],
            [
             0.7777777777777778,
             "#fb9f3a"
            ],
            [
             0.8888888888888888,
             "#fdca26"
            ],
            [
             1,
             "#f0f921"
            ]
           ],
           "sequentialminus": [
            [
             0,
             "#0d0887"
            ],
            [
             0.1111111111111111,
             "#46039f"
            ],
            [
             0.2222222222222222,
             "#7201a8"
            ],
            [
             0.3333333333333333,
             "#9c179e"
            ],
            [
             0.4444444444444444,
             "#bd3786"
            ],
            [
             0.5555555555555556,
             "#d8576b"
            ],
            [
             0.6666666666666666,
             "#ed7953"
            ],
            [
             0.7777777777777778,
             "#fb9f3a"
            ],
            [
             0.8888888888888888,
             "#fdca26"
            ],
            [
             1,
             "#f0f921"
            ]
           ]
          },
          "colorway": [
           "#636efa",
           "#EF553B",
           "#00cc96",
           "#ab63fa",
           "#FFA15A",
           "#19d3f3",
           "#FF6692",
           "#B6E880",
           "#FF97FF",
           "#FECB52"
          ],
          "font": {
           "color": "#2a3f5f"
          },
          "geo": {
           "bgcolor": "white",
           "lakecolor": "white",
           "landcolor": "#E5ECF6",
           "showlakes": true,
           "showland": true,
           "subunitcolor": "white"
          },
          "hoverlabel": {
           "align": "left"
          },
          "hovermode": "closest",
          "mapbox": {
           "style": "light"
          },
          "paper_bgcolor": "white",
          "plot_bgcolor": "#E5ECF6",
          "polar": {
           "angularaxis": {
            "gridcolor": "white",
            "linecolor": "white",
            "ticks": ""
           },
           "bgcolor": "#E5ECF6",
           "radialaxis": {
            "gridcolor": "white",
            "linecolor": "white",
            "ticks": ""
           }
          },
          "scene": {
           "xaxis": {
            "backgroundcolor": "#E5ECF6",
            "gridcolor": "white",
            "gridwidth": 2,
            "linecolor": "white",
            "showbackground": true,
            "ticks": "",
            "zerolinecolor": "white"
           },
           "yaxis": {
            "backgroundcolor": "#E5ECF6",
            "gridcolor": "white",
            "gridwidth": 2,
            "linecolor": "white",
            "showbackground": true,
            "ticks": "",
            "zerolinecolor": "white"
           },
           "zaxis": {
            "backgroundcolor": "#E5ECF6",
            "gridcolor": "white",
            "gridwidth": 2,
            "linecolor": "white",
            "showbackground": true,
            "ticks": "",
            "zerolinecolor": "white"
           }
          },
          "shapedefaults": {
           "line": {
            "color": "#2a3f5f"
           }
          },
          "ternary": {
           "aaxis": {
            "gridcolor": "white",
            "linecolor": "white",
            "ticks": ""
           },
           "baxis": {
            "gridcolor": "white",
            "linecolor": "white",
            "ticks": ""
           },
           "bgcolor": "#E5ECF6",
           "caxis": {
            "gridcolor": "white",
            "linecolor": "white",
            "ticks": ""
           }
          },
          "title": {
           "x": 0.05
          },
          "xaxis": {
           "automargin": true,
           "gridcolor": "white",
           "linecolor": "white",
           "ticks": "",
           "title": {
            "standoff": 15
           },
           "zerolinecolor": "white",
           "zerolinewidth": 2
          },
          "yaxis": {
           "automargin": true,
           "gridcolor": "white",
           "linecolor": "white",
           "ticks": "",
           "title": {
            "standoff": 15
           },
           "zerolinecolor": "white",
           "zerolinewidth": 2
          }
         }
        },
        "updatemenus": [
         {
          "active": 0,
          "buttons": [
           {
            "args": [
             {
              "visible": [
               true,
               true,
               true,
               true
              ]
             },
             {
              "showlegend": true,
              "title": "All"
             }
            ],
            "label": "All",
            "method": "update"
           },
           {
            "args": [
             {
              "visible": [
               true,
               false,
               false,
               false
              ]
             },
             {
              "showlegend": true,
              "title": "Continent"
             }
            ],
            "label": "continent",
            "method": "update"
           },
           {
            "args": [
             {
              "visible": [
               false,
               true,
               false,
               false
              ]
             },
             {
              "showlegend": true,
              "title": "location"
             }
            ],
            "label": "location",
            "method": "update"
           }
          ]
         }
        ]
       }
      },
      "text/html": [
       "<div>                            <div id=\"8c771915-12ad-4876-bab1-41e31f1923ec\" class=\"plotly-graph-div\" style=\"height:525px; width:100%;\"></div>            <script type=\"text/javascript\">                require([\"plotly\"], function(Plotly) {                    window.PLOTLYENV=window.PLOTLYENV || {};                                    if (document.getElementById(\"8c771915-12ad-4876-bab1-41e31f1923ec\")) {                    Plotly.newPlot(                        \"8c771915-12ad-4876-bab1-41e31f1923ec\",                        [{\"labels\": [\"Afghanistan\", \"Albania\", \"Algeria\", \"Andorra\", \"Angola\", \"Antigua and Barbuda\", \"Argentina\", \"Armenia\", \"Australia\", \"Austria\", \"Azerbaijan\", \"Bahamas\", \"Bahrain\", \"Bangladesh\", \"Barbados\", \"Belarus\", \"Belgium\", \"Belize\", \"Benin\", \"Bhutan\", \"Bolivia\", \"Bosnia and Herzegovina\", \"Botswana\", \"Brazil\", \"Brunei\", \"Bulgaria\", \"Burkina Faso\", \"Burundi\", \"Cambodia\", \"Cameroon\", \"Canada\", \"Cape Verde\", \"Central African Republic\", \"Chad\", \"Chile\", \"China\", \"Colombia\", \"Comoros\", \"Congo\", \"Costa Rica\", \"Cote d'Ivoire\", \"Croatia\", \"Cuba\", \"Cyprus\", \"Czechia\", \"Democratic Republic of Congo\", \"Denmark\", \"Djibouti\", \"Dominica\", \"Dominican Republic\", \"Ecuador\", \"Egypt\", \"El Salvador\", \"Equatorial Guinea\", \"Eritrea\", \"Estonia\", \"Eswatini\", \"Ethiopia\", \"Fiji\", \"Finland\", \"France\", \"Gabon\", \"Gambia\", \"Georgia\", \"Germany\", \"Ghana\", \"Greece\", \"Grenada\", \"Guatemala\", \"Guinea\", \"Guinea-Bissau\", \"Guyana\", \"Haiti\", \"Honduras\", \"Hungary\", \"Iceland\", \"India\", \"Indonesia\", \"Iran\", \"Iraq\", \"Ireland\", \"Israel\", \"Italy\", \"Jamaica\", \"Japan\", \"Jordan\", \"Kazakhstan\", \"Kenya\", \"Kosovo\", \"Kuwait\", \"Kyrgyzstan\", \"Laos\", \"Latvia\", \"Lebanon\", \"Lesotho\", \"Liberia\", \"Libya\", \"Liechtenstein\", \"Lithuania\", \"Luxembourg\", \"Madagascar\", \"Malawi\", \"Malaysia\", \"Maldives\", \"Mali\", \"Malta\", \"Marshall Islands\", \"Mauritania\", \"Mauritius\", \"Mexico\", \"Micronesia (country)\", \"Moldova\", \"Monaco\", \"Mongolia\", \"Montenegro\", \"Morocco\", \"Mozambique\", \"Myanmar\", \"Namibia\", \"Nepal\", \"Netherlands\", \"New Zealand\", \"Nicaragua\", \"Niger\", \"Nigeria\", \"North Macedonia\", \"Norway\", \"Oman\", \"Pakistan\", \"Palestine\", \"Panama\", \"Papua New Guinea\", \"Paraguay\", \"Peru\", \"Philippines\", \"Poland\", \"Portugal\", \"Qatar\", \"Romania\", \"Russia\", \"Rwanda\", \"Saint Kitts and Nevis\", \"Saint Lucia\", \"Saint Vincent and the Grenadines\", \"Samoa\", \"San Marino\", \"Sao Tome and Principe\", \"Saudi Arabia\", \"Senegal\", \"Serbia\", \"Seychelles\", \"Sierra Leone\", \"Singapore\", \"Slovakia\", \"Slovenia\", \"Solomon Islands\", \"Somalia\", \"South Africa\", \"South Korea\", \"South Sudan\", \"Spain\", \"Sri Lanka\", \"Sudan\", \"Suriname\", \"Sweden\", \"Switzerland\", \"Syria\", \"Taiwan\", \"Tajikistan\", \"Tanzania\", \"Thailand\", \"Timor\", \"Togo\", \"Trinidad and Tobago\", \"Tunisia\", \"Turkey\", \"Uganda\", \"Ukraine\", \"United Arab Emirates\", \"United Kingdom\", \"United States\", \"Uruguay\", \"Uzbekistan\", \"Vanuatu\", \"Vatican\", \"Venezuela\", \"Vietnam\", \"Yemen\", \"Zambia\", \"Zimbabwe\"], \"parents\": [\"Asia\", \"Europe\", \"Africa\", \"Europe\", \"Africa\", \"North America\", \"South America\", \"Asia\", \"Oceania\", \"Europe\", \"Asia\", \"North America\", \"Asia\", \"Asia\", \"North America\", \"Europe\", \"Europe\", \"North America\", \"Africa\", \"Asia\", \"South America\", \"Europe\", \"Africa\", \"South America\", \"Asia\", \"Europe\", \"Africa\", \"Africa\", \"Asia\", \"Africa\", \"North America\", \"Africa\", \"Africa\", \"Africa\", \"South America\", \"Asia\", \"South America\", \"Africa\", \"Africa\", \"North America\", \"Africa\", \"Europe\", \"North America\", \"Europe\", \"Europe\", \"Africa\", \"Europe\", \"Africa\", \"North America\", \"North America\", \"South America\", \"Africa\", \"North America\", \"Africa\", \"Africa\", \"Europe\", \"Africa\", \"Africa\", \"Oceania\", \"Europe\", \"Europe\", \"Africa\", \"Africa\", \"Asia\", \"Europe\", \"Africa\", \"Europe\", \"North America\", \"North America\", \"Africa\", \"Africa\", \"South America\", \"North America\", \"North America\", \"Europe\", \"Europe\", \"Asia\", \"Asia\", \"Asia\", \"Asia\", \"Europe\", \"Asia\", \"Europe\", \"North America\", \"Asia\", \"Asia\", \"Asia\", \"Africa\", \"Europe\", \"Asia\", \"Asia\", \"Asia\", \"Europe\", \"Asia\", \"Africa\", \"Africa\", \"Africa\", \"Europe\", \"Europe\", \"Europe\", \"Africa\", \"Africa\", \"Asia\", \"Asia\", \"Africa\", \"Europe\", \"Oceania\", \"Africa\", \"Africa\", \"North America\", \"Oceania\", \"Europe\", \"Europe\", \"Asia\", \"Europe\", \"Africa\", \"Africa\", \"Asia\", \"Africa\", \"Asia\", \"Europe\", \"Oceania\", \"North America\", \"Africa\", \"Africa\", \"Europe\", \"Europe\", \"Asia\", \"Asia\", \"Asia\", \"North America\", \"Oceania\", \"South America\", \"South America\", \"Asia\", \"Europe\", \"Europe\", \"Asia\", \"Europe\", \"Europe\", \"Africa\", \"North America\", \"North America\", \"North America\", \"Oceania\", \"Europe\", \"Africa\", \"Asia\", \"Africa\", \"Europe\", \"Africa\", \"Africa\", \"Asia\", \"Europe\", \"Europe\", \"Oceania\", \"Africa\", \"Africa\", \"Asia\", \"Africa\", \"Europe\", \"Asia\", \"Africa\", \"South America\", \"Europe\", \"Europe\", \"Asia\", \"Asia\", \"Asia\", \"Africa\", \"Asia\", \"Asia\", \"Africa\", \"North America\", \"Africa\", \"Asia\", \"Africa\", \"Europe\", \"Asia\", \"Europe\", \"North America\", \"South America\", \"Asia\", \"Oceania\", \"Europe\", \"South America\", \"Asia\", \"Asia\", \"Africa\", \"Africa\"], \"type\": \"sunburst\", \"values\": [55580.0, 99062.0, 111764.0, 10672.0, 20499.0, 598.0, 2060625.0, 170234.0, 28926.0, 443536.0, 232973.0, 8403.0, 117234.0, 543024.0, 2715.0, 276990.0, 752379.0, 12244.0, 5143.0, 866.0, 241771.0, 127537.0, 26524.0, 10139148.0, 185.0, 236439.0, 11783.0, 1983.0, 533.0, 33749.0, 848330.0, 14999.0, 5001.0, 3794.0, 795845.0, 100727.0, 2222018.0, 3490.0, 8419.0, 201678.0, 31914.0, 239685.0, 43484.0, 33153.0, 1146321.0, 25080.0, 207769.0, 6022.0, 134.0, 234502.0, 273097.0, 177543.0, 58546.0, 5798.0, 2685.0, 57033.0, 16764.0, 151857.0, 56.0, 53285.0, 3597113.0, 13553.0, 4554.0, 268097.0, 2388421.0, 79655.0, 178918.0, 148.0, 170931.0, 15395.0, 3091.0, 8399.0, 12254.0, 164495.0, 400111.0, 6045.0, 10991651.0, 1271353.0, 1566081.0, 664750.0, 214378.0, 744513.0, 2795796.0, 20924.0, 423952.0, 359811.0, 256388.0, 103993.0, 65450.0, 183322.0, 85831.0, 45.0, 81109.0, 353371.0, 10461.0, 1988.0, 129325.0, 2545.0, 193562.0, 53782.0, 19598.0, 30528.0, 280272.0, 18612.0, 8292.0, 20762.0, 4.0, 17083.0, 603.0, 2038276.0, 1.0, 176245.0, 1862.0, 2638.0, 71593.0, 480948.0, 54968.0, 141735.0, 37295.0, 273351.0, 1066522.0, 2350.0, 6398.0, 4733.0, 151553.0, 99031.0, 68315.0, 138494.0, 571174.0, 172315.0, 336037.0, 970.0, 150731.0, 1269523.0, 559288.0, 1631727.0, 796339.0, 159967.0, 777276.0, 4105424.0, 17988.0, 41.0, 2860.0, 1498.0, 3.0, 3472.0, 1578.0, 374691.0, 32630.0, 434122.0, 2328.0, 3849.0, 59858.0, 290457.0, 184352.0, 18.0, 5889.0, 1502367.0, 86992.0, 6417.0, 3133122.0, 79480.0, 30128.0, 8856.0, 631166.0, 547775.0, 15143.0, 942.0, 13308.0, 509.0, 25323.0, 103.0, 6268.0, 7676.0, 227643.0, 2631876.0, 40199.0, 1346527.0, 368175.0, 4117739.0, 28077620.0, 52163.0, 79632.0, 1.0, 27.0, 135603.0, 2368.0, 2157.0, 73894.0, 35768.0]}, {\"labels\": [\"Afghanistan\", \"Albania\", \"Algeria\", \"Andorra\", \"Angola\", \"Antigua and Barbuda\", \"Argentina\", \"Armenia\", \"Australia\", \"Austria\", \"Azerbaijan\", \"Bahamas\", \"Bahrain\", \"Bangladesh\", \"Barbados\", \"Belarus\", \"Belgium\", \"Belize\", \"Benin\", \"Bhutan\", \"Bolivia\", \"Bosnia and Herzegovina\", \"Botswana\", \"Brazil\", \"Brunei\", \"Bulgaria\", \"Burkina Faso\", \"Burundi\", \"Cambodia\", \"Cameroon\", \"Canada\", \"Cape Verde\", \"Central African Republic\", \"Chad\", \"Chile\", \"China\", \"Colombia\", \"Comoros\", \"Congo\", \"Costa Rica\", \"Cote d'Ivoire\", \"Croatia\", \"Cuba\", \"Cyprus\", \"Czechia\", \"Democratic Republic of Congo\", \"Denmark\", \"Djibouti\", \"Dominica\", \"Dominican Republic\", \"Ecuador\", \"Egypt\", \"El Salvador\", \"Equatorial Guinea\", \"Eritrea\", \"Estonia\", \"Eswatini\", \"Ethiopia\", \"Fiji\", \"Finland\", \"France\", \"Gabon\", \"Gambia\", \"Georgia\", \"Germany\", \"Ghana\", \"Greece\", \"Grenada\", \"Guatemala\", \"Guinea\", \"Guinea-Bissau\", \"Guyana\", \"Haiti\", \"Honduras\", \"Hungary\", \"Iceland\", \"India\", \"Indonesia\", \"Iran\", \"Iraq\", \"Ireland\", \"Israel\", \"Italy\", \"Jamaica\", \"Japan\", \"Jordan\", \"Kazakhstan\", \"Kenya\", \"Kosovo\", \"Kuwait\", \"Kyrgyzstan\", \"Laos\", \"Latvia\", \"Lebanon\", \"Lesotho\", \"Liberia\", \"Libya\", \"Liechtenstein\", \"Lithuania\", \"Luxembourg\", \"Madagascar\", \"Malawi\", \"Malaysia\", \"Maldives\", \"Mali\", \"Malta\", \"Marshall Islands\", \"Mauritania\", \"Mauritius\", \"Mexico\", \"Micronesia (country)\", \"Moldova\", \"Monaco\", \"Mongolia\", \"Montenegro\", \"Morocco\", \"Mozambique\", \"Myanmar\", \"Namibia\", \"Nepal\", \"Netherlands\", \"New Zealand\", \"Nicaragua\", \"Niger\", \"Nigeria\", \"North Macedonia\", \"Norway\", \"Oman\", \"Pakistan\", \"Palestine\", \"Panama\", \"Papua New Guinea\", \"Paraguay\", \"Peru\", \"Philippines\", \"Poland\", \"Portugal\", \"Qatar\", \"Romania\", \"Russia\", \"Rwanda\", \"Saint Kitts and Nevis\", \"Saint Lucia\", \"Saint Vincent and the Grenadines\", \"Samoa\", \"San Marino\", \"Sao Tome and Principe\", \"Saudi Arabia\", \"Senegal\", \"Serbia\", \"Seychelles\", \"Sierra Leone\", \"Singapore\", \"Slovakia\", \"Slovenia\", \"Solomon Islands\", \"Somalia\", \"South Africa\", \"South Korea\", \"South Sudan\", \"Spain\", \"Sri Lanka\", \"Sudan\", \"Suriname\", \"Sweden\", \"Switzerland\", \"Syria\", \"Taiwan\", \"Tajikistan\", \"Tanzania\", \"Thailand\", \"Timor\", \"Togo\", \"Trinidad and Tobago\", \"Tunisia\", \"Turkey\", \"Uganda\", \"Ukraine\", \"United Arab Emirates\", \"United Kingdom\", \"United States\", \"Uruguay\", \"Uzbekistan\", \"Vanuatu\", \"Vatican\", \"Venezuela\", \"Vietnam\", \"Yemen\", \"Zambia\", \"Zimbabwe\"], \"parents\": [\"Asia\", \"Europe\", \"Africa\", \"Europe\", \"Africa\", \"North America\", \"South America\", \"Asia\", \"Oceania\", \"Europe\", \"Asia\", \"North America\", \"Asia\", \"Asia\", \"North America\", \"Europe\", \"Europe\", \"North America\", \"Africa\", \"Asia\", \"South America\", \"Europe\", \"Africa\", \"South America\", \"Asia\", \"Europe\", \"Africa\", \"Africa\", \"Asia\", \"Africa\", \"North America\", \"Africa\", \"Africa\", \"Africa\", \"South America\", \"Asia\", \"South America\", \"Africa\", \"Africa\", \"North America\", \"Africa\", \"Europe\", \"North America\", \"Europe\", \"Europe\", \"Africa\", \"Europe\", \"Africa\", \"North America\", \"North America\", \"South America\", \"Africa\", \"North America\", \"Africa\", \"Africa\", \"Europe\", \"Africa\", \"Africa\", \"Oceania\", \"Europe\", \"Europe\", \"Africa\", \"Africa\", \"Asia\", \"Europe\", \"Africa\", \"Europe\", \"North America\", \"North America\", \"Africa\", \"Africa\", \"South America\", \"North America\", \"North America\", \"Europe\", \"Europe\", \"Asia\", \"Asia\", \"Asia\", \"Asia\", \"Europe\", \"Asia\", \"Europe\", \"North America\", \"Asia\", \"Asia\", \"Asia\", \"Africa\", \"Europe\", \"Asia\", \"Asia\", \"Asia\", \"Europe\", \"Asia\", \"Africa\", \"Africa\", \"Africa\", \"Europe\", \"Europe\", \"Europe\", \"Africa\", \"Africa\", \"Asia\", \"Asia\", \"Africa\", \"Europe\", \"Oceania\", \"Africa\", \"Africa\", \"North America\", \"Oceania\", \"Europe\", \"Europe\", \"Asia\", \"Europe\", \"Africa\", \"Africa\", \"Asia\", \"Africa\", \"Asia\", \"Europe\", \"Oceania\", \"North America\", \"Africa\", \"Africa\", \"Europe\", \"Europe\", \"Asia\", \"Asia\", \"Asia\", \"North America\", \"Oceania\", \"South America\", \"South America\", \"Asia\", \"Europe\", \"Europe\", \"Asia\", \"Europe\", \"Europe\", \"Africa\", \"North America\", \"North America\", \"North America\", \"Oceania\", \"Europe\", \"Africa\", \"Asia\", \"Africa\", \"Europe\", \"Africa\", \"Africa\", \"Asia\", \"Europe\", \"Europe\", \"Oceania\", \"Africa\", \"Africa\", \"Asia\", \"Africa\", \"Europe\", \"Asia\", \"Africa\", \"South America\", \"Europe\", \"Europe\", \"Asia\", \"Asia\", \"Asia\", \"Africa\", \"Asia\", \"Asia\", \"Africa\", \"North America\", \"Africa\", \"Asia\", \"Africa\", \"Europe\", \"Asia\", \"Europe\", \"North America\", \"South America\", \"Asia\", \"Oceania\", \"Europe\", \"South America\", \"Asia\", \"Asia\", \"Africa\", \"Africa\"], \"type\": \"sunburst\", \"values\": [55580.0, 99062.0, 111764.0, 10672.0, 20499.0, 598.0, 2060625.0, 170234.0, 28926.0, 443536.0, 232973.0, 8403.0, 117234.0, 543024.0, 2715.0, 276990.0, 752379.0, 12244.0, 5143.0, 866.0, 241771.0, 127537.0, 26524.0, 10139148.0, 185.0, 236439.0, 11783.0, 1983.0, 533.0, 33749.0, 848330.0, 14999.0, 5001.0, 3794.0, 795845.0, 100727.0, 2222018.0, 3490.0, 8419.0, 201678.0, 31914.0, 239685.0, 43484.0, 33153.0, 1146321.0, 25080.0, 207769.0, 6022.0, 134.0, 234502.0, 273097.0, 177543.0, 58546.0, 5798.0, 2685.0, 57033.0, 16764.0, 151857.0, 56.0, 53285.0, 3597113.0, 13553.0, 4554.0, 268097.0, 2388421.0, 79655.0, 178918.0, 148.0, 170931.0, 15395.0, 3091.0, 8399.0, 12254.0, 164495.0, 400111.0, 6045.0, 10991651.0, 1271353.0, 1566081.0, 664750.0, 214378.0, 744513.0, 2795796.0, 20924.0, 423952.0, 359811.0, 256388.0, 103993.0, 65450.0, 183322.0, 85831.0, 45.0, 81109.0, 353371.0, 10461.0, 1988.0, 129325.0, 2545.0, 193562.0, 53782.0, 19598.0, 30528.0, 280272.0, 18612.0, 8292.0, 20762.0, 4.0, 17083.0, 603.0, 2038276.0, 1.0, 176245.0, 1862.0, 2638.0, 71593.0, 480948.0, 54968.0, 141735.0, 37295.0, 273351.0, 1066522.0, 2350.0, 6398.0, 4733.0, 151553.0, 99031.0, 68315.0, 138494.0, 571174.0, 172315.0, 336037.0, 970.0, 150731.0, 1269523.0, 559288.0, 1631727.0, 796339.0, 159967.0, 777276.0, 4105424.0, 17988.0, 41.0, 2860.0, 1498.0, 3.0, 3472.0, 1578.0, 374691.0, 32630.0, 434122.0, 2328.0, 3849.0, 59858.0, 290457.0, 184352.0, 18.0, 5889.0, 1502367.0, 86992.0, 6417.0, 3133122.0, 79480.0, 30128.0, 8856.0, 631166.0, 547775.0, 15143.0, 942.0, 13308.0, 509.0, 25323.0, 103.0, 6268.0, 7676.0, 227643.0, 2631876.0, 40199.0, 1346527.0, 368175.0, 4117739.0, 28077620.0, 52163.0, 79632.0, 1.0, 27.0, 135603.0, 2368.0, 2157.0, 73894.0, 35768.0]}],                        {\"template\": {\"data\": {\"bar\": [{\"error_x\": {\"color\": \"#2a3f5f\"}, \"error_y\": {\"color\": \"#2a3f5f\"}, \"marker\": {\"line\": {\"color\": \"#E5ECF6\", \"width\": 0.5}}, \"type\": \"bar\"}], \"barpolar\": [{\"marker\": {\"line\": {\"color\": \"#E5ECF6\", \"width\": 0.5}}, \"type\": \"barpolar\"}], \"carpet\": [{\"aaxis\": {\"endlinecolor\": \"#2a3f5f\", \"gridcolor\": \"white\", \"linecolor\": \"white\", \"minorgridcolor\": \"white\", \"startlinecolor\": \"#2a3f5f\"}, \"baxis\": {\"endlinecolor\": \"#2a3f5f\", \"gridcolor\": \"white\", \"linecolor\": \"white\", \"minorgridcolor\": \"white\", \"startlinecolor\": \"#2a3f5f\"}, \"type\": \"carpet\"}], \"choropleth\": [{\"colorbar\": {\"outlinewidth\": 0, \"ticks\": \"\"}, \"type\": \"choropleth\"}], \"contour\": [{\"colorbar\": {\"outlinewidth\": 0, \"ticks\": \"\"}, \"colorscale\": [[0.0, \"#0d0887\"], [0.1111111111111111, \"#46039f\"], [0.2222222222222222, \"#7201a8\"], [0.3333333333333333, \"#9c179e\"], [0.4444444444444444, \"#bd3786\"], [0.5555555555555556, \"#d8576b\"], [0.6666666666666666, \"#ed7953\"], [0.7777777777777778, \"#fb9f3a\"], [0.8888888888888888, \"#fdca26\"], [1.0, \"#f0f921\"]], \"type\": \"contour\"}], \"contourcarpet\": [{\"colorbar\": {\"outlinewidth\": 0, \"ticks\": \"\"}, \"type\": \"contourcarpet\"}], \"heatmap\": [{\"colorbar\": {\"outlinewidth\": 0, \"ticks\": \"\"}, \"colorscale\": [[0.0, \"#0d0887\"], [0.1111111111111111, \"#46039f\"], [0.2222222222222222, \"#7201a8\"], [0.3333333333333333, \"#9c179e\"], [0.4444444444444444, \"#bd3786\"], [0.5555555555555556, \"#d8576b\"], [0.6666666666666666, \"#ed7953\"], [0.7777777777777778, \"#fb9f3a\"], [0.8888888888888888, \"#fdca26\"], [1.0, \"#f0f921\"]], \"type\": \"heatmap\"}], \"heatmapgl\": [{\"colorbar\": {\"outlinewidth\": 0, \"ticks\": \"\"}, \"colorscale\": [[0.0, \"#0d0887\"], [0.1111111111111111, \"#46039f\"], [0.2222222222222222, \"#7201a8\"], [0.3333333333333333, \"#9c179e\"], [0.4444444444444444, \"#bd3786\"], [0.5555555555555556, \"#d8576b\"], [0.6666666666666666, \"#ed7953\"], [0.7777777777777778, \"#fb9f3a\"], [0.8888888888888888, \"#fdca26\"], [1.0, \"#f0f921\"]], \"type\": \"heatmapgl\"}], \"histogram\": [{\"marker\": {\"colorbar\": {\"outlinewidth\": 0, \"ticks\": \"\"}}, \"type\": \"histogram\"}], \"histogram2d\": [{\"colorbar\": {\"outlinewidth\": 0, \"ticks\": \"\"}, \"colorscale\": [[0.0, \"#0d0887\"], [0.1111111111111111, \"#46039f\"], [0.2222222222222222, \"#7201a8\"], [0.3333333333333333, \"#9c179e\"], [0.4444444444444444, \"#bd3786\"], [0.5555555555555556, \"#d8576b\"], [0.6666666666666666, \"#ed7953\"], [0.7777777777777778, \"#fb9f3a\"], [0.8888888888888888, \"#fdca26\"], [1.0, \"#f0f921\"]], \"type\": \"histogram2d\"}], \"histogram2dcontour\": [{\"colorbar\": {\"outlinewidth\": 0, \"ticks\": \"\"}, \"colorscale\": [[0.0, \"#0d0887\"], [0.1111111111111111, \"#46039f\"], [0.2222222222222222, \"#7201a8\"], [0.3333333333333333, \"#9c179e\"], [0.4444444444444444, \"#bd3786\"], [0.5555555555555556, \"#d8576b\"], [0.6666666666666666, \"#ed7953\"], [0.7777777777777778, \"#fb9f3a\"], [0.8888888888888888, \"#fdca26\"], [1.0, \"#f0f921\"]], \"type\": \"histogram2dcontour\"}], \"mesh3d\": [{\"colorbar\": {\"outlinewidth\": 0, \"ticks\": \"\"}, \"type\": \"mesh3d\"}], \"parcoords\": [{\"line\": {\"colorbar\": {\"outlinewidth\": 0, \"ticks\": \"\"}}, \"type\": \"parcoords\"}], \"pie\": [{\"automargin\": true, \"type\": \"pie\"}], \"scatter\": [{\"marker\": {\"colorbar\": {\"outlinewidth\": 0, \"ticks\": \"\"}}, \"type\": \"scatter\"}], \"scatter3d\": [{\"line\": {\"colorbar\": {\"outlinewidth\": 0, \"ticks\": \"\"}}, \"marker\": {\"colorbar\": {\"outlinewidth\": 0, \"ticks\": \"\"}}, \"type\": \"scatter3d\"}], \"scattercarpet\": [{\"marker\": {\"colorbar\": {\"outlinewidth\": 0, \"ticks\": \"\"}}, \"type\": \"scattercarpet\"}], \"scattergeo\": [{\"marker\": {\"colorbar\": {\"outlinewidth\": 0, \"ticks\": \"\"}}, \"type\": \"scattergeo\"}], \"scattergl\": [{\"marker\": {\"colorbar\": {\"outlinewidth\": 0, \"ticks\": \"\"}}, \"type\": \"scattergl\"}], \"scattermapbox\": [{\"marker\": {\"colorbar\": {\"outlinewidth\": 0, \"ticks\": \"\"}}, \"type\": \"scattermapbox\"}], \"scatterpolar\": [{\"marker\": {\"colorbar\": {\"outlinewidth\": 0, \"ticks\": \"\"}}, \"type\": \"scatterpolar\"}], \"scatterpolargl\": [{\"marker\": {\"colorbar\": {\"outlinewidth\": 0, \"ticks\": \"\"}}, \"type\": \"scatterpolargl\"}], \"scatterternary\": [{\"marker\": {\"colorbar\": {\"outlinewidth\": 0, \"ticks\": \"\"}}, \"type\": \"scatterternary\"}], \"surface\": [{\"colorbar\": {\"outlinewidth\": 0, \"ticks\": \"\"}, \"colorscale\": [[0.0, \"#0d0887\"], [0.1111111111111111, \"#46039f\"], [0.2222222222222222, \"#7201a8\"], [0.3333333333333333, \"#9c179e\"], [0.4444444444444444, \"#bd3786\"], [0.5555555555555556, \"#d8576b\"], [0.6666666666666666, \"#ed7953\"], [0.7777777777777778, \"#fb9f3a\"], [0.8888888888888888, \"#fdca26\"], [1.0, \"#f0f921\"]], \"type\": \"surface\"}], \"table\": [{\"cells\": {\"fill\": {\"color\": \"#EBF0F8\"}, \"line\": {\"color\": \"white\"}}, \"header\": {\"fill\": {\"color\": \"#C8D4E3\"}, \"line\": {\"color\": \"white\"}}, \"type\": \"table\"}]}, \"layout\": {\"annotationdefaults\": {\"arrowcolor\": \"#2a3f5f\", \"arrowhead\": 0, \"arrowwidth\": 1}, \"autotypenumbers\": \"strict\", \"coloraxis\": {\"colorbar\": {\"outlinewidth\": 0, \"ticks\": \"\"}}, \"colorscale\": {\"diverging\": [[0, \"#8e0152\"], [0.1, \"#c51b7d\"], [0.2, \"#de77ae\"], [0.3, \"#f1b6da\"], [0.4, \"#fde0ef\"], [0.5, \"#f7f7f7\"], [0.6, \"#e6f5d0\"], [0.7, \"#b8e186\"], [0.8, \"#7fbc41\"], [0.9, \"#4d9221\"], [1, \"#276419\"]], \"sequential\": [[0.0, \"#0d0887\"], [0.1111111111111111, \"#46039f\"], [0.2222222222222222, \"#7201a8\"], [0.3333333333333333, \"#9c179e\"], [0.4444444444444444, \"#bd3786\"], [0.5555555555555556, \"#d8576b\"], [0.6666666666666666, \"#ed7953\"], [0.7777777777777778, \"#fb9f3a\"], [0.8888888888888888, \"#fdca26\"], [1.0, \"#f0f921\"]], \"sequentialminus\": [[0.0, \"#0d0887\"], [0.1111111111111111, \"#46039f\"], [0.2222222222222222, \"#7201a8\"], [0.3333333333333333, \"#9c179e\"], [0.4444444444444444, \"#bd3786\"], [0.5555555555555556, \"#d8576b\"], [0.6666666666666666, \"#ed7953\"], [0.7777777777777778, \"#fb9f3a\"], [0.8888888888888888, \"#fdca26\"], [1.0, \"#f0f921\"]]}, \"colorway\": [\"#636efa\", \"#EF553B\", \"#00cc96\", \"#ab63fa\", \"#FFA15A\", \"#19d3f3\", \"#FF6692\", \"#B6E880\", \"#FF97FF\", \"#FECB52\"], \"font\": {\"color\": \"#2a3f5f\"}, \"geo\": {\"bgcolor\": \"white\", \"lakecolor\": \"white\", \"landcolor\": \"#E5ECF6\", \"showlakes\": true, \"showland\": true, \"subunitcolor\": \"white\"}, \"hoverlabel\": {\"align\": \"left\"}, \"hovermode\": \"closest\", \"mapbox\": {\"style\": \"light\"}, \"paper_bgcolor\": \"white\", \"plot_bgcolor\": \"#E5ECF6\", \"polar\": {\"angularaxis\": {\"gridcolor\": \"white\", \"linecolor\": \"white\", \"ticks\": \"\"}, \"bgcolor\": \"#E5ECF6\", \"radialaxis\": {\"gridcolor\": \"white\", \"linecolor\": \"white\", \"ticks\": \"\"}}, \"scene\": {\"xaxis\": {\"backgroundcolor\": \"#E5ECF6\", \"gridcolor\": \"white\", \"gridwidth\": 2, \"linecolor\": \"white\", \"showbackground\": true, \"ticks\": \"\", \"zerolinecolor\": \"white\"}, \"yaxis\": {\"backgroundcolor\": \"#E5ECF6\", \"gridcolor\": \"white\", \"gridwidth\": 2, \"linecolor\": \"white\", \"showbackground\": true, \"ticks\": \"\", \"zerolinecolor\": \"white\"}, \"zaxis\": {\"backgroundcolor\": \"#E5ECF6\", \"gridcolor\": \"white\", \"gridwidth\": 2, \"linecolor\": \"white\", \"showbackground\": true, \"ticks\": \"\", \"zerolinecolor\": \"white\"}}, \"shapedefaults\": {\"line\": {\"color\": \"#2a3f5f\"}}, \"ternary\": {\"aaxis\": {\"gridcolor\": \"white\", \"linecolor\": \"white\", \"ticks\": \"\"}, \"baxis\": {\"gridcolor\": \"white\", \"linecolor\": \"white\", \"ticks\": \"\"}, \"bgcolor\": \"#E5ECF6\", \"caxis\": {\"gridcolor\": \"white\", \"linecolor\": \"white\", \"ticks\": \"\"}}, \"title\": {\"x\": 0.05}, \"xaxis\": {\"automargin\": true, \"gridcolor\": \"white\", \"linecolor\": \"white\", \"ticks\": \"\", \"title\": {\"standoff\": 15}, \"zerolinecolor\": \"white\", \"zerolinewidth\": 2}, \"yaxis\": {\"automargin\": true, \"gridcolor\": \"white\", \"linecolor\": \"white\", \"ticks\": \"\", \"title\": {\"standoff\": 15}, \"zerolinecolor\": \"white\", \"zerolinewidth\": 2}}}, \"updatemenus\": [{\"active\": 0, \"buttons\": [{\"args\": [{\"visible\": [true, true, true, true]}, {\"showlegend\": true, \"title\": \"All\"}], \"label\": \"All\", \"method\": \"update\"}, {\"args\": [{\"visible\": [true, false, false, false]}, {\"showlegend\": true, \"title\": \"Continent\"}], \"label\": \"continent\", \"method\": \"update\"}, {\"args\": [{\"visible\": [false, true, false, false]}, {\"showlegend\": true, \"title\": \"location\"}], \"label\": \"location\", \"method\": \"update\"}]}]},                        {\"responsive\": true}                    ).then(function(){\n",
       "                            \n",
       "var gd = document.getElementById('8c771915-12ad-4876-bab1-41e31f1923ec');\n",
       "var x = new MutationObserver(function (mutations, observer) {{\n",
       "        var display = window.getComputedStyle(gd).display;\n",
       "        if (!display || display === 'none') {{\n",
       "            console.log([gd, 'removed!']);\n",
       "            Plotly.purge(gd);\n",
       "            observer.disconnect();\n",
       "        }}\n",
       "}});\n",
       "\n",
       "// Listen for the removal of the full notebook cells\n",
       "var notebookContainer = gd.closest('#notebook-container');\n",
       "if (notebookContainer) {{\n",
       "    x.observe(notebookContainer, {childList: true});\n",
       "}}\n",
       "\n",
       "// Listen for the clearing of the current output cell\n",
       "var outputEl = gd.closest('.output');\n",
       "if (outputEl) {{\n",
       "    x.observe(outputEl, {childList: true});\n",
       "}}\n",
       "\n",
       "                        })                };                });            </script>        </div>"
      ]
     },
     "metadata": {},
     "output_type": "display_data"
    }
   ],
   "source": [
    "\n",
    "df2 = pd.DataFrame(columns = df.columns.tolist())\n",
    "\n",
    "for country in df.location.unique().tolist():\n",
    "    df1 = df.loc[df.location == country].tail(1)\n",
    "    df2 = df2.append(df1)\n",
    "\n",
    "df2.dropna(subset=['total_cases'],inplace=True)\n",
    "df2.dropna(subset=['continent'],inplace=True)\n",
    "\n",
    "fig = go.Figure()\n",
    "\n",
    "labels = df2['location'].tolist()\n",
    "parents = df2['continent'].tolist()\n",
    "values = df2['total_cases'].tolist()\n",
    "values2 = df2['total_cases'].tolist()\n",
    "\n",
    "fig = go.Figure()\n",
    "fig.add_trace(\n",
    "    go.Sunburst(\n",
    "    labels = labels,\n",
    "    values = values,\n",
    "    parents = parents))\n",
    "\n",
    "fig.add_trace(\n",
    "    go.Sunburst(\n",
    "    labels = labels,\n",
    "    values = values2,\n",
    "    parents = parents))\n",
    "\n",
    "\n",
    "fig.update_layout(\n",
    "    updatemenus=[go.layout.Updatemenu(\n",
    "        active=0,\n",
    "        buttons=list(\n",
    "            [dict(label = 'All',\n",
    "                  method = 'update',\n",
    "                  args = [{'visible': [True, True, True, True]},\n",
    "                          {'title': 'All',\n",
    "                           'showlegend':True}]),\n",
    "             dict(label = 'continent',\n",
    "                  method = 'update',\n",
    "                  args = [{'visible': [True, False, False, False]}, # the index of True aligns with the indices of plot traces\n",
    "                          {'title': 'Continent',\n",
    "                           'showlegend':True}]),\n",
    "             dict(label = 'location',\n",
    "                  method = 'update',\n",
    "                  args = [{'visible': [False, True, False, False]},\n",
    "                          {'title': 'location',\n",
    "                           'showlegend':True}]),\n",
    "            ])\n",
    "        )\n",
    "    ])\n",
    "\n",
    "fig.show()"
   ]
  },
  {
   "cell_type": "code",
   "execution_count": 76,
   "id": "sound-system",
   "metadata": {},
   "outputs": [
    {
     "name": "stdout",
     "output_type": "stream",
     "text": [
      "Asia                 Afghanistan          55,580.0\n",
      "Europe               Albania              99,062.0\n",
      "Africa               Algeria              111,764.0\n",
      "Europe               Andorra              10,672.0\n",
      "Africa               Angola               20,499.0\n",
      "North America        Antigua and Barbuda  598.0\n",
      "South America        Argentina            2,060,625.0\n",
      "Asia                 Armenia              170,234.0\n",
      "Oceania              Australia            28,926.0\n",
      "Europe               Austria              443,536.0\n",
      "Asia                 Azerbaijan           232,973.0\n",
      "North America        Bahamas              8,403.0\n",
      "Asia                 Bahrain              117,234.0\n",
      "Asia                 Bangladesh           543,024.0\n",
      "North America        Barbados             2,715.0\n",
      "Europe               Belarus              276,990.0\n",
      "Europe               Belgium              752,379.0\n",
      "North America        Belize               12,244.0\n",
      "Africa               Benin                5,143.0\n",
      "Asia                 Bhutan               866.0\n",
      "South America        Bolivia              241,771.0\n",
      "Europe               Bosnia and Herzegovina 127,537.0\n",
      "Africa               Botswana             26,524.0\n",
      "South America        Brazil               10,139,148.0\n",
      "Asia                 Brunei               185.0\n",
      "Europe               Bulgaria             236,439.0\n",
      "Africa               Burkina Faso         11,783.0\n",
      "Africa               Burundi              1,983.0\n",
      "Asia                 Cambodia             533.0\n",
      "Africa               Cameroon             33,749.0\n",
      "North America        Canada               848,330.0\n",
      "Africa               Cape Verde           14,999.0\n",
      "Africa               Central African Republic 5,001.0\n",
      "Africa               Chad                 3,794.0\n",
      "South America        Chile                795,845.0\n",
      "Asia                 China                100,727.0\n",
      "South America        Colombia             2,222,018.0\n",
      "Africa               Comoros              3,490.0\n",
      "Africa               Congo                8,419.0\n",
      "North America        Costa Rica           201,678.0\n",
      "Africa               Cote d'Ivoire        31,914.0\n",
      "Europe               Croatia              239,685.0\n",
      "North America        Cuba                 43,484.0\n",
      "Europe               Cyprus               33,153.0\n",
      "Europe               Czechia              1,146,321.0\n",
      "Africa               Democratic Republic of Congo 25,080.0\n",
      "Europe               Denmark              207,769.0\n",
      "Africa               Djibouti             6,022.0\n",
      "North America        Dominica             134.0\n",
      "North America        Dominican Republic   234,502.0\n",
      "South America        Ecuador              273,097.0\n",
      "Africa               Egypt                177,543.0\n",
      "North America        El Salvador          58,546.0\n",
      "Africa               Equatorial Guinea    5,798.0\n",
      "Africa               Eritrea              2,685.0\n",
      "Europe               Estonia              57,033.0\n",
      "Africa               Eswatini             16,764.0\n",
      "Africa               Ethiopia             151,857.0\n",
      "Oceania              Fiji                 56.0\n",
      "Europe               Finland              53,285.0\n",
      "Europe               France               3,597,113.0\n",
      "Africa               Gabon                13,553.0\n",
      "Africa               Gambia               4,554.0\n",
      "Asia                 Georgia              268,097.0\n",
      "Europe               Germany              2,388,421.0\n",
      "Africa               Ghana                79,655.0\n",
      "Europe               Greece               178,918.0\n",
      "North America        Grenada              148.0\n",
      "North America        Guatemala            170,931.0\n",
      "Africa               Guinea               15,395.0\n",
      "Africa               Guinea-Bissau        3,091.0\n",
      "South America        Guyana               8,399.0\n",
      "North America        Haiti                12,254.0\n",
      "North America        Honduras             164,495.0\n",
      "Europe               Hungary              400,111.0\n",
      "Europe               Iceland              6,045.0\n",
      "Asia                 India                10,991,651.0\n",
      "Asia                 Indonesia            1,271,353.0\n",
      "Asia                 Iran                 1,566,081.0\n",
      "Asia                 Iraq                 664,750.0\n",
      "Europe               Ireland              214,378.0\n",
      "Asia                 Israel               744,513.0\n",
      "Europe               Italy                2,795,796.0\n",
      "North America        Jamaica              20,924.0\n",
      "Asia                 Japan                423,952.0\n",
      "Asia                 Jordan               359,811.0\n",
      "Asia                 Kazakhstan           256,388.0\n",
      "Africa               Kenya                103,993.0\n",
      "Europe               Kosovo               65,450.0\n",
      "Asia                 Kuwait               183,322.0\n",
      "Asia                 Kyrgyzstan           85,831.0\n",
      "Asia                 Laos                 45.0\n",
      "Europe               Latvia               81,109.0\n",
      "Asia                 Lebanon              353,371.0\n",
      "Africa               Lesotho              10,461.0\n",
      "Africa               Liberia              1,988.0\n",
      "Africa               Libya                129,325.0\n",
      "Europe               Liechtenstein        2,545.0\n",
      "Europe               Lithuania            193,562.0\n",
      "Europe               Luxembourg           53,782.0\n",
      "Africa               Madagascar           19,598.0\n",
      "Africa               Malawi               30,528.0\n",
      "Asia                 Malaysia             280,272.0\n",
      "Asia                 Maldives             18,612.0\n",
      "Africa               Mali                 8,292.0\n",
      "Europe               Malta                20,762.0\n",
      "Oceania              Marshall Islands     4.0\n",
      "Africa               Mauritania           17,083.0\n",
      "Africa               Mauritius            603.0\n",
      "North America        Mexico               2,038,276.0\n",
      "Oceania              Micronesia (country) 1.0\n",
      "Europe               Moldova              176,245.0\n",
      "Europe               Monaco               1,862.0\n",
      "Asia                 Mongolia             2,638.0\n",
      "Europe               Montenegro           71,593.0\n",
      "Africa               Morocco              480,948.0\n",
      "Africa               Mozambique           54,968.0\n",
      "Asia                 Myanmar              141,735.0\n",
      "Africa               Namibia              37,295.0\n",
      "Asia                 Nepal                273,351.0\n",
      "Europe               Netherlands          1,066,522.0\n",
      "Oceania              New Zealand          2,350.0\n",
      "North America        Nicaragua            6,398.0\n",
      "Africa               Niger                4,733.0\n",
      "Africa               Nigeria              151,553.0\n",
      "Europe               North Macedonia      99,031.0\n",
      "Europe               Norway               68,315.0\n",
      "Asia                 Oman                 138,494.0\n",
      "Asia                 Pakistan             571,174.0\n",
      "Asia                 Palestine            172,315.0\n",
      "North America        Panama               336,037.0\n",
      "Oceania              Papua New Guinea     970.0\n",
      "South America        Paraguay             150,731.0\n",
      "South America        Peru                 1,269,523.0\n",
      "Asia                 Philippines          559,288.0\n",
      "Europe               Poland               1,631,727.0\n",
      "Europe               Portugal             796,339.0\n",
      "Asia                 Qatar                159,967.0\n",
      "Europe               Romania              777,276.0\n",
      "Europe               Russia               4,105,424.0\n",
      "Africa               Rwanda               17,988.0\n",
      "North America        Saint Kitts and Nevis 41.0\n",
      "North America        Saint Lucia          2,860.0\n",
      "North America        Saint Vincent and the Grenadines 1,498.0\n",
      "Oceania              Samoa                3.0\n",
      "Europe               San Marino           3,472.0\n",
      "Africa               Sao Tome and Principe 1,578.0\n",
      "Asia                 Saudi Arabia         374,691.0\n",
      "Africa               Senegal              32,630.0\n",
      "Europe               Serbia               434,122.0\n",
      "Africa               Seychelles           2,328.0\n",
      "Africa               Sierra Leone         3,849.0\n",
      "Asia                 Singapore            59,858.0\n",
      "Europe               Slovakia             290,457.0\n",
      "Europe               Slovenia             184,352.0\n",
      "Oceania              Solomon Islands      18.0\n",
      "Africa               Somalia              5,889.0\n",
      "Africa               South Africa         1,502,367.0\n",
      "Asia                 South Korea          86,992.0\n",
      "Africa               South Sudan          6,417.0\n",
      "Europe               Spain                3,133,122.0\n",
      "Asia                 Sri Lanka            79,480.0\n",
      "Africa               Sudan                30,128.0\n",
      "South America        Suriname             8,856.0\n",
      "Europe               Sweden               631,166.0\n",
      "Europe               Switzerland          547,775.0\n",
      "Asia                 Syria                15,143.0\n",
      "Asia                 Taiwan               942.0\n",
      "Asia                 Tajikistan           13,308.0\n",
      "Africa               Tanzania             509.0\n",
      "Asia                 Thailand             25,323.0\n",
      "Asia                 Timor                103.0\n",
      "Africa               Togo                 6,268.0\n",
      "North America        Trinidad and Tobago  7,676.0\n",
      "Africa               Tunisia              227,643.0\n",
      "Asia                 Turkey               2,631,876.0\n",
      "Africa               Uganda               40,199.0\n",
      "Europe               Ukraine              1,346,527.0\n",
      "Asia                 United Arab Emirates 368,175.0\n",
      "Europe               United Kingdom       4,117,739.0\n",
      "North America        United States        28,077,620.0\n",
      "South America        Uruguay              52,163.0\n",
      "Asia                 Uzbekistan           79,632.0\n",
      "Oceania              Vanuatu              1.0\n",
      "Europe               Vatican              27.0\n",
      "South America        Venezuela            135,603.0\n",
      "Asia                 Vietnam              2,368.0\n",
      "Asia                 Yemen                2,157.0\n",
      "Africa               Zambia               73,894.0\n",
      "Africa               Zimbabwe             35,768.0\n"
     ]
    }
   ],
   "source": [
    "for i in range(0,190):\n",
    "    print(f'{parents[i]:20} {labels[i]:20} {values[i]:,}')"
   ]
  },
  {
   "cell_type": "code",
   "execution_count": 67,
   "id": "voluntary-russian",
   "metadata": {},
   "outputs": [
    {
     "data": {
      "text/plain": [
       "pandas.core.series.Series"
      ]
     },
     "execution_count": 67,
     "metadata": {},
     "output_type": "execute_result"
    }
   ],
   "source": [
    "type(parents)"
   ]
  },
  {
   "cell_type": "code",
   "execution_count": 42,
   "id": "partial-township",
   "metadata": {},
   "outputs": [
    {
     "data": {
      "text/plain": [
       "array(['Asia', 'Europe', 'Africa', 'North America', 'South America',\n",
       "       'Oceania'], dtype=object)"
      ]
     },
     "execution_count": 42,
     "metadata": {},
     "output_type": "execute_result"
    }
   ],
   "source": [
    "df2.continent.unique()"
   ]
  },
  {
   "cell_type": "code",
   "execution_count": 60,
   "id": "corrected-passenger",
   "metadata": {},
   "outputs": [
    {
     "data": {
      "text/plain": [
       "False"
      ]
     },
     "execution_count": 60,
     "metadata": {},
     "output_type": "execute_result"
    }
   ],
   "source": [
    "'World' in labels"
   ]
  },
  {
   "cell_type": "code",
   "execution_count": 143,
   "id": "tender-television",
   "metadata": {},
   "outputs": [
    {
     "ename": "TypeError",
     "evalue": "invalid Figure property: title\ntitle\nBad property path:\ntitle\n^^^^^",
     "output_type": "error",
     "traceback": [
      "\u001b[1;31m---------------------------------------------------------------------------\u001b[0m",
      "\u001b[1;31mTypeError\u001b[0m                                 Traceback (most recent call last)",
      "\u001b[1;32m<ipython-input-143-f837b3fc6bd0>\u001b[0m in \u001b[0;36m<module>\u001b[1;34m\u001b[0m\n\u001b[0;32m     20\u001b[0m         \u001b[0mvalues2\u001b[0m\u001b[1;33m.\u001b[0m\u001b[0mappend\u001b[0m\u001b[1;33m(\u001b[0m\u001b[1;36m0\u001b[0m\u001b[1;33m)\u001b[0m\u001b[1;33m\u001b[0m\u001b[1;33m\u001b[0m\u001b[0m\n\u001b[0;32m     21\u001b[0m \u001b[1;33m\u001b[0m\u001b[0m\n\u001b[1;32m---> 22\u001b[1;33m \u001b[0mfig\u001b[0m \u001b[1;33m=\u001b[0m \u001b[0mgo\u001b[0m\u001b[1;33m.\u001b[0m\u001b[0mFigure\u001b[0m\u001b[1;33m(\u001b[0m\u001b[0mtitle\u001b[0m\u001b[1;33m=\u001b[0m\u001b[1;34m'Covid-19'\u001b[0m\u001b[1;33m)\u001b[0m\u001b[1;33m\u001b[0m\u001b[1;33m\u001b[0m\u001b[0m\n\u001b[0m\u001b[0;32m     23\u001b[0m fig.add_trace(\n\u001b[0;32m     24\u001b[0m     go.Sunburst(\n",
      "\u001b[1;32m~\\anaconda3\\lib\\site-packages\\plotly\\graph_objs\\_figure.py\u001b[0m in \u001b[0;36m__init__\u001b[1;34m(self, data, layout, frames, skip_invalid, **kwargs)\u001b[0m\n\u001b[0;32m    594\u001b[0m             \u001b[1;32mis\u001b[0m \u001b[0minvalid\u001b[0m \u001b[0mAND\u001b[0m \u001b[0mskip_invalid\u001b[0m \u001b[1;32mis\u001b[0m \u001b[1;32mFalse\u001b[0m\u001b[1;33m\u001b[0m\u001b[1;33m\u001b[0m\u001b[0m\n\u001b[0;32m    595\u001b[0m         \"\"\"\n\u001b[1;32m--> 596\u001b[1;33m         \u001b[0msuper\u001b[0m\u001b[1;33m(\u001b[0m\u001b[0mFigure\u001b[0m\u001b[1;33m,\u001b[0m \u001b[0mself\u001b[0m\u001b[1;33m)\u001b[0m\u001b[1;33m.\u001b[0m\u001b[0m__init__\u001b[0m\u001b[1;33m(\u001b[0m\u001b[0mdata\u001b[0m\u001b[1;33m,\u001b[0m \u001b[0mlayout\u001b[0m\u001b[1;33m,\u001b[0m \u001b[0mframes\u001b[0m\u001b[1;33m,\u001b[0m \u001b[0mskip_invalid\u001b[0m\u001b[1;33m,\u001b[0m \u001b[1;33m**\u001b[0m\u001b[0mkwargs\u001b[0m\u001b[1;33m)\u001b[0m\u001b[1;33m\u001b[0m\u001b[1;33m\u001b[0m\u001b[0m\n\u001b[0m\u001b[0;32m    597\u001b[0m \u001b[1;33m\u001b[0m\u001b[0m\n\u001b[0;32m    598\u001b[0m     def add_area(\n",
      "\u001b[1;32m~\\anaconda3\\lib\\site-packages\\plotly\\basedatatypes.py\u001b[0m in \u001b[0;36m__init__\u001b[1;34m(self, data, layout_plotly, frames, skip_invalid, **kwargs)\u001b[0m\n\u001b[0;32m    647\u001b[0m                     \u001b[1;33m%\u001b[0m \u001b[1;33m(\u001b[0m\u001b[0merr\u001b[0m\u001b[1;33m.\u001b[0m\u001b[0margs\u001b[0m\u001b[1;33m[\u001b[0m\u001b[1;36m0\u001b[0m\u001b[1;33m]\u001b[0m\u001b[1;33m,\u001b[0m\u001b[1;33m)\u001b[0m\u001b[1;33m,\u001b[0m\u001b[1;33m\u001b[0m\u001b[1;33m\u001b[0m\u001b[0m\n\u001b[0;32m    648\u001b[0m                 )\n\u001b[1;32m--> 649\u001b[1;33m                 \u001b[1;32mraise\u001b[0m \u001b[0mtype_err\u001b[0m\u001b[1;33m\u001b[0m\u001b[1;33m\u001b[0m\u001b[0m\n\u001b[0m\u001b[0;32m    650\u001b[0m \u001b[1;33m\u001b[0m\u001b[0m\n\u001b[0;32m    651\u001b[0m     \u001b[1;31m# Magic Methods\u001b[0m\u001b[1;33m\u001b[0m\u001b[1;33m\u001b[0m\u001b[1;33m\u001b[0m\u001b[0m\n",
      "\u001b[1;31mTypeError\u001b[0m: invalid Figure property: title\ntitle\nBad property path:\ntitle\n^^^^^"
     ]
    }
   ],
   "source": [
    "\n",
    "\n",
    "fig = go.Figure()\n",
    "fig.add_trace(\n",
    "    go.Sunburst(\n",
    "    labels = labels,\n",
    "    values = values,\n",
    "    parents = parents,\n",
    "    domain=dict(column=0, row=1),\n",
    "    name='Total Cases'\n",
    "    ))\n",
    "\n",
    "fig.add_trace(\n",
    "    go.Sunburst(\n",
    "    labels = labels,\n",
    "    values = values2,\n",
    "    parents = parents,\n",
    "    domain=dict(column=1, row=1),\n",
    "    name='Total Deaths',\n",
    "        maxdepth=1\n",
    "    ))\n",
    "\n",
    "fig.update_layout(\n",
    "    title='Covid-19',\n",
    "    grid= dict(columns=2, rows=2),\n",
    "    margin = dict(t=0, l=0, r=0, b=0),\n",
    "    font=dict(\n",
    "        family=\"Courier New, monospace\",\n",
    "        size=18,\n",
    "        color=\"RebeccaPurple\"\n",
    "        )\n",
    "    )\n",
    "\n",
    "fig.show()"
   ]
  },
  {
   "cell_type": "code",
   "execution_count": 194,
   "id": "stock-batman",
   "metadata": {},
   "outputs": [
    {
     "data": {
      "application/vnd.plotly.v1+json": {
       "config": {
        "plotlyServerURL": "https://plot.ly"
       },
       "data": [
        {
         "labels": [
          "Afghanistan",
          "Albania",
          "Algeria",
          "Andorra",
          "Angola",
          "Antigua and Barbuda",
          "Argentina",
          "Armenia",
          "Australia",
          "Austria",
          "Azerbaijan",
          "Bahamas",
          "Bahrain",
          "Bangladesh",
          "Barbados",
          "Belarus",
          "Belgium",
          "Belize",
          "Benin",
          "Bhutan",
          "Bolivia",
          "Bosnia and Herzegovina",
          "Botswana",
          "Brazil",
          "Brunei",
          "Bulgaria",
          "Burkina Faso",
          "Burundi",
          "Cameroon",
          "Canada",
          "Cape Verde",
          "Central African Republic",
          "Chad",
          "Chile",
          "China",
          "Colombia",
          "Comoros",
          "Congo",
          "Costa Rica",
          "Cote d'Ivoire",
          "Croatia",
          "Cuba",
          "Cyprus",
          "Czechia",
          "Democratic Republic of Congo",
          "Denmark",
          "Djibouti",
          "Dominican Republic",
          "Ecuador",
          "Egypt",
          "El Salvador",
          "Equatorial Guinea",
          "Eritrea",
          "Estonia",
          "Eswatini",
          "Ethiopia",
          "Fiji",
          "Finland",
          "France",
          "Gabon",
          "Gambia",
          "Georgia",
          "Germany",
          "Ghana",
          "Greece",
          "Grenada",
          "Guatemala",
          "Guinea",
          "Guinea-Bissau",
          "Guyana",
          "Haiti",
          "Honduras",
          "Hungary",
          "Iceland",
          "India",
          "Indonesia",
          "Iran",
          "Iraq",
          "Ireland",
          "Israel",
          "Italy",
          "Jamaica",
          "Japan",
          "Jordan",
          "Kazakhstan",
          "Kenya",
          "Kosovo",
          "Kuwait",
          "Kyrgyzstan",
          "Latvia",
          "Lebanon",
          "Lesotho",
          "Liberia",
          "Libya",
          "Liechtenstein",
          "Lithuania",
          "Luxembourg",
          "Madagascar",
          "Malawi",
          "Malaysia",
          "Maldives",
          "Mali",
          "Malta",
          "Mauritania",
          "Mauritius",
          "Mexico",
          "Moldova",
          "Monaco",
          "Mongolia",
          "Montenegro",
          "Morocco",
          "Mozambique",
          "Myanmar",
          "Namibia",
          "Nepal",
          "Netherlands",
          "New Zealand",
          "Nicaragua",
          "Niger",
          "Nigeria",
          "North Macedonia",
          "Norway",
          "Oman",
          "Pakistan",
          "Palestine",
          "Panama",
          "Papua New Guinea",
          "Paraguay",
          "Peru",
          "Philippines",
          "Poland",
          "Portugal",
          "Qatar",
          "Romania",
          "Russia",
          "Rwanda",
          "Saint Lucia",
          "Saint Vincent and the Grenadines",
          "San Marino",
          "Sao Tome and Principe",
          "Saudi Arabia",
          "Senegal",
          "Serbia",
          "Seychelles",
          "Sierra Leone",
          "Singapore",
          "Slovakia",
          "Slovenia",
          "Somalia",
          "South Africa",
          "South Korea",
          "South Sudan",
          "Spain",
          "Sri Lanka",
          "Sudan",
          "Suriname",
          "Sweden",
          "Switzerland",
          "Syria",
          "Taiwan",
          "Tajikistan",
          "Tanzania",
          "Thailand",
          "Togo",
          "Trinidad and Tobago",
          "Tunisia",
          "Turkey",
          "Uganda",
          "Ukraine",
          "United Arab Emirates",
          "United Kingdom",
          "United States",
          "Uruguay",
          "Uzbekistan",
          "Venezuela",
          "Vietnam",
          "Yemen",
          "Zambia",
          "Zimbabwe",
          "Africa",
          "Asia",
          "North America",
          "Oceania",
          "Europe",
          "South America"
         ],
         "marker": {
          "colorscale": [
           [
            0,
            "Green"
           ],
           [
            0.5,
            "Blue"
           ],
           [
            1,
            "Gold"
           ]
          ],
          "showscale": true
         },
         "name": "Total Deaths",
         "parents": [
          "Asia",
          "Europe",
          "Africa",
          "Europe",
          "Africa",
          "North America",
          "South America",
          "Asia",
          "Oceania",
          "Europe",
          "Asia",
          "North America",
          "Asia",
          "Asia",
          "North America",
          "Europe",
          "Europe",
          "North America",
          "Africa",
          "Asia",
          "South America",
          "Europe",
          "Africa",
          "South America",
          "Asia",
          "Europe",
          "Africa",
          "Africa",
          "Africa",
          "North America",
          "Africa",
          "Africa",
          "Africa",
          "South America",
          "Asia",
          "South America",
          "Africa",
          "Africa",
          "North America",
          "Africa",
          "Europe",
          "North America",
          "Europe",
          "Europe",
          "Africa",
          "Europe",
          "Africa",
          "North America",
          "South America",
          "Africa",
          "North America",
          "Africa",
          "Africa",
          "Europe",
          "Africa",
          "Africa",
          "Oceania",
          "Europe",
          "Europe",
          "Africa",
          "Africa",
          "Asia",
          "Europe",
          "Africa",
          "Europe",
          "North America",
          "North America",
          "Africa",
          "Africa",
          "South America",
          "North America",
          "North America",
          "Europe",
          "Europe",
          "Asia",
          "Asia",
          "Asia",
          "Asia",
          "Europe",
          "Asia",
          "Europe",
          "North America",
          "Asia",
          "Asia",
          "Asia",
          "Africa",
          "Europe",
          "Asia",
          "Asia",
          "Europe",
          "Asia",
          "Africa",
          "Africa",
          "Africa",
          "Europe",
          "Europe",
          "Europe",
          "Africa",
          "Africa",
          "Asia",
          "Asia",
          "Africa",
          "Europe",
          "Africa",
          "Africa",
          "North America",
          "Europe",
          "Europe",
          "Asia",
          "Europe",
          "Africa",
          "Africa",
          "Asia",
          "Africa",
          "Asia",
          "Europe",
          "Oceania",
          "North America",
          "Africa",
          "Africa",
          "Europe",
          "Europe",
          "Asia",
          "Asia",
          "Asia",
          "North America",
          "Oceania",
          "South America",
          "South America",
          "Asia",
          "Europe",
          "Europe",
          "Asia",
          "Europe",
          "Europe",
          "Africa",
          "North America",
          "North America",
          "Europe",
          "Africa",
          "Asia",
          "Africa",
          "Europe",
          "Africa",
          "Africa",
          "Asia",
          "Europe",
          "Europe",
          "Africa",
          "Africa",
          "Asia",
          "Africa",
          "Europe",
          "Asia",
          "Africa",
          "South America",
          "Europe",
          "Europe",
          "Asia",
          "Asia",
          "Asia",
          "Africa",
          "Asia",
          "Africa",
          "North America",
          "Africa",
          "Asia",
          "Africa",
          "Europe",
          "Asia",
          "Europe",
          "North America",
          "South America",
          "Asia",
          "South America",
          "Asia",
          "Asia",
          "Africa",
          "Africa",
          "",
          "",
          "",
          "",
          "",
          ""
         ],
         "type": "sunburst",
         "values": [
          2430,
          1653,
          2958,
          107,
          498,
          11,
          51122,
          3159,
          909,
          8368,
          3195,
          179,
          420,
          8342,
          31,
          1903,
          21887,
          314,
          65,
          1,
          11417,
          4979,
          254,
          245977,
          3,
          9839,
          139,
          3,
          523,
          21631,
          143,
          63,
          133,
          19974,
          4833,
          58685,
          143,
          123,
          2763,
          185,
          5420,
          291,
          229,
          19097,
          700,
          2334,
          63,
          3028,
          15513,
          10298,
          1792,
          89,
          7,
          528,
          645,
          2271,
          2,
          726,
          83546,
          75,
          144,
          3425,
          67883,
          572,
          6272,
          1,
          6249,
          86,
          46,
          189,
          247,
          3992,
          14252,
          29,
          156302,
          34316,
          59409,
          13245,
          4135,
          5526,
          95486,
          391,
          7438,
          4543,
          3150,
          1817,
          1558,
          1039,
          1452,
          1538,
          4297,
          285,
          85,
          2088,
          54,
          3162,
          622,
          292,
          1004,
          1051,
          60,
          347,
          303,
          434,
          10,
          179797,
          3760,
          22,
          2,
          939,
          8548,
          587,
          3196,
          402,
          2061,
          15323,
          26,
          172,
          170,
          1831,
          3047,
          607,
          1549,
          12601,
          1971,
          5727,
          10,
          3045,
          44690,
          12068,
          42077,
          15897,
          256,
          19795,
          81517,
          247,
          28,
          6,
          72,
          21,
          6457,
          795,
          4321,
          10,
          79,
          29,
          6424,
          3769,
          194,
          48940,
          1557,
          85,
          67101,
          435,
          1864,
          168,
          12649,
          9886,
          996,
          9,
          90,
          21,
          83,
          81,
          139,
          7755,
          27983,
          333,
          26404,
          1108,
          120593,
          497648,
          569,
          622,
          1312,
          35,
          618,
          1016,
          1432,
          0,
          0,
          0,
          0,
          0,
          0
         ],
         "visible": true
        },
        {
         "labels": [
          "Afghanistan",
          "Albania",
          "Algeria",
          "Andorra",
          "Angola",
          "Antigua and Barbuda",
          "Argentina",
          "Armenia",
          "Australia",
          "Austria",
          "Azerbaijan",
          "Bahamas",
          "Bahrain",
          "Bangladesh",
          "Barbados",
          "Belarus",
          "Belgium",
          "Belize",
          "Benin",
          "Bhutan",
          "Bolivia",
          "Bosnia and Herzegovina",
          "Botswana",
          "Brazil",
          "Brunei",
          "Bulgaria",
          "Burkina Faso",
          "Burundi",
          "Cameroon",
          "Canada",
          "Cape Verde",
          "Central African Republic",
          "Chad",
          "Chile",
          "China",
          "Colombia",
          "Comoros",
          "Congo",
          "Costa Rica",
          "Cote d'Ivoire",
          "Croatia",
          "Cuba",
          "Cyprus",
          "Czechia",
          "Democratic Republic of Congo",
          "Denmark",
          "Djibouti",
          "Dominican Republic",
          "Ecuador",
          "Egypt",
          "El Salvador",
          "Equatorial Guinea",
          "Eritrea",
          "Estonia",
          "Eswatini",
          "Ethiopia",
          "Fiji",
          "Finland",
          "France",
          "Gabon",
          "Gambia",
          "Georgia",
          "Germany",
          "Ghana",
          "Greece",
          "Grenada",
          "Guatemala",
          "Guinea",
          "Guinea-Bissau",
          "Guyana",
          "Haiti",
          "Honduras",
          "Hungary",
          "Iceland",
          "India",
          "Indonesia",
          "Iran",
          "Iraq",
          "Ireland",
          "Israel",
          "Italy",
          "Jamaica",
          "Japan",
          "Jordan",
          "Kazakhstan",
          "Kenya",
          "Kosovo",
          "Kuwait",
          "Kyrgyzstan",
          "Latvia",
          "Lebanon",
          "Lesotho",
          "Liberia",
          "Libya",
          "Liechtenstein",
          "Lithuania",
          "Luxembourg",
          "Madagascar",
          "Malawi",
          "Malaysia",
          "Maldives",
          "Mali",
          "Malta",
          "Mauritania",
          "Mauritius",
          "Mexico",
          "Moldova",
          "Monaco",
          "Mongolia",
          "Montenegro",
          "Morocco",
          "Mozambique",
          "Myanmar",
          "Namibia",
          "Nepal",
          "Netherlands",
          "New Zealand",
          "Nicaragua",
          "Niger",
          "Nigeria",
          "North Macedonia",
          "Norway",
          "Oman",
          "Pakistan",
          "Palestine",
          "Panama",
          "Papua New Guinea",
          "Paraguay",
          "Peru",
          "Philippines",
          "Poland",
          "Portugal",
          "Qatar",
          "Romania",
          "Russia",
          "Rwanda",
          "Saint Lucia",
          "Saint Vincent and the Grenadines",
          "San Marino",
          "Sao Tome and Principe",
          "Saudi Arabia",
          "Senegal",
          "Serbia",
          "Seychelles",
          "Sierra Leone",
          "Singapore",
          "Slovakia",
          "Slovenia",
          "Somalia",
          "South Africa",
          "South Korea",
          "South Sudan",
          "Spain",
          "Sri Lanka",
          "Sudan",
          "Suriname",
          "Sweden",
          "Switzerland",
          "Syria",
          "Taiwan",
          "Tajikistan",
          "Tanzania",
          "Thailand",
          "Togo",
          "Trinidad and Tobago",
          "Tunisia",
          "Turkey",
          "Uganda",
          "Ukraine",
          "United Arab Emirates",
          "United Kingdom",
          "United States",
          "Uruguay",
          "Uzbekistan",
          "Venezuela",
          "Vietnam",
          "Yemen",
          "Zambia",
          "Zimbabwe",
          "Africa",
          "Asia",
          "North America",
          "Oceania",
          "Europe",
          "South America"
         ],
         "marker": {
          "colorscale": [
           [
            0,
            "#000004"
           ],
           [
            0.1111111111111111,
            "#1b0c41"
           ],
           [
            0.2222222222222222,
            "#4a0c6b"
           ],
           [
            0.3333333333333333,
            "#781c6d"
           ],
           [
            0.4444444444444444,
            "#a52c60"
           ],
           [
            0.5555555555555556,
            "#cf4446"
           ],
           [
            0.6666666666666666,
            "#ed6925"
           ],
           [
            0.7777777777777778,
            "#fb9b06"
           ],
           [
            0.8888888888888888,
            "#f7d13d"
           ],
           [
            1,
            "#fcffa4"
           ]
          ],
          "showscale": true
         },
         "name": "Total Cases",
         "parents": [
          "Asia",
          "Europe",
          "Africa",
          "Europe",
          "Africa",
          "North America",
          "South America",
          "Asia",
          "Oceania",
          "Europe",
          "Asia",
          "North America",
          "Asia",
          "Asia",
          "North America",
          "Europe",
          "Europe",
          "North America",
          "Africa",
          "Asia",
          "South America",
          "Europe",
          "Africa",
          "South America",
          "Asia",
          "Europe",
          "Africa",
          "Africa",
          "Africa",
          "North America",
          "Africa",
          "Africa",
          "Africa",
          "South America",
          "Asia",
          "South America",
          "Africa",
          "Africa",
          "North America",
          "Africa",
          "Europe",
          "North America",
          "Europe",
          "Europe",
          "Africa",
          "Europe",
          "Africa",
          "North America",
          "South America",
          "Africa",
          "North America",
          "Africa",
          "Africa",
          "Europe",
          "Africa",
          "Africa",
          "Oceania",
          "Europe",
          "Europe",
          "Africa",
          "Africa",
          "Asia",
          "Europe",
          "Africa",
          "Europe",
          "North America",
          "North America",
          "Africa",
          "Africa",
          "South America",
          "North America",
          "North America",
          "Europe",
          "Europe",
          "Asia",
          "Asia",
          "Asia",
          "Asia",
          "Europe",
          "Asia",
          "Europe",
          "North America",
          "Asia",
          "Asia",
          "Asia",
          "Africa",
          "Europe",
          "Asia",
          "Asia",
          "Europe",
          "Asia",
          "Africa",
          "Africa",
          "Africa",
          "Europe",
          "Europe",
          "Europe",
          "Africa",
          "Africa",
          "Asia",
          "Asia",
          "Africa",
          "Europe",
          "Africa",
          "Africa",
          "North America",
          "Europe",
          "Europe",
          "Asia",
          "Europe",
          "Africa",
          "Africa",
          "Asia",
          "Africa",
          "Asia",
          "Europe",
          "Oceania",
          "North America",
          "Africa",
          "Africa",
          "Europe",
          "Europe",
          "Asia",
          "Asia",
          "Asia",
          "North America",
          "Oceania",
          "South America",
          "South America",
          "Asia",
          "Europe",
          "Europe",
          "Asia",
          "Europe",
          "Europe",
          "Africa",
          "North America",
          "North America",
          "Europe",
          "Africa",
          "Asia",
          "Africa",
          "Europe",
          "Africa",
          "Africa",
          "Asia",
          "Europe",
          "Europe",
          "Africa",
          "Africa",
          "Asia",
          "Africa",
          "Europe",
          "Asia",
          "Africa",
          "South America",
          "Europe",
          "Europe",
          "Asia",
          "Asia",
          "Asia",
          "Africa",
          "Asia",
          "Africa",
          "North America",
          "Africa",
          "Asia",
          "Africa",
          "Europe",
          "Asia",
          "Europe",
          "North America",
          "South America",
          "Asia",
          "South America",
          "Asia",
          "Asia",
          "Africa",
          "Africa",
          "",
          "",
          "",
          "",
          "",
          ""
         ],
         "type": "sunburst",
         "values": [
          55580,
          99062,
          111764,
          10672,
          20499,
          598,
          2060625,
          170234,
          28926,
          443536,
          232973,
          8403,
          117234,
          543024,
          2715,
          276990,
          752379,
          12244,
          5143,
          866,
          241771,
          127537,
          26524,
          10139148,
          185,
          236439,
          11783,
          1983,
          33749,
          848330,
          14999,
          5001,
          3794,
          795845,
          100727,
          2222018,
          3490,
          8419,
          201678,
          31914,
          239685,
          43484,
          33153,
          1146321,
          25080,
          207769,
          6022,
          234502,
          273097,
          177543,
          58546,
          5798,
          2685,
          57033,
          16764,
          151857,
          56,
          53285,
          3597113,
          13553,
          4554,
          268097,
          2388421,
          79655,
          178918,
          148,
          170931,
          15395,
          3091,
          8399,
          12254,
          164495,
          400111,
          6045,
          10991651,
          1271353,
          1566081,
          664750,
          214378,
          744513,
          2795796,
          20924,
          423952,
          359811,
          256388,
          103993,
          65450,
          183322,
          85831,
          81109,
          353371,
          10461,
          1988,
          129325,
          2545,
          193562,
          53782,
          19598,
          30528,
          280272,
          18612,
          8292,
          20762,
          17083,
          603,
          2038276,
          176245,
          1862,
          2638,
          71593,
          480948,
          54968,
          141735,
          37295,
          273351,
          1066522,
          2350,
          6398,
          4733,
          151553,
          99031,
          68315,
          138494,
          571174,
          172315,
          336037,
          970,
          150731,
          1269523,
          559288,
          1631727,
          796339,
          159967,
          777276,
          4105424,
          17988,
          2860,
          1498,
          3472,
          1578,
          374691,
          32630,
          434122,
          2328,
          3849,
          59858,
          290457,
          184352,
          5889,
          1502367,
          86992,
          6417,
          3133122,
          79480,
          30128,
          8856,
          631166,
          547775,
          15143,
          942,
          13308,
          509,
          25323,
          6268,
          7676,
          227643,
          2631876,
          40199,
          1346527,
          368175,
          4117739,
          28077620,
          52163,
          79632,
          135603,
          2368,
          2157,
          73894,
          35768,
          0,
          0,
          0,
          0,
          0,
          0
         ],
         "visible": false
        },
        {
         "labels": [
          "Albania",
          "Algeria",
          "Andorra",
          "Anguilla",
          "Argentina",
          "Austria",
          "Azerbaijan",
          "Bahrain",
          "Bangladesh",
          "Barbados",
          "Belgium",
          "Bermuda",
          "Bolivia",
          "Brazil",
          "Bulgaria",
          "Cambodia",
          "Canada",
          "Cayman Islands",
          "Chile",
          "China",
          "Colombia",
          "Costa Rica",
          "Croatia",
          "Cyprus",
          "Czechia",
          "Denmark",
          "Dominican Republic",
          "Ecuador",
          "Egypt",
          "Estonia",
          "Faeroe Islands",
          "Finland",
          "France",
          "Germany",
          "Gibraltar",
          "Greece",
          "Greenland",
          "Guernsey",
          "Guyana",
          "Hungary",
          "Iceland",
          "India",
          "Indonesia",
          "Iran",
          "Ireland",
          "Isle of Man",
          "Israel",
          "Italy",
          "Japan",
          "Jersey",
          "Kuwait",
          "Latvia",
          "Lebanon",
          "Liechtenstein",
          "Lithuania",
          "Luxembourg",
          "Macao",
          "Maldives",
          "Malta",
          "Mauritius",
          "Mexico",
          "Monaco",
          "Morocco",
          "Myanmar",
          "Nepal",
          "Netherlands",
          "Norway",
          "Oman",
          "Pakistan",
          "Panama",
          "Peru",
          "Poland",
          "Portugal",
          "Qatar",
          "Romania",
          "Russia",
          "Saint Helena",
          "Saudi Arabia",
          "Serbia",
          "Seychelles",
          "Singapore",
          "Slovakia",
          "Slovenia",
          "South Africa",
          "Spain",
          "Sri Lanka",
          "Sweden",
          "Switzerland",
          "Turkey",
          "Turks and Caicos Islands",
          "United Arab Emirates",
          "United Kingdom",
          "United States",
          "Africa",
          "Asia",
          "North America",
          "Europe",
          "South America"
         ],
         "marker": {
          "colors": [
           0.11,
           0.17,
           2.1,
           8.94,
           1.56,
           5.41,
           0.64,
           15.97,
           1.26,
           3.17,
           5.68,
           21.12,
           0.09,
           3.21,
           1.56,
           0.02,
           3.72,
           27.63,
           15.03,
           2.82,
           0.07,
           1.9,
           3.46,
           6.48,
           5.07,
           8.18,
           0,
           0.05,
           0,
           6.57,
           10.96,
           6.3,
           5.41,
           5.81,
           87.07,
           6.65,
           4.55,
           22.57,
           0.08,
           6.21,
           7.54,
           0.8,
           0.72,
           0.01,
           6.3,
           20.2,
           82.4,
           5.69,
           0,
           25.68,
           3.21,
           2.35,
           0.19,
           3.94,
           6.91,
           4.62,
           0.31,
           12.95,
           14.06,
           0.02,
           1.28,
           6.12,
           6.67,
           0.19,
           0.54,
           4.38,
           6.86,
           3.09,
           0.02,
           1.06,
           0.49,
           7.03,
           6.44,
           1.74,
           7.02,
           2.67,
           1.76,
           1.44,
           14.5,
           62.39,
           4.38,
           6.31,
           6.81,
           0.02,
           6.28,
           1.23,
           5.8,
           7.07,
           7.75,
           16.62,
           56.15,
           26.3,
           18.33,
           0,
           0,
           0,
           0,
           0
          ],
          "colorscale": [
           [
            0,
            "#000004"
           ],
           [
            0.1111111111111111,
            "#1b0c41"
           ],
           [
            0.2222222222222222,
            "#4a0c6b"
           ],
           [
            0.3333333333333333,
            "#781c6d"
           ],
           [
            0.4444444444444444,
            "#a52c60"
           ],
           [
            0.5555555555555556,
            "#cf4446"
           ],
           [
            0.6666666666666666,
            "#ed6925"
           ],
           [
            0.7777777777777778,
            "#fb9b06"
           ],
           [
            0.8888888888888888,
            "#f7d13d"
           ],
           [
            1,
            "#fcffa4"
           ]
          ],
          "showscale": true
         },
         "name": "Total Vaccinations",
         "parents": [
          "Europe",
          "Africa",
          "Europe",
          "North America",
          "South America",
          "Europe",
          "Asia",
          "Asia",
          "Asia",
          "North America",
          "Europe",
          "North America",
          "South America",
          "South America",
          "Europe",
          "Asia",
          "North America",
          "North America",
          "South America",
          "Asia",
          "South America",
          "North America",
          "Europe",
          "Europe",
          "Europe",
          "Europe",
          "North America",
          "South America",
          "Africa",
          "Europe",
          "Europe",
          "Europe",
          "Europe",
          "Europe",
          "Europe",
          "Europe",
          "North America",
          "Europe",
          "South America",
          "Europe",
          "Europe",
          "Asia",
          "Asia",
          "Asia",
          "Europe",
          "Europe",
          "Asia",
          "Europe",
          "Asia",
          "Europe",
          "Asia",
          "Europe",
          "Asia",
          "Europe",
          "Europe",
          "Europe",
          "Asia",
          "Asia",
          "Europe",
          "Africa",
          "North America",
          "Europe",
          "Africa",
          "Asia",
          "Asia",
          "Europe",
          "Europe",
          "Asia",
          "Asia",
          "North America",
          "South America",
          "Europe",
          "Europe",
          "Asia",
          "Europe",
          "Europe",
          "Africa",
          "Asia",
          "Europe",
          "Africa",
          "Asia",
          "Europe",
          "Europe",
          "Africa",
          "Europe",
          "Asia",
          "Europe",
          "Europe",
          "Asia",
          "North America",
          "Asia",
          "Europe",
          "North America",
          "",
          "",
          "",
          "",
          ""
         ],
         "type": "sunburst",
         "values": [
          3049,
          75000,
          1622,
          1341,
          707148,
          486888,
          65000,
          271749,
          2082877,
          9115,
          658193,
          13155,
          10167,
          6813168,
          108356,
          3236,
          1402139,
          18159,
          2873389,
          40520000,
          33140,
          96948,
          142222,
          56791,
          542779,
          473945,
          373,
          8190,
          1315,
          87147,
          5355,
          349139,
          3668121,
          4869641,
          29334,
          693436,
          2584,
          15135,
          668,
          600048,
          25718,
          11085173,
          1956725,
          10000,
          310900,
          17180,
          7132468,
          3439703,
          5039,
          25952,
          137000,
          44323,
          12677,
          1504,
          188010,
          28933,
          2000,
          70009,
          62059,
          207,
          1656304,
          2400,
          2461192,
          103142,
          158487,
          750899,
          371630,
          157742,
          52768,
          45535,
          161113,
          2660776,
          656411,
          50000,
          1351280,
          3900000,
          107,
          501710,
          987000,
          61351,
          256000,
          344450,
          141581,
          10414,
          2936011,
          263779,
          585843,
          611842,
          6533510,
          6433,
          5553391,
          17852327,
          61289500,
          0,
          0,
          0,
          0,
          0
         ],
         "visible": false
        }
       ],
       "layout": {
        "template": {
         "data": {
          "bar": [
           {
            "error_x": {
             "color": "#2a3f5f"
            },
            "error_y": {
             "color": "#2a3f5f"
            },
            "marker": {
             "line": {
              "color": "#E5ECF6",
              "width": 0.5
             }
            },
            "type": "bar"
           }
          ],
          "barpolar": [
           {
            "marker": {
             "line": {
              "color": "#E5ECF6",
              "width": 0.5
             }
            },
            "type": "barpolar"
           }
          ],
          "carpet": [
           {
            "aaxis": {
             "endlinecolor": "#2a3f5f",
             "gridcolor": "white",
             "linecolor": "white",
             "minorgridcolor": "white",
             "startlinecolor": "#2a3f5f"
            },
            "baxis": {
             "endlinecolor": "#2a3f5f",
             "gridcolor": "white",
             "linecolor": "white",
             "minorgridcolor": "white",
             "startlinecolor": "#2a3f5f"
            },
            "type": "carpet"
           }
          ],
          "choropleth": [
           {
            "colorbar": {
             "outlinewidth": 0,
             "ticks": ""
            },
            "type": "choropleth"
           }
          ],
          "contour": [
           {
            "colorbar": {
             "outlinewidth": 0,
             "ticks": ""
            },
            "colorscale": [
             [
              0,
              "#0d0887"
             ],
             [
              0.1111111111111111,
              "#46039f"
             ],
             [
              0.2222222222222222,
              "#7201a8"
             ],
             [
              0.3333333333333333,
              "#9c179e"
             ],
             [
              0.4444444444444444,
              "#bd3786"
             ],
             [
              0.5555555555555556,
              "#d8576b"
             ],
             [
              0.6666666666666666,
              "#ed7953"
             ],
             [
              0.7777777777777778,
              "#fb9f3a"
             ],
             [
              0.8888888888888888,
              "#fdca26"
             ],
             [
              1,
              "#f0f921"
             ]
            ],
            "type": "contour"
           }
          ],
          "contourcarpet": [
           {
            "colorbar": {
             "outlinewidth": 0,
             "ticks": ""
            },
            "type": "contourcarpet"
           }
          ],
          "heatmap": [
           {
            "colorbar": {
             "outlinewidth": 0,
             "ticks": ""
            },
            "colorscale": [
             [
              0,
              "#0d0887"
             ],
             [
              0.1111111111111111,
              "#46039f"
             ],
             [
              0.2222222222222222,
              "#7201a8"
             ],
             [
              0.3333333333333333,
              "#9c179e"
             ],
             [
              0.4444444444444444,
              "#bd3786"
             ],
             [
              0.5555555555555556,
              "#d8576b"
             ],
             [
              0.6666666666666666,
              "#ed7953"
             ],
             [
              0.7777777777777778,
              "#fb9f3a"
             ],
             [
              0.8888888888888888,
              "#fdca26"
             ],
             [
              1,
              "#f0f921"
             ]
            ],
            "type": "heatmap"
           }
          ],
          "heatmapgl": [
           {
            "colorbar": {
             "outlinewidth": 0,
             "ticks": ""
            },
            "colorscale": [
             [
              0,
              "#0d0887"
             ],
             [
              0.1111111111111111,
              "#46039f"
             ],
             [
              0.2222222222222222,
              "#7201a8"
             ],
             [
              0.3333333333333333,
              "#9c179e"
             ],
             [
              0.4444444444444444,
              "#bd3786"
             ],
             [
              0.5555555555555556,
              "#d8576b"
             ],
             [
              0.6666666666666666,
              "#ed7953"
             ],
             [
              0.7777777777777778,
              "#fb9f3a"
             ],
             [
              0.8888888888888888,
              "#fdca26"
             ],
             [
              1,
              "#f0f921"
             ]
            ],
            "type": "heatmapgl"
           }
          ],
          "histogram": [
           {
            "marker": {
             "colorbar": {
              "outlinewidth": 0,
              "ticks": ""
             }
            },
            "type": "histogram"
           }
          ],
          "histogram2d": [
           {
            "colorbar": {
             "outlinewidth": 0,
             "ticks": ""
            },
            "colorscale": [
             [
              0,
              "#0d0887"
             ],
             [
              0.1111111111111111,
              "#46039f"
             ],
             [
              0.2222222222222222,
              "#7201a8"
             ],
             [
              0.3333333333333333,
              "#9c179e"
             ],
             [
              0.4444444444444444,
              "#bd3786"
             ],
             [
              0.5555555555555556,
              "#d8576b"
             ],
             [
              0.6666666666666666,
              "#ed7953"
             ],
             [
              0.7777777777777778,
              "#fb9f3a"
             ],
             [
              0.8888888888888888,
              "#fdca26"
             ],
             [
              1,
              "#f0f921"
             ]
            ],
            "type": "histogram2d"
           }
          ],
          "histogram2dcontour": [
           {
            "colorbar": {
             "outlinewidth": 0,
             "ticks": ""
            },
            "colorscale": [
             [
              0,
              "#0d0887"
             ],
             [
              0.1111111111111111,
              "#46039f"
             ],
             [
              0.2222222222222222,
              "#7201a8"
             ],
             [
              0.3333333333333333,
              "#9c179e"
             ],
             [
              0.4444444444444444,
              "#bd3786"
             ],
             [
              0.5555555555555556,
              "#d8576b"
             ],
             [
              0.6666666666666666,
              "#ed7953"
             ],
             [
              0.7777777777777778,
              "#fb9f3a"
             ],
             [
              0.8888888888888888,
              "#fdca26"
             ],
             [
              1,
              "#f0f921"
             ]
            ],
            "type": "histogram2dcontour"
           }
          ],
          "mesh3d": [
           {
            "colorbar": {
             "outlinewidth": 0,
             "ticks": ""
            },
            "type": "mesh3d"
           }
          ],
          "parcoords": [
           {
            "line": {
             "colorbar": {
              "outlinewidth": 0,
              "ticks": ""
             }
            },
            "type": "parcoords"
           }
          ],
          "pie": [
           {
            "automargin": true,
            "type": "pie"
           }
          ],
          "scatter": [
           {
            "marker": {
             "colorbar": {
              "outlinewidth": 0,
              "ticks": ""
             }
            },
            "type": "scatter"
           }
          ],
          "scatter3d": [
           {
            "line": {
             "colorbar": {
              "outlinewidth": 0,
              "ticks": ""
             }
            },
            "marker": {
             "colorbar": {
              "outlinewidth": 0,
              "ticks": ""
             }
            },
            "type": "scatter3d"
           }
          ],
          "scattercarpet": [
           {
            "marker": {
             "colorbar": {
              "outlinewidth": 0,
              "ticks": ""
             }
            },
            "type": "scattercarpet"
           }
          ],
          "scattergeo": [
           {
            "marker": {
             "colorbar": {
              "outlinewidth": 0,
              "ticks": ""
             }
            },
            "type": "scattergeo"
           }
          ],
          "scattergl": [
           {
            "marker": {
             "colorbar": {
              "outlinewidth": 0,
              "ticks": ""
             }
            },
            "type": "scattergl"
           }
          ],
          "scattermapbox": [
           {
            "marker": {
             "colorbar": {
              "outlinewidth": 0,
              "ticks": ""
             }
            },
            "type": "scattermapbox"
           }
          ],
          "scatterpolar": [
           {
            "marker": {
             "colorbar": {
              "outlinewidth": 0,
              "ticks": ""
             }
            },
            "type": "scatterpolar"
           }
          ],
          "scatterpolargl": [
           {
            "marker": {
             "colorbar": {
              "outlinewidth": 0,
              "ticks": ""
             }
            },
            "type": "scatterpolargl"
           }
          ],
          "scatterternary": [
           {
            "marker": {
             "colorbar": {
              "outlinewidth": 0,
              "ticks": ""
             }
            },
            "type": "scatterternary"
           }
          ],
          "surface": [
           {
            "colorbar": {
             "outlinewidth": 0,
             "ticks": ""
            },
            "colorscale": [
             [
              0,
              "#0d0887"
             ],
             [
              0.1111111111111111,
              "#46039f"
             ],
             [
              0.2222222222222222,
              "#7201a8"
             ],
             [
              0.3333333333333333,
              "#9c179e"
             ],
             [
              0.4444444444444444,
              "#bd3786"
             ],
             [
              0.5555555555555556,
              "#d8576b"
             ],
             [
              0.6666666666666666,
              "#ed7953"
             ],
             [
              0.7777777777777778,
              "#fb9f3a"
             ],
             [
              0.8888888888888888,
              "#fdca26"
             ],
             [
              1,
              "#f0f921"
             ]
            ],
            "type": "surface"
           }
          ],
          "table": [
           {
            "cells": {
             "fill": {
              "color": "#EBF0F8"
             },
             "line": {
              "color": "white"
             }
            },
            "header": {
             "fill": {
              "color": "#C8D4E3"
             },
             "line": {
              "color": "white"
             }
            },
            "type": "table"
           }
          ]
         },
         "layout": {
          "annotationdefaults": {
           "arrowcolor": "#2a3f5f",
           "arrowhead": 0,
           "arrowwidth": 1
          },
          "autotypenumbers": "strict",
          "coloraxis": {
           "colorbar": {
            "outlinewidth": 0,
            "ticks": ""
           }
          },
          "colorscale": {
           "diverging": [
            [
             0,
             "#8e0152"
            ],
            [
             0.1,
             "#c51b7d"
            ],
            [
             0.2,
             "#de77ae"
            ],
            [
             0.3,
             "#f1b6da"
            ],
            [
             0.4,
             "#fde0ef"
            ],
            [
             0.5,
             "#f7f7f7"
            ],
            [
             0.6,
             "#e6f5d0"
            ],
            [
             0.7,
             "#b8e186"
            ],
            [
             0.8,
             "#7fbc41"
            ],
            [
             0.9,
             "#4d9221"
            ],
            [
             1,
             "#276419"
            ]
           ],
           "sequential": [
            [
             0,
             "#0d0887"
            ],
            [
             0.1111111111111111,
             "#46039f"
            ],
            [
             0.2222222222222222,
             "#7201a8"
            ],
            [
             0.3333333333333333,
             "#9c179e"
            ],
            [
             0.4444444444444444,
             "#bd3786"
            ],
            [
             0.5555555555555556,
             "#d8576b"
            ],
            [
             0.6666666666666666,
             "#ed7953"
            ],
            [
             0.7777777777777778,
             "#fb9f3a"
            ],
            [
             0.8888888888888888,
             "#fdca26"
            ],
            [
             1,
             "#f0f921"
            ]
           ],
           "sequentialminus": [
            [
             0,
             "#0d0887"
            ],
            [
             0.1111111111111111,
             "#46039f"
            ],
            [
             0.2222222222222222,
             "#7201a8"
            ],
            [
             0.3333333333333333,
             "#9c179e"
            ],
            [
             0.4444444444444444,
             "#bd3786"
            ],
            [
             0.5555555555555556,
             "#d8576b"
            ],
            [
             0.6666666666666666,
             "#ed7953"
            ],
            [
             0.7777777777777778,
             "#fb9f3a"
            ],
            [
             0.8888888888888888,
             "#fdca26"
            ],
            [
             1,
             "#f0f921"
            ]
           ]
          },
          "colorway": [
           "#636efa",
           "#EF553B",
           "#00cc96",
           "#ab63fa",
           "#FFA15A",
           "#19d3f3",
           "#FF6692",
           "#B6E880",
           "#FF97FF",
           "#FECB52"
          ],
          "font": {
           "color": "#2a3f5f"
          },
          "geo": {
           "bgcolor": "white",
           "lakecolor": "white",
           "landcolor": "#E5ECF6",
           "showlakes": true,
           "showland": true,
           "subunitcolor": "white"
          },
          "hoverlabel": {
           "align": "left"
          },
          "hovermode": "closest",
          "mapbox": {
           "style": "light"
          },
          "paper_bgcolor": "white",
          "plot_bgcolor": "#E5ECF6",
          "polar": {
           "angularaxis": {
            "gridcolor": "white",
            "linecolor": "white",
            "ticks": ""
           },
           "bgcolor": "#E5ECF6",
           "radialaxis": {
            "gridcolor": "white",
            "linecolor": "white",
            "ticks": ""
           }
          },
          "scene": {
           "xaxis": {
            "backgroundcolor": "#E5ECF6",
            "gridcolor": "white",
            "gridwidth": 2,
            "linecolor": "white",
            "showbackground": true,
            "ticks": "",
            "zerolinecolor": "white"
           },
           "yaxis": {
            "backgroundcolor": "#E5ECF6",
            "gridcolor": "white",
            "gridwidth": 2,
            "linecolor": "white",
            "showbackground": true,
            "ticks": "",
            "zerolinecolor": "white"
           },
           "zaxis": {
            "backgroundcolor": "#E5ECF6",
            "gridcolor": "white",
            "gridwidth": 2,
            "linecolor": "white",
            "showbackground": true,
            "ticks": "",
            "zerolinecolor": "white"
           }
          },
          "shapedefaults": {
           "line": {
            "color": "#2a3f5f"
           }
          },
          "ternary": {
           "aaxis": {
            "gridcolor": "white",
            "linecolor": "white",
            "ticks": ""
           },
           "baxis": {
            "gridcolor": "white",
            "linecolor": "white",
            "ticks": ""
           },
           "bgcolor": "#E5ECF6",
           "caxis": {
            "gridcolor": "white",
            "linecolor": "white",
            "ticks": ""
           }
          },
          "title": {
           "x": 0.05
          },
          "xaxis": {
           "automargin": true,
           "gridcolor": "white",
           "linecolor": "white",
           "ticks": "",
           "title": {
            "standoff": 15
           },
           "zerolinecolor": "white",
           "zerolinewidth": 2
          },
          "yaxis": {
           "automargin": true,
           "gridcolor": "white",
           "linecolor": "white",
           "ticks": "",
           "title": {
            "standoff": 15
           },
           "zerolinecolor": "white",
           "zerolinewidth": 2
          }
         }
        },
        "updatemenus": [
         {
          "active": 0,
          "buttons": [
           {
            "args": [
             {
              "visible": [
               true,
               false,
               false
              ]
             },
             {
              "showlegend": true,
              "title": "total deaths"
             }
            ],
            "label": "total deaths",
            "method": "update"
           },
           {
            "args": [
             {
              "visible": [
               false,
               true,
               false
              ]
             },
             {
              "showlegend": true,
              "title": "total cases"
             }
            ],
            "label": "total cases",
            "method": "update"
           },
           {
            "args": [
             {
              "visible": [
               false,
               false,
               true
              ]
             },
             {
              "showlegend": true,
              "title": "total vaccinations"
             }
            ],
            "label": "total vaccinations",
            "method": "update"
           }
          ]
         }
        ]
       }
      },
      "text/html": [
       "<div>                            <div id=\"bc4f0f3d-1ed0-4942-8133-fd6f2f980b97\" class=\"plotly-graph-div\" style=\"height:525px; width:100%;\"></div>            <script type=\"text/javascript\">                require([\"plotly\"], function(Plotly) {                    window.PLOTLYENV=window.PLOTLYENV || {};                                    if (document.getElementById(\"bc4f0f3d-1ed0-4942-8133-fd6f2f980b97\")) {                    Plotly.newPlot(                        \"bc4f0f3d-1ed0-4942-8133-fd6f2f980b97\",                        [{\"labels\": [\"Afghanistan\", \"Albania\", \"Algeria\", \"Andorra\", \"Angola\", \"Antigua and Barbuda\", \"Argentina\", \"Armenia\", \"Australia\", \"Austria\", \"Azerbaijan\", \"Bahamas\", \"Bahrain\", \"Bangladesh\", \"Barbados\", \"Belarus\", \"Belgium\", \"Belize\", \"Benin\", \"Bhutan\", \"Bolivia\", \"Bosnia and Herzegovina\", \"Botswana\", \"Brazil\", \"Brunei\", \"Bulgaria\", \"Burkina Faso\", \"Burundi\", \"Cameroon\", \"Canada\", \"Cape Verde\", \"Central African Republic\", \"Chad\", \"Chile\", \"China\", \"Colombia\", \"Comoros\", \"Congo\", \"Costa Rica\", \"Cote d'Ivoire\", \"Croatia\", \"Cuba\", \"Cyprus\", \"Czechia\", \"Democratic Republic of Congo\", \"Denmark\", \"Djibouti\", \"Dominican Republic\", \"Ecuador\", \"Egypt\", \"El Salvador\", \"Equatorial Guinea\", \"Eritrea\", \"Estonia\", \"Eswatini\", \"Ethiopia\", \"Fiji\", \"Finland\", \"France\", \"Gabon\", \"Gambia\", \"Georgia\", \"Germany\", \"Ghana\", \"Greece\", \"Grenada\", \"Guatemala\", \"Guinea\", \"Guinea-Bissau\", \"Guyana\", \"Haiti\", \"Honduras\", \"Hungary\", \"Iceland\", \"India\", \"Indonesia\", \"Iran\", \"Iraq\", \"Ireland\", \"Israel\", \"Italy\", \"Jamaica\", \"Japan\", \"Jordan\", \"Kazakhstan\", \"Kenya\", \"Kosovo\", \"Kuwait\", \"Kyrgyzstan\", \"Latvia\", \"Lebanon\", \"Lesotho\", \"Liberia\", \"Libya\", \"Liechtenstein\", \"Lithuania\", \"Luxembourg\", \"Madagascar\", \"Malawi\", \"Malaysia\", \"Maldives\", \"Mali\", \"Malta\", \"Mauritania\", \"Mauritius\", \"Mexico\", \"Moldova\", \"Monaco\", \"Mongolia\", \"Montenegro\", \"Morocco\", \"Mozambique\", \"Myanmar\", \"Namibia\", \"Nepal\", \"Netherlands\", \"New Zealand\", \"Nicaragua\", \"Niger\", \"Nigeria\", \"North Macedonia\", \"Norway\", \"Oman\", \"Pakistan\", \"Palestine\", \"Panama\", \"Papua New Guinea\", \"Paraguay\", \"Peru\", \"Philippines\", \"Poland\", \"Portugal\", \"Qatar\", \"Romania\", \"Russia\", \"Rwanda\", \"Saint Lucia\", \"Saint Vincent and the Grenadines\", \"San Marino\", \"Sao Tome and Principe\", \"Saudi Arabia\", \"Senegal\", \"Serbia\", \"Seychelles\", \"Sierra Leone\", \"Singapore\", \"Slovakia\", \"Slovenia\", \"Somalia\", \"South Africa\", \"South Korea\", \"South Sudan\", \"Spain\", \"Sri Lanka\", \"Sudan\", \"Suriname\", \"Sweden\", \"Switzerland\", \"Syria\", \"Taiwan\", \"Tajikistan\", \"Tanzania\", \"Thailand\", \"Togo\", \"Trinidad and Tobago\", \"Tunisia\", \"Turkey\", \"Uganda\", \"Ukraine\", \"United Arab Emirates\", \"United Kingdom\", \"United States\", \"Uruguay\", \"Uzbekistan\", \"Venezuela\", \"Vietnam\", \"Yemen\", \"Zambia\", \"Zimbabwe\", \"Africa\", \"Asia\", \"North America\", \"Oceania\", \"Europe\", \"South America\"], \"marker\": {\"colorscale\": [[0.0, \"Green\"], [0.5, \"Blue\"], [1.0, \"Gold\"]], \"showscale\": true}, \"name\": \"Total Deaths\", \"parents\": [\"Asia\", \"Europe\", \"Africa\", \"Europe\", \"Africa\", \"North America\", \"South America\", \"Asia\", \"Oceania\", \"Europe\", \"Asia\", \"North America\", \"Asia\", \"Asia\", \"North America\", \"Europe\", \"Europe\", \"North America\", \"Africa\", \"Asia\", \"South America\", \"Europe\", \"Africa\", \"South America\", \"Asia\", \"Europe\", \"Africa\", \"Africa\", \"Africa\", \"North America\", \"Africa\", \"Africa\", \"Africa\", \"South America\", \"Asia\", \"South America\", \"Africa\", \"Africa\", \"North America\", \"Africa\", \"Europe\", \"North America\", \"Europe\", \"Europe\", \"Africa\", \"Europe\", \"Africa\", \"North America\", \"South America\", \"Africa\", \"North America\", \"Africa\", \"Africa\", \"Europe\", \"Africa\", \"Africa\", \"Oceania\", \"Europe\", \"Europe\", \"Africa\", \"Africa\", \"Asia\", \"Europe\", \"Africa\", \"Europe\", \"North America\", \"North America\", \"Africa\", \"Africa\", \"South America\", \"North America\", \"North America\", \"Europe\", \"Europe\", \"Asia\", \"Asia\", \"Asia\", \"Asia\", \"Europe\", \"Asia\", \"Europe\", \"North America\", \"Asia\", \"Asia\", \"Asia\", \"Africa\", \"Europe\", \"Asia\", \"Asia\", \"Europe\", \"Asia\", \"Africa\", \"Africa\", \"Africa\", \"Europe\", \"Europe\", \"Europe\", \"Africa\", \"Africa\", \"Asia\", \"Asia\", \"Africa\", \"Europe\", \"Africa\", \"Africa\", \"North America\", \"Europe\", \"Europe\", \"Asia\", \"Europe\", \"Africa\", \"Africa\", \"Asia\", \"Africa\", \"Asia\", \"Europe\", \"Oceania\", \"North America\", \"Africa\", \"Africa\", \"Europe\", \"Europe\", \"Asia\", \"Asia\", \"Asia\", \"North America\", \"Oceania\", \"South America\", \"South America\", \"Asia\", \"Europe\", \"Europe\", \"Asia\", \"Europe\", \"Europe\", \"Africa\", \"North America\", \"North America\", \"Europe\", \"Africa\", \"Asia\", \"Africa\", \"Europe\", \"Africa\", \"Africa\", \"Asia\", \"Europe\", \"Europe\", \"Africa\", \"Africa\", \"Asia\", \"Africa\", \"Europe\", \"Asia\", \"Africa\", \"South America\", \"Europe\", \"Europe\", \"Asia\", \"Asia\", \"Asia\", \"Africa\", \"Asia\", \"Africa\", \"North America\", \"Africa\", \"Asia\", \"Africa\", \"Europe\", \"Asia\", \"Europe\", \"North America\", \"South America\", \"Asia\", \"South America\", \"Asia\", \"Asia\", \"Africa\", \"Africa\", \"\", \"\", \"\", \"\", \"\", \"\"], \"type\": \"sunburst\", \"values\": [2430.0, 1653.0, 2958.0, 107.0, 498.0, 11.0, 51122.0, 3159.0, 909.0, 8368.0, 3195.0, 179.0, 420.0, 8342.0, 31.0, 1903.0, 21887.0, 314.0, 65.0, 1.0, 11417.0, 4979.0, 254.0, 245977.0, 3.0, 9839.0, 139.0, 3.0, 523.0, 21631.0, 143.0, 63.0, 133.0, 19974.0, 4833.0, 58685.0, 143.0, 123.0, 2763.0, 185.0, 5420.0, 291.0, 229.0, 19097.0, 700.0, 2334.0, 63.0, 3028.0, 15513.0, 10298.0, 1792.0, 89.0, 7.0, 528.0, 645.0, 2271.0, 2.0, 726.0, 83546.0, 75.0, 144.0, 3425.0, 67883.0, 572.0, 6272.0, 1.0, 6249.0, 86.0, 46.0, 189.0, 247.0, 3992.0, 14252.0, 29.0, 156302.0, 34316.0, 59409.0, 13245.0, 4135.0, 5526.0, 95486.0, 391.0, 7438.0, 4543.0, 3150.0, 1817.0, 1558.0, 1039.0, 1452.0, 1538.0, 4297.0, 285.0, 85.0, 2088.0, 54.0, 3162.0, 622.0, 292.0, 1004.0, 1051.0, 60.0, 347.0, 303.0, 434.0, 10.0, 179797.0, 3760.0, 22.0, 2.0, 939.0, 8548.0, 587.0, 3196.0, 402.0, 2061.0, 15323.0, 26.0, 172.0, 170.0, 1831.0, 3047.0, 607.0, 1549.0, 12601.0, 1971.0, 5727.0, 10.0, 3045.0, 44690.0, 12068.0, 42077.0, 15897.0, 256.0, 19795.0, 81517.0, 247.0, 28.0, 6.0, 72.0, 21.0, 6457.0, 795.0, 4321.0, 10.0, 79.0, 29.0, 6424.0, 3769.0, 194.0, 48940.0, 1557.0, 85.0, 67101.0, 435.0, 1864.0, 168.0, 12649.0, 9886.0, 996.0, 9.0, 90.0, 21.0, 83.0, 81.0, 139.0, 7755.0, 27983.0, 333.0, 26404.0, 1108.0, 120593.0, 497648.0, 569.0, 622.0, 1312.0, 35.0, 618.0, 1016.0, 1432.0, 0, 0, 0, 0, 0, 0], \"visible\": true}, {\"labels\": [\"Afghanistan\", \"Albania\", \"Algeria\", \"Andorra\", \"Angola\", \"Antigua and Barbuda\", \"Argentina\", \"Armenia\", \"Australia\", \"Austria\", \"Azerbaijan\", \"Bahamas\", \"Bahrain\", \"Bangladesh\", \"Barbados\", \"Belarus\", \"Belgium\", \"Belize\", \"Benin\", \"Bhutan\", \"Bolivia\", \"Bosnia and Herzegovina\", \"Botswana\", \"Brazil\", \"Brunei\", \"Bulgaria\", \"Burkina Faso\", \"Burundi\", \"Cameroon\", \"Canada\", \"Cape Verde\", \"Central African Republic\", \"Chad\", \"Chile\", \"China\", \"Colombia\", \"Comoros\", \"Congo\", \"Costa Rica\", \"Cote d'Ivoire\", \"Croatia\", \"Cuba\", \"Cyprus\", \"Czechia\", \"Democratic Republic of Congo\", \"Denmark\", \"Djibouti\", \"Dominican Republic\", \"Ecuador\", \"Egypt\", \"El Salvador\", \"Equatorial Guinea\", \"Eritrea\", \"Estonia\", \"Eswatini\", \"Ethiopia\", \"Fiji\", \"Finland\", \"France\", \"Gabon\", \"Gambia\", \"Georgia\", \"Germany\", \"Ghana\", \"Greece\", \"Grenada\", \"Guatemala\", \"Guinea\", \"Guinea-Bissau\", \"Guyana\", \"Haiti\", \"Honduras\", \"Hungary\", \"Iceland\", \"India\", \"Indonesia\", \"Iran\", \"Iraq\", \"Ireland\", \"Israel\", \"Italy\", \"Jamaica\", \"Japan\", \"Jordan\", \"Kazakhstan\", \"Kenya\", \"Kosovo\", \"Kuwait\", \"Kyrgyzstan\", \"Latvia\", \"Lebanon\", \"Lesotho\", \"Liberia\", \"Libya\", \"Liechtenstein\", \"Lithuania\", \"Luxembourg\", \"Madagascar\", \"Malawi\", \"Malaysia\", \"Maldives\", \"Mali\", \"Malta\", \"Mauritania\", \"Mauritius\", \"Mexico\", \"Moldova\", \"Monaco\", \"Mongolia\", \"Montenegro\", \"Morocco\", \"Mozambique\", \"Myanmar\", \"Namibia\", \"Nepal\", \"Netherlands\", \"New Zealand\", \"Nicaragua\", \"Niger\", \"Nigeria\", \"North Macedonia\", \"Norway\", \"Oman\", \"Pakistan\", \"Palestine\", \"Panama\", \"Papua New Guinea\", \"Paraguay\", \"Peru\", \"Philippines\", \"Poland\", \"Portugal\", \"Qatar\", \"Romania\", \"Russia\", \"Rwanda\", \"Saint Lucia\", \"Saint Vincent and the Grenadines\", \"San Marino\", \"Sao Tome and Principe\", \"Saudi Arabia\", \"Senegal\", \"Serbia\", \"Seychelles\", \"Sierra Leone\", \"Singapore\", \"Slovakia\", \"Slovenia\", \"Somalia\", \"South Africa\", \"South Korea\", \"South Sudan\", \"Spain\", \"Sri Lanka\", \"Sudan\", \"Suriname\", \"Sweden\", \"Switzerland\", \"Syria\", \"Taiwan\", \"Tajikistan\", \"Tanzania\", \"Thailand\", \"Togo\", \"Trinidad and Tobago\", \"Tunisia\", \"Turkey\", \"Uganda\", \"Ukraine\", \"United Arab Emirates\", \"United Kingdom\", \"United States\", \"Uruguay\", \"Uzbekistan\", \"Venezuela\", \"Vietnam\", \"Yemen\", \"Zambia\", \"Zimbabwe\", \"Africa\", \"Asia\", \"North America\", \"Oceania\", \"Europe\", \"South America\"], \"marker\": {\"colorscale\": [[0.0, \"#000004\"], [0.1111111111111111, \"#1b0c41\"], [0.2222222222222222, \"#4a0c6b\"], [0.3333333333333333, \"#781c6d\"], [0.4444444444444444, \"#a52c60\"], [0.5555555555555556, \"#cf4446\"], [0.6666666666666666, \"#ed6925\"], [0.7777777777777778, \"#fb9b06\"], [0.8888888888888888, \"#f7d13d\"], [1.0, \"#fcffa4\"]], \"showscale\": true}, \"name\": \"Total Cases\", \"parents\": [\"Asia\", \"Europe\", \"Africa\", \"Europe\", \"Africa\", \"North America\", \"South America\", \"Asia\", \"Oceania\", \"Europe\", \"Asia\", \"North America\", \"Asia\", \"Asia\", \"North America\", \"Europe\", \"Europe\", \"North America\", \"Africa\", \"Asia\", \"South America\", \"Europe\", \"Africa\", \"South America\", \"Asia\", \"Europe\", \"Africa\", \"Africa\", \"Africa\", \"North America\", \"Africa\", \"Africa\", \"Africa\", \"South America\", \"Asia\", \"South America\", \"Africa\", \"Africa\", \"North America\", \"Africa\", \"Europe\", \"North America\", \"Europe\", \"Europe\", \"Africa\", \"Europe\", \"Africa\", \"North America\", \"South America\", \"Africa\", \"North America\", \"Africa\", \"Africa\", \"Europe\", \"Africa\", \"Africa\", \"Oceania\", \"Europe\", \"Europe\", \"Africa\", \"Africa\", \"Asia\", \"Europe\", \"Africa\", \"Europe\", \"North America\", \"North America\", \"Africa\", \"Africa\", \"South America\", \"North America\", \"North America\", \"Europe\", \"Europe\", \"Asia\", \"Asia\", \"Asia\", \"Asia\", \"Europe\", \"Asia\", \"Europe\", \"North America\", \"Asia\", \"Asia\", \"Asia\", \"Africa\", \"Europe\", \"Asia\", \"Asia\", \"Europe\", \"Asia\", \"Africa\", \"Africa\", \"Africa\", \"Europe\", \"Europe\", \"Europe\", \"Africa\", \"Africa\", \"Asia\", \"Asia\", \"Africa\", \"Europe\", \"Africa\", \"Africa\", \"North America\", \"Europe\", \"Europe\", \"Asia\", \"Europe\", \"Africa\", \"Africa\", \"Asia\", \"Africa\", \"Asia\", \"Europe\", \"Oceania\", \"North America\", \"Africa\", \"Africa\", \"Europe\", \"Europe\", \"Asia\", \"Asia\", \"Asia\", \"North America\", \"Oceania\", \"South America\", \"South America\", \"Asia\", \"Europe\", \"Europe\", \"Asia\", \"Europe\", \"Europe\", \"Africa\", \"North America\", \"North America\", \"Europe\", \"Africa\", \"Asia\", \"Africa\", \"Europe\", \"Africa\", \"Africa\", \"Asia\", \"Europe\", \"Europe\", \"Africa\", \"Africa\", \"Asia\", \"Africa\", \"Europe\", \"Asia\", \"Africa\", \"South America\", \"Europe\", \"Europe\", \"Asia\", \"Asia\", \"Asia\", \"Africa\", \"Asia\", \"Africa\", \"North America\", \"Africa\", \"Asia\", \"Africa\", \"Europe\", \"Asia\", \"Europe\", \"North America\", \"South America\", \"Asia\", \"South America\", \"Asia\", \"Asia\", \"Africa\", \"Africa\", \"\", \"\", \"\", \"\", \"\", \"\"], \"type\": \"sunburst\", \"values\": [55580.0, 99062.0, 111764.0, 10672.0, 20499.0, 598.0, 2060625.0, 170234.0, 28926.0, 443536.0, 232973.0, 8403.0, 117234.0, 543024.0, 2715.0, 276990.0, 752379.0, 12244.0, 5143.0, 866.0, 241771.0, 127537.0, 26524.0, 10139148.0, 185.0, 236439.0, 11783.0, 1983.0, 33749.0, 848330.0, 14999.0, 5001.0, 3794.0, 795845.0, 100727.0, 2222018.0, 3490.0, 8419.0, 201678.0, 31914.0, 239685.0, 43484.0, 33153.0, 1146321.0, 25080.0, 207769.0, 6022.0, 234502.0, 273097.0, 177543.0, 58546.0, 5798.0, 2685.0, 57033.0, 16764.0, 151857.0, 56.0, 53285.0, 3597113.0, 13553.0, 4554.0, 268097.0, 2388421.0, 79655.0, 178918.0, 148.0, 170931.0, 15395.0, 3091.0, 8399.0, 12254.0, 164495.0, 400111.0, 6045.0, 10991651.0, 1271353.0, 1566081.0, 664750.0, 214378.0, 744513.0, 2795796.0, 20924.0, 423952.0, 359811.0, 256388.0, 103993.0, 65450.0, 183322.0, 85831.0, 81109.0, 353371.0, 10461.0, 1988.0, 129325.0, 2545.0, 193562.0, 53782.0, 19598.0, 30528.0, 280272.0, 18612.0, 8292.0, 20762.0, 17083.0, 603.0, 2038276.0, 176245.0, 1862.0, 2638.0, 71593.0, 480948.0, 54968.0, 141735.0, 37295.0, 273351.0, 1066522.0, 2350.0, 6398.0, 4733.0, 151553.0, 99031.0, 68315.0, 138494.0, 571174.0, 172315.0, 336037.0, 970.0, 150731.0, 1269523.0, 559288.0, 1631727.0, 796339.0, 159967.0, 777276.0, 4105424.0, 17988.0, 2860.0, 1498.0, 3472.0, 1578.0, 374691.0, 32630.0, 434122.0, 2328.0, 3849.0, 59858.0, 290457.0, 184352.0, 5889.0, 1502367.0, 86992.0, 6417.0, 3133122.0, 79480.0, 30128.0, 8856.0, 631166.0, 547775.0, 15143.0, 942.0, 13308.0, 509.0, 25323.0, 6268.0, 7676.0, 227643.0, 2631876.0, 40199.0, 1346527.0, 368175.0, 4117739.0, 28077620.0, 52163.0, 79632.0, 135603.0, 2368.0, 2157.0, 73894.0, 35768.0, 0, 0, 0, 0, 0, 0], \"visible\": false}, {\"labels\": [\"Albania\", \"Algeria\", \"Andorra\", \"Anguilla\", \"Argentina\", \"Austria\", \"Azerbaijan\", \"Bahrain\", \"Bangladesh\", \"Barbados\", \"Belgium\", \"Bermuda\", \"Bolivia\", \"Brazil\", \"Bulgaria\", \"Cambodia\", \"Canada\", \"Cayman Islands\", \"Chile\", \"China\", \"Colombia\", \"Costa Rica\", \"Croatia\", \"Cyprus\", \"Czechia\", \"Denmark\", \"Dominican Republic\", \"Ecuador\", \"Egypt\", \"Estonia\", \"Faeroe Islands\", \"Finland\", \"France\", \"Germany\", \"Gibraltar\", \"Greece\", \"Greenland\", \"Guernsey\", \"Guyana\", \"Hungary\", \"Iceland\", \"India\", \"Indonesia\", \"Iran\", \"Ireland\", \"Isle of Man\", \"Israel\", \"Italy\", \"Japan\", \"Jersey\", \"Kuwait\", \"Latvia\", \"Lebanon\", \"Liechtenstein\", \"Lithuania\", \"Luxembourg\", \"Macao\", \"Maldives\", \"Malta\", \"Mauritius\", \"Mexico\", \"Monaco\", \"Morocco\", \"Myanmar\", \"Nepal\", \"Netherlands\", \"Norway\", \"Oman\", \"Pakistan\", \"Panama\", \"Peru\", \"Poland\", \"Portugal\", \"Qatar\", \"Romania\", \"Russia\", \"Saint Helena\", \"Saudi Arabia\", \"Serbia\", \"Seychelles\", \"Singapore\", \"Slovakia\", \"Slovenia\", \"South Africa\", \"Spain\", \"Sri Lanka\", \"Sweden\", \"Switzerland\", \"Turkey\", \"Turks and Caicos Islands\", \"United Arab Emirates\", \"United Kingdom\", \"United States\", \"Africa\", \"Asia\", \"North America\", \"Europe\", \"South America\"], \"marker\": {\"colors\": [0.11, 0.17, 2.1, 8.94, 1.56, 5.41, 0.64, 15.97, 1.26, 3.17, 5.68, 21.12, 0.09, 3.21, 1.56, 0.02, 3.72, 27.63, 15.03, 2.82, 0.07, 1.9, 3.46, 6.48, 5.07, 8.18, 0.0, 0.05, 0.0, 6.57, 10.96, 6.3, 5.41, 5.81, 87.07, 6.65, 4.55, 22.57, 0.08, 6.21, 7.54, 0.8, 0.72, 0.01, 6.3, 20.2, 82.4, 5.69, 0.0, 25.68, 3.21, 2.35, 0.19, 3.94, 6.91, 4.62, 0.31, 12.95, 14.06, 0.02, 1.28, 6.12, 6.67, 0.19, 0.54, 4.38, 6.86, 3.09, 0.02, 1.06, 0.49, 7.03, 6.44, 1.74, 7.02, 2.67, 1.76, 1.44, 14.5, 62.39, 4.38, 6.31, 6.81, 0.02, 6.28, 1.23, 5.8, 7.07, 7.75, 16.62, 56.15, 26.3, 18.33, 0, 0, 0, 0, 0], \"colorscale\": [[0.0, \"#000004\"], [0.1111111111111111, \"#1b0c41\"], [0.2222222222222222, \"#4a0c6b\"], [0.3333333333333333, \"#781c6d\"], [0.4444444444444444, \"#a52c60\"], [0.5555555555555556, \"#cf4446\"], [0.6666666666666666, \"#ed6925\"], [0.7777777777777778, \"#fb9b06\"], [0.8888888888888888, \"#f7d13d\"], [1.0, \"#fcffa4\"]], \"showscale\": true}, \"name\": \"Total Vaccinations\", \"parents\": [\"Europe\", \"Africa\", \"Europe\", \"North America\", \"South America\", \"Europe\", \"Asia\", \"Asia\", \"Asia\", \"North America\", \"Europe\", \"North America\", \"South America\", \"South America\", \"Europe\", \"Asia\", \"North America\", \"North America\", \"South America\", \"Asia\", \"South America\", \"North America\", \"Europe\", \"Europe\", \"Europe\", \"Europe\", \"North America\", \"South America\", \"Africa\", \"Europe\", \"Europe\", \"Europe\", \"Europe\", \"Europe\", \"Europe\", \"Europe\", \"North America\", \"Europe\", \"South America\", \"Europe\", \"Europe\", \"Asia\", \"Asia\", \"Asia\", \"Europe\", \"Europe\", \"Asia\", \"Europe\", \"Asia\", \"Europe\", \"Asia\", \"Europe\", \"Asia\", \"Europe\", \"Europe\", \"Europe\", \"Asia\", \"Asia\", \"Europe\", \"Africa\", \"North America\", \"Europe\", \"Africa\", \"Asia\", \"Asia\", \"Europe\", \"Europe\", \"Asia\", \"Asia\", \"North America\", \"South America\", \"Europe\", \"Europe\", \"Asia\", \"Europe\", \"Europe\", \"Africa\", \"Asia\", \"Europe\", \"Africa\", \"Asia\", \"Europe\", \"Europe\", \"Africa\", \"Europe\", \"Asia\", \"Europe\", \"Europe\", \"Asia\", \"North America\", \"Asia\", \"Europe\", \"North America\", \"\", \"\", \"\", \"\", \"\"], \"type\": \"sunburst\", \"values\": [3049.0, 75000.0, 1622.0, 1341.0, 707148.0, 486888.0, 65000.0, 271749.0, 2082877.0, 9115.0, 658193.0, 13155.0, 10167.0, 6813168.0, 108356.0, 3236.0, 1402139.0, 18159.0, 2873389.0, 40520000.0, 33140.0, 96948.0, 142222.0, 56791.0, 542779.0, 473945.0, 373.0, 8190.0, 1315.0, 87147.0, 5355.0, 349139.0, 3668121.0, 4869641.0, 29334.0, 693436.0, 2584.0, 15135.0, 668.0, 600048.0, 25718.0, 11085173.0, 1956725.0, 10000.0, 310900.0, 17180.0, 7132468.0, 3439703.0, 5039.0, 25952.0, 137000.0, 44323.0, 12677.0, 1504.0, 188010.0, 28933.0, 2000.0, 70009.0, 62059.0, 207.0, 1656304.0, 2400.0, 2461192.0, 103142.0, 158487.0, 750899.0, 371630.0, 157742.0, 52768.0, 45535.0, 161113.0, 2660776.0, 656411.0, 50000.0, 1351280.0, 3900000.0, 107.0, 501710.0, 987000.0, 61351.0, 256000.0, 344450.0, 141581.0, 10414.0, 2936011.0, 263779.0, 585843.0, 611842.0, 6533510.0, 6433.0, 5553391.0, 17852327.0, 61289500.0, 0, 0, 0, 0, 0], \"visible\": false}],                        {\"template\": {\"data\": {\"bar\": [{\"error_x\": {\"color\": \"#2a3f5f\"}, \"error_y\": {\"color\": \"#2a3f5f\"}, \"marker\": {\"line\": {\"color\": \"#E5ECF6\", \"width\": 0.5}}, \"type\": \"bar\"}], \"barpolar\": [{\"marker\": {\"line\": {\"color\": \"#E5ECF6\", \"width\": 0.5}}, \"type\": \"barpolar\"}], \"carpet\": [{\"aaxis\": {\"endlinecolor\": \"#2a3f5f\", \"gridcolor\": \"white\", \"linecolor\": \"white\", \"minorgridcolor\": \"white\", \"startlinecolor\": \"#2a3f5f\"}, \"baxis\": {\"endlinecolor\": \"#2a3f5f\", \"gridcolor\": \"white\", \"linecolor\": \"white\", \"minorgridcolor\": \"white\", \"startlinecolor\": \"#2a3f5f\"}, \"type\": \"carpet\"}], \"choropleth\": [{\"colorbar\": {\"outlinewidth\": 0, \"ticks\": \"\"}, \"type\": \"choropleth\"}], \"contour\": [{\"colorbar\": {\"outlinewidth\": 0, \"ticks\": \"\"}, \"colorscale\": [[0.0, \"#0d0887\"], [0.1111111111111111, \"#46039f\"], [0.2222222222222222, \"#7201a8\"], [0.3333333333333333, \"#9c179e\"], [0.4444444444444444, \"#bd3786\"], [0.5555555555555556, \"#d8576b\"], [0.6666666666666666, \"#ed7953\"], [0.7777777777777778, \"#fb9f3a\"], [0.8888888888888888, \"#fdca26\"], [1.0, \"#f0f921\"]], \"type\": \"contour\"}], \"contourcarpet\": [{\"colorbar\": {\"outlinewidth\": 0, \"ticks\": \"\"}, \"type\": \"contourcarpet\"}], \"heatmap\": [{\"colorbar\": {\"outlinewidth\": 0, \"ticks\": \"\"}, \"colorscale\": [[0.0, \"#0d0887\"], [0.1111111111111111, \"#46039f\"], [0.2222222222222222, \"#7201a8\"], [0.3333333333333333, \"#9c179e\"], [0.4444444444444444, \"#bd3786\"], [0.5555555555555556, \"#d8576b\"], [0.6666666666666666, \"#ed7953\"], [0.7777777777777778, \"#fb9f3a\"], [0.8888888888888888, \"#fdca26\"], [1.0, \"#f0f921\"]], \"type\": \"heatmap\"}], \"heatmapgl\": [{\"colorbar\": {\"outlinewidth\": 0, \"ticks\": \"\"}, \"colorscale\": [[0.0, \"#0d0887\"], [0.1111111111111111, \"#46039f\"], [0.2222222222222222, \"#7201a8\"], [0.3333333333333333, \"#9c179e\"], [0.4444444444444444, \"#bd3786\"], [0.5555555555555556, \"#d8576b\"], [0.6666666666666666, \"#ed7953\"], [0.7777777777777778, \"#fb9f3a\"], [0.8888888888888888, \"#fdca26\"], [1.0, \"#f0f921\"]], \"type\": \"heatmapgl\"}], \"histogram\": [{\"marker\": {\"colorbar\": {\"outlinewidth\": 0, \"ticks\": \"\"}}, \"type\": \"histogram\"}], \"histogram2d\": [{\"colorbar\": {\"outlinewidth\": 0, \"ticks\": \"\"}, \"colorscale\": [[0.0, \"#0d0887\"], [0.1111111111111111, \"#46039f\"], [0.2222222222222222, \"#7201a8\"], [0.3333333333333333, \"#9c179e\"], [0.4444444444444444, \"#bd3786\"], [0.5555555555555556, \"#d8576b\"], [0.6666666666666666, \"#ed7953\"], [0.7777777777777778, \"#fb9f3a\"], [0.8888888888888888, \"#fdca26\"], [1.0, \"#f0f921\"]], \"type\": \"histogram2d\"}], \"histogram2dcontour\": [{\"colorbar\": {\"outlinewidth\": 0, \"ticks\": \"\"}, \"colorscale\": [[0.0, \"#0d0887\"], [0.1111111111111111, \"#46039f\"], [0.2222222222222222, \"#7201a8\"], [0.3333333333333333, \"#9c179e\"], [0.4444444444444444, \"#bd3786\"], [0.5555555555555556, \"#d8576b\"], [0.6666666666666666, \"#ed7953\"], [0.7777777777777778, \"#fb9f3a\"], [0.8888888888888888, \"#fdca26\"], [1.0, \"#f0f921\"]], \"type\": \"histogram2dcontour\"}], \"mesh3d\": [{\"colorbar\": {\"outlinewidth\": 0, \"ticks\": \"\"}, \"type\": \"mesh3d\"}], \"parcoords\": [{\"line\": {\"colorbar\": {\"outlinewidth\": 0, \"ticks\": \"\"}}, \"type\": \"parcoords\"}], \"pie\": [{\"automargin\": true, \"type\": \"pie\"}], \"scatter\": [{\"marker\": {\"colorbar\": {\"outlinewidth\": 0, \"ticks\": \"\"}}, \"type\": \"scatter\"}], \"scatter3d\": [{\"line\": {\"colorbar\": {\"outlinewidth\": 0, \"ticks\": \"\"}}, \"marker\": {\"colorbar\": {\"outlinewidth\": 0, \"ticks\": \"\"}}, \"type\": \"scatter3d\"}], \"scattercarpet\": [{\"marker\": {\"colorbar\": {\"outlinewidth\": 0, \"ticks\": \"\"}}, \"type\": \"scattercarpet\"}], \"scattergeo\": [{\"marker\": {\"colorbar\": {\"outlinewidth\": 0, \"ticks\": \"\"}}, \"type\": \"scattergeo\"}], \"scattergl\": [{\"marker\": {\"colorbar\": {\"outlinewidth\": 0, \"ticks\": \"\"}}, \"type\": \"scattergl\"}], \"scattermapbox\": [{\"marker\": {\"colorbar\": {\"outlinewidth\": 0, \"ticks\": \"\"}}, \"type\": \"scattermapbox\"}], \"scatterpolar\": [{\"marker\": {\"colorbar\": {\"outlinewidth\": 0, \"ticks\": \"\"}}, \"type\": \"scatterpolar\"}], \"scatterpolargl\": [{\"marker\": {\"colorbar\": {\"outlinewidth\": 0, \"ticks\": \"\"}}, \"type\": \"scatterpolargl\"}], \"scatterternary\": [{\"marker\": {\"colorbar\": {\"outlinewidth\": 0, \"ticks\": \"\"}}, \"type\": \"scatterternary\"}], \"surface\": [{\"colorbar\": {\"outlinewidth\": 0, \"ticks\": \"\"}, \"colorscale\": [[0.0, \"#0d0887\"], [0.1111111111111111, \"#46039f\"], [0.2222222222222222, \"#7201a8\"], [0.3333333333333333, \"#9c179e\"], [0.4444444444444444, \"#bd3786\"], [0.5555555555555556, \"#d8576b\"], [0.6666666666666666, \"#ed7953\"], [0.7777777777777778, \"#fb9f3a\"], [0.8888888888888888, \"#fdca26\"], [1.0, \"#f0f921\"]], \"type\": \"surface\"}], \"table\": [{\"cells\": {\"fill\": {\"color\": \"#EBF0F8\"}, \"line\": {\"color\": \"white\"}}, \"header\": {\"fill\": {\"color\": \"#C8D4E3\"}, \"line\": {\"color\": \"white\"}}, \"type\": \"table\"}]}, \"layout\": {\"annotationdefaults\": {\"arrowcolor\": \"#2a3f5f\", \"arrowhead\": 0, \"arrowwidth\": 1}, \"autotypenumbers\": \"strict\", \"coloraxis\": {\"colorbar\": {\"outlinewidth\": 0, \"ticks\": \"\"}}, \"colorscale\": {\"diverging\": [[0, \"#8e0152\"], [0.1, \"#c51b7d\"], [0.2, \"#de77ae\"], [0.3, \"#f1b6da\"], [0.4, \"#fde0ef\"], [0.5, \"#f7f7f7\"], [0.6, \"#e6f5d0\"], [0.7, \"#b8e186\"], [0.8, \"#7fbc41\"], [0.9, \"#4d9221\"], [1, \"#276419\"]], \"sequential\": [[0.0, \"#0d0887\"], [0.1111111111111111, \"#46039f\"], [0.2222222222222222, \"#7201a8\"], [0.3333333333333333, \"#9c179e\"], [0.4444444444444444, \"#bd3786\"], [0.5555555555555556, \"#d8576b\"], [0.6666666666666666, \"#ed7953\"], [0.7777777777777778, \"#fb9f3a\"], [0.8888888888888888, \"#fdca26\"], [1.0, \"#f0f921\"]], \"sequentialminus\": [[0.0, \"#0d0887\"], [0.1111111111111111, \"#46039f\"], [0.2222222222222222, \"#7201a8\"], [0.3333333333333333, \"#9c179e\"], [0.4444444444444444, \"#bd3786\"], [0.5555555555555556, \"#d8576b\"], [0.6666666666666666, \"#ed7953\"], [0.7777777777777778, \"#fb9f3a\"], [0.8888888888888888, \"#fdca26\"], [1.0, \"#f0f921\"]]}, \"colorway\": [\"#636efa\", \"#EF553B\", \"#00cc96\", \"#ab63fa\", \"#FFA15A\", \"#19d3f3\", \"#FF6692\", \"#B6E880\", \"#FF97FF\", \"#FECB52\"], \"font\": {\"color\": \"#2a3f5f\"}, \"geo\": {\"bgcolor\": \"white\", \"lakecolor\": \"white\", \"landcolor\": \"#E5ECF6\", \"showlakes\": true, \"showland\": true, \"subunitcolor\": \"white\"}, \"hoverlabel\": {\"align\": \"left\"}, \"hovermode\": \"closest\", \"mapbox\": {\"style\": \"light\"}, \"paper_bgcolor\": \"white\", \"plot_bgcolor\": \"#E5ECF6\", \"polar\": {\"angularaxis\": {\"gridcolor\": \"white\", \"linecolor\": \"white\", \"ticks\": \"\"}, \"bgcolor\": \"#E5ECF6\", \"radialaxis\": {\"gridcolor\": \"white\", \"linecolor\": \"white\", \"ticks\": \"\"}}, \"scene\": {\"xaxis\": {\"backgroundcolor\": \"#E5ECF6\", \"gridcolor\": \"white\", \"gridwidth\": 2, \"linecolor\": \"white\", \"showbackground\": true, \"ticks\": \"\", \"zerolinecolor\": \"white\"}, \"yaxis\": {\"backgroundcolor\": \"#E5ECF6\", \"gridcolor\": \"white\", \"gridwidth\": 2, \"linecolor\": \"white\", \"showbackground\": true, \"ticks\": \"\", \"zerolinecolor\": \"white\"}, \"zaxis\": {\"backgroundcolor\": \"#E5ECF6\", \"gridcolor\": \"white\", \"gridwidth\": 2, \"linecolor\": \"white\", \"showbackground\": true, \"ticks\": \"\", \"zerolinecolor\": \"white\"}}, \"shapedefaults\": {\"line\": {\"color\": \"#2a3f5f\"}}, \"ternary\": {\"aaxis\": {\"gridcolor\": \"white\", \"linecolor\": \"white\", \"ticks\": \"\"}, \"baxis\": {\"gridcolor\": \"white\", \"linecolor\": \"white\", \"ticks\": \"\"}, \"bgcolor\": \"#E5ECF6\", \"caxis\": {\"gridcolor\": \"white\", \"linecolor\": \"white\", \"ticks\": \"\"}}, \"title\": {\"x\": 0.05}, \"xaxis\": {\"automargin\": true, \"gridcolor\": \"white\", \"linecolor\": \"white\", \"ticks\": \"\", \"title\": {\"standoff\": 15}, \"zerolinecolor\": \"white\", \"zerolinewidth\": 2}, \"yaxis\": {\"automargin\": true, \"gridcolor\": \"white\", \"linecolor\": \"white\", \"ticks\": \"\", \"title\": {\"standoff\": 15}, \"zerolinecolor\": \"white\", \"zerolinewidth\": 2}}}, \"updatemenus\": [{\"active\": 0, \"buttons\": [{\"args\": [{\"visible\": [true, false, false]}, {\"showlegend\": true, \"title\": \"total deaths\"}], \"label\": \"total deaths\", \"method\": \"update\"}, {\"args\": [{\"visible\": [false, true, false]}, {\"showlegend\": true, \"title\": \"total cases\"}], \"label\": \"total cases\", \"method\": \"update\"}, {\"args\": [{\"visible\": [false, false, true]}, {\"showlegend\": true, \"title\": \"total vaccinations\"}], \"label\": \"total vaccinations\", \"method\": \"update\"}]}]},                        {\"responsive\": true}                    ).then(function(){\n",
       "                            \n",
       "var gd = document.getElementById('bc4f0f3d-1ed0-4942-8133-fd6f2f980b97');\n",
       "var x = new MutationObserver(function (mutations, observer) {{\n",
       "        var display = window.getComputedStyle(gd).display;\n",
       "        if (!display || display === 'none') {{\n",
       "            console.log([gd, 'removed!']);\n",
       "            Plotly.purge(gd);\n",
       "            observer.disconnect();\n",
       "        }}\n",
       "}});\n",
       "\n",
       "// Listen for the removal of the full notebook cells\n",
       "var notebookContainer = gd.closest('#notebook-container');\n",
       "if (notebookContainer) {{\n",
       "    x.observe(notebookContainer, {childList: true});\n",
       "}}\n",
       "\n",
       "// Listen for the clearing of the current output cell\n",
       "var outputEl = gd.closest('.output');\n",
       "if (outputEl) {{\n",
       "    x.observe(outputEl, {childList: true});\n",
       "}}\n",
       "\n",
       "                        })                };                });            </script>        </div>"
      ]
     },
     "metadata": {},
     "output_type": "display_data"
    }
   ],
   "source": [
    "df2 = pd.DataFrame(columns = df.columns.tolist())\n",
    "\n",
    "# get the last valid entry for each unique country\n",
    "for country in df.location.unique().tolist():\n",
    "    df1 = df.loc[df.location == country].tail(1)\n",
    "    df2 = df2.append(df1)\n",
    "\n",
    "# drop any crap data    \n",
    "df2.dropna(subset=['total_deaths'],inplace=True)\n",
    "df2.dropna(subset=['continent'],inplace=True)\n",
    "\n",
    "# create the lists\n",
    "labels = df2['location'].tolist()\n",
    "parents = df2['continent'].tolist()\n",
    "values = df2['total_cases'].tolist()\n",
    "values2 = df2['total_deaths'].tolist()\n",
    "\n",
    "# make sure the parents have a parent of their own called ''\n",
    "for item in set(parents):\n",
    "    if item not in labels:\n",
    "        labels.append(item)\n",
    "        parents.append('')\n",
    "        values.append(0)\n",
    "        values2.append(0)\n",
    "        \n",
    "fig = go.Figure()\n",
    "\n",
    "fig.add_trace(\n",
    "    go.Sunburst(visible=True,\n",
    "    name = 'Total Deaths',\n",
    "    labels = labels,\n",
    "    values = values2,\n",
    "    parents = parents,\n",
    "    marker=dict(colorscale=['Green', 'Blue', 'Gold'], showscale=True),\n",
    "    ))\n",
    "\n",
    "fig.add_trace(\n",
    "    go.Sunburst(visible=False,\n",
    "    name = 'Total Cases',\n",
    "    labels = labels,\n",
    "    values = values,\n",
    "    parents = parents,\n",
    "    marker=dict(colorscale='Inferno', showscale=True),\n",
    "    ))\n",
    "\n",
    "\n",
    "# drop any null value vaccination figures first then ge the last valid entry for each country\n",
    "df3 = df.dropna(subset=['total_vaccinations'])\n",
    "df2 = pd.DataFrame(columns = df.columns.tolist())\n",
    "\n",
    "for country in df3.location.unique().tolist():\n",
    "    df1 = df3.loc[df3.location == country].tail(1)\n",
    "    df2 = df2.append(df1)\n",
    "\n",
    "df2.dropna(subset=['total_vaccinations'],inplace=True)\n",
    "df2.dropna(subset=['continent'],inplace=True)\n",
    "\n",
    "labels = df2['location'].tolist()\n",
    "parents = df2['continent'].tolist()\n",
    "values3 = df2['total_vaccinations'].tolist()\n",
    "color3 = df2['total_vaccinations_per_hundred'].tolist()\n",
    "\n",
    "for item in set(parents):\n",
    "    if item not in labels:\n",
    "        labels.append(item)\n",
    "        parents.append('')\n",
    "        values3.append(0)\n",
    "        color3.append(0)\n",
    "\n",
    "fig.add_trace(\n",
    "    go.Sunburst(visible=False,\n",
    "    name = 'Total Vaccinations',\n",
    "    labels = labels,\n",
    "    values = values3,\n",
    "    parents = parents,\n",
    "    marker=dict(colorscale='Inferno', showscale=True, colors=color3),\n",
    "    ))\n",
    "\n",
    "\n",
    "\n",
    "fig.update_layout(\n",
    "    updatemenus=[go.layout.Updatemenu(\n",
    "        active=0,\n",
    "        buttons=list(\n",
    "            [dict(label = 'total deaths',\n",
    "                  method = 'update',\n",
    "                  args = [{'visible': [True, False, False]}, # the index of True aligns with the indices of plot traces\n",
    "                          {'title': 'total deaths',\n",
    "                           'showlegend':True}]),\n",
    "             dict(label = 'total cases',\n",
    "                  method = 'update',\n",
    "                  args = [{'visible': [False, True, False]},\n",
    "                          {'title': 'total cases',\n",
    "                           'showlegend':True}]),\n",
    "             dict(label = 'total vaccinations',\n",
    "                  method = 'update',\n",
    "                  args = [{'visible': [False, False, True]},\n",
    "                          {'title': 'total vaccinations',\n",
    "                           'showlegend':True}]),\n",
    "            ])\n",
    "        )\n",
    "    ])\n",
    "\n",
    "fig.show()\n",
    "fig.write_html(\"C:\\\\Users\\\\carll\\\\Downloads\\\\covid.html\")"
   ]
  },
  {
   "cell_type": "code",
   "execution_count": 124,
   "id": "incomplete-secretariat",
   "metadata": {},
   "outputs": [
    {
     "data": {
      "text/plain": [
       "179"
      ]
     },
     "execution_count": 124,
     "metadata": {},
     "output_type": "execute_result"
    }
   ],
   "source": [
    "len(values2)"
   ]
  },
  {
   "cell_type": "code",
   "execution_count": 202,
   "id": "saving-proxy",
   "metadata": {},
   "outputs": [
    {
     "data": {
      "application/vnd.plotly.v1+json": {
       "config": {
        "plotlyServerURL": "https://plot.ly"
       },
       "data": [
        {
         "customdata": [
          0.11,
          0.17,
          2.1,
          1.56,
          5.41,
          0.64,
          15.97,
          1.26,
          3.17,
          5.68,
          0.09,
          3.21,
          1.56,
          3.72,
          15.03,
          2.82,
          0.07,
          1.9,
          3.46,
          6.48,
          5.07,
          8.18,
          0,
          0.05,
          0,
          6.57,
          6.3,
          5.41,
          5.81,
          6.65,
          0.08,
          6.21,
          7.54,
          0.8,
          0.72,
          0.01,
          6.3,
          82.4,
          5.69,
          0,
          3.21,
          2.35,
          0.19,
          3.94,
          6.91,
          4.62,
          12.95,
          14.06,
          0.02,
          1.28,
          6.12,
          6.67,
          0.19,
          0.54,
          4.38,
          6.86,
          3.09,
          0.02,
          1.06,
          0.49,
          7.03,
          6.44,
          1.74,
          7.02,
          2.67,
          1.44,
          14.5,
          62.39,
          4.38,
          6.31,
          6.81,
          0.02,
          6.28,
          1.23,
          5.8,
          7.07,
          7.75,
          56.15,
          26.3,
          18.33,
          0,
          0,
          0,
          0,
          0
         ],
         "hovertemplate": "Country: %{label} <BR> Continent: %{parent} <BR> %{value} <BR> per hundered: %{color}%",
         "labels": [
          "Albania",
          "Algeria",
          "Andorra",
          "Argentina",
          "Austria",
          "Azerbaijan",
          "Bahrain",
          "Bangladesh",
          "Barbados",
          "Belgium",
          "Bolivia",
          "Brazil",
          "Bulgaria",
          "Canada",
          "Chile",
          "China",
          "Colombia",
          "Costa Rica",
          "Croatia",
          "Cyprus",
          "Czechia",
          "Denmark",
          "Dominican Republic",
          "Ecuador",
          "Egypt",
          "Estonia",
          "Finland",
          "France",
          "Germany",
          "Greece",
          "Guyana",
          "Hungary",
          "Iceland",
          "India",
          "Indonesia",
          "Iran",
          "Ireland",
          "Israel",
          "Italy",
          "Japan",
          "Kuwait",
          "Latvia",
          "Lebanon",
          "Liechtenstein",
          "Lithuania",
          "Luxembourg",
          "Maldives",
          "Malta",
          "Mauritius",
          "Mexico",
          "Monaco",
          "Morocco",
          "Myanmar",
          "Nepal",
          "Netherlands",
          "Norway",
          "Oman",
          "Pakistan",
          "Panama",
          "Peru",
          "Poland",
          "Portugal",
          "Qatar",
          "Romania",
          "Russia",
          "Saudi Arabia",
          "Serbia",
          "Seychelles",
          "Singapore",
          "Slovakia",
          "Slovenia",
          "South Africa",
          "Spain",
          "Sri Lanka",
          "Sweden",
          "Switzerland",
          "Turkey",
          "United Arab Emirates",
          "United Kingdom",
          "United States",
          "Africa",
          "Asia",
          "North America",
          "Europe",
          "South America"
         ],
         "marker": {
          "colors": [
           0.11,
           0.17,
           2.1,
           1.56,
           5.41,
           0.64,
           15.97,
           1.26,
           3.17,
           5.68,
           0.09,
           3.21,
           1.56,
           3.72,
           15.03,
           2.82,
           0.07,
           1.9,
           3.46,
           6.48,
           5.07,
           8.18,
           0,
           0.05,
           0,
           6.57,
           6.3,
           5.41,
           5.81,
           6.65,
           0.08,
           6.21,
           7.54,
           0.8,
           0.72,
           0.01,
           6.3,
           82.4,
           5.69,
           0,
           3.21,
           2.35,
           0.19,
           3.94,
           6.91,
           4.62,
           12.95,
           14.06,
           0.02,
           1.28,
           6.12,
           6.67,
           0.19,
           0.54,
           4.38,
           6.86,
           3.09,
           0.02,
           1.06,
           0.49,
           7.03,
           6.44,
           1.74,
           7.02,
           2.67,
           1.44,
           14.5,
           62.39,
           4.38,
           6.31,
           6.81,
           0.02,
           6.28,
           1.23,
           5.8,
           7.07,
           7.75,
           56.15,
           26.3,
           18.33,
           0,
           0,
           0,
           0,
           0
          ],
          "colorscale": [
           [
            0,
            "#440154"
           ],
           [
            0.1111111111111111,
            "#482878"
           ],
           [
            0.2222222222222222,
            "#3e4989"
           ],
           [
            0.3333333333333333,
            "#31688e"
           ],
           [
            0.4444444444444444,
            "#26828e"
           ],
           [
            0.5555555555555556,
            "#1f9e89"
           ],
           [
            0.6666666666666666,
            "#35b779"
           ],
           [
            0.7777777777777778,
            "#6ece58"
           ],
           [
            0.8888888888888888,
            "#b5de2b"
           ],
           [
            1,
            "#fde725"
           ]
          ],
          "showscale": true
         },
         "name": "Total Vaccinations",
         "parents": [
          "Europe",
          "Africa",
          "Europe",
          "South America",
          "Europe",
          "Asia",
          "Asia",
          "Asia",
          "North America",
          "Europe",
          "South America",
          "South America",
          "Europe",
          "North America",
          "South America",
          "Asia",
          "South America",
          "North America",
          "Europe",
          "Europe",
          "Europe",
          "Europe",
          "North America",
          "South America",
          "Africa",
          "Europe",
          "Europe",
          "Europe",
          "Europe",
          "Europe",
          "South America",
          "Europe",
          "Europe",
          "Asia",
          "Asia",
          "Asia",
          "Europe",
          "Asia",
          "Europe",
          "Asia",
          "Asia",
          "Europe",
          "Asia",
          "Europe",
          "Europe",
          "Europe",
          "Asia",
          "Europe",
          "Africa",
          "North America",
          "Europe",
          "Africa",
          "Asia",
          "Asia",
          "Europe",
          "Europe",
          "Asia",
          "Asia",
          "North America",
          "South America",
          "Europe",
          "Europe",
          "Asia",
          "Europe",
          "Europe",
          "Asia",
          "Europe",
          "Africa",
          "Asia",
          "Europe",
          "Europe",
          "Africa",
          "Europe",
          "Asia",
          "Europe",
          "Europe",
          "Asia",
          "Asia",
          "Europe",
          "North America",
          "",
          "",
          "",
          "",
          ""
         ],
         "type": "sunburst",
         "values": [
          3049,
          75000,
          1622,
          707148,
          486888,
          65000,
          271749,
          2082877,
          9115,
          658193,
          10167,
          6813168,
          108356,
          1402139,
          2873389,
          40520000,
          33140,
          96948,
          142222,
          56791,
          542779,
          473945,
          373,
          8190,
          1315,
          87147,
          349139,
          3668121,
          4869641,
          693436,
          668,
          600048,
          25718,
          11085173,
          1956725,
          10000,
          310900,
          7132468,
          3439703,
          5039,
          137000,
          44323,
          12677,
          1504,
          188010,
          28933,
          70009,
          62059,
          207,
          1656304,
          2400,
          2461192,
          103142,
          158487,
          750899,
          371630,
          157742,
          52768,
          45535,
          161113,
          2660776,
          656411,
          50000,
          1351280,
          3900000,
          501710,
          987000,
          61351,
          256000,
          344450,
          141581,
          10414,
          2936011,
          263779,
          585843,
          611842,
          6533510,
          5553391,
          17852327,
          61289500,
          0,
          0,
          0,
          0,
          0
         ],
         "visible": true
        }
       ],
       "layout": {
        "template": {
         "data": {
          "bar": [
           {
            "error_x": {
             "color": "#2a3f5f"
            },
            "error_y": {
             "color": "#2a3f5f"
            },
            "marker": {
             "line": {
              "color": "#E5ECF6",
              "width": 0.5
             }
            },
            "type": "bar"
           }
          ],
          "barpolar": [
           {
            "marker": {
             "line": {
              "color": "#E5ECF6",
              "width": 0.5
             }
            },
            "type": "barpolar"
           }
          ],
          "carpet": [
           {
            "aaxis": {
             "endlinecolor": "#2a3f5f",
             "gridcolor": "white",
             "linecolor": "white",
             "minorgridcolor": "white",
             "startlinecolor": "#2a3f5f"
            },
            "baxis": {
             "endlinecolor": "#2a3f5f",
             "gridcolor": "white",
             "linecolor": "white",
             "minorgridcolor": "white",
             "startlinecolor": "#2a3f5f"
            },
            "type": "carpet"
           }
          ],
          "choropleth": [
           {
            "colorbar": {
             "outlinewidth": 0,
             "ticks": ""
            },
            "type": "choropleth"
           }
          ],
          "contour": [
           {
            "colorbar": {
             "outlinewidth": 0,
             "ticks": ""
            },
            "colorscale": [
             [
              0,
              "#0d0887"
             ],
             [
              0.1111111111111111,
              "#46039f"
             ],
             [
              0.2222222222222222,
              "#7201a8"
             ],
             [
              0.3333333333333333,
              "#9c179e"
             ],
             [
              0.4444444444444444,
              "#bd3786"
             ],
             [
              0.5555555555555556,
              "#d8576b"
             ],
             [
              0.6666666666666666,
              "#ed7953"
             ],
             [
              0.7777777777777778,
              "#fb9f3a"
             ],
             [
              0.8888888888888888,
              "#fdca26"
             ],
             [
              1,
              "#f0f921"
             ]
            ],
            "type": "contour"
           }
          ],
          "contourcarpet": [
           {
            "colorbar": {
             "outlinewidth": 0,
             "ticks": ""
            },
            "type": "contourcarpet"
           }
          ],
          "heatmap": [
           {
            "colorbar": {
             "outlinewidth": 0,
             "ticks": ""
            },
            "colorscale": [
             [
              0,
              "#0d0887"
             ],
             [
              0.1111111111111111,
              "#46039f"
             ],
             [
              0.2222222222222222,
              "#7201a8"
             ],
             [
              0.3333333333333333,
              "#9c179e"
             ],
             [
              0.4444444444444444,
              "#bd3786"
             ],
             [
              0.5555555555555556,
              "#d8576b"
             ],
             [
              0.6666666666666666,
              "#ed7953"
             ],
             [
              0.7777777777777778,
              "#fb9f3a"
             ],
             [
              0.8888888888888888,
              "#fdca26"
             ],
             [
              1,
              "#f0f921"
             ]
            ],
            "type": "heatmap"
           }
          ],
          "heatmapgl": [
           {
            "colorbar": {
             "outlinewidth": 0,
             "ticks": ""
            },
            "colorscale": [
             [
              0,
              "#0d0887"
             ],
             [
              0.1111111111111111,
              "#46039f"
             ],
             [
              0.2222222222222222,
              "#7201a8"
             ],
             [
              0.3333333333333333,
              "#9c179e"
             ],
             [
              0.4444444444444444,
              "#bd3786"
             ],
             [
              0.5555555555555556,
              "#d8576b"
             ],
             [
              0.6666666666666666,
              "#ed7953"
             ],
             [
              0.7777777777777778,
              "#fb9f3a"
             ],
             [
              0.8888888888888888,
              "#fdca26"
             ],
             [
              1,
              "#f0f921"
             ]
            ],
            "type": "heatmapgl"
           }
          ],
          "histogram": [
           {
            "marker": {
             "colorbar": {
              "outlinewidth": 0,
              "ticks": ""
             }
            },
            "type": "histogram"
           }
          ],
          "histogram2d": [
           {
            "colorbar": {
             "outlinewidth": 0,
             "ticks": ""
            },
            "colorscale": [
             [
              0,
              "#0d0887"
             ],
             [
              0.1111111111111111,
              "#46039f"
             ],
             [
              0.2222222222222222,
              "#7201a8"
             ],
             [
              0.3333333333333333,
              "#9c179e"
             ],
             [
              0.4444444444444444,
              "#bd3786"
             ],
             [
              0.5555555555555556,
              "#d8576b"
             ],
             [
              0.6666666666666666,
              "#ed7953"
             ],
             [
              0.7777777777777778,
              "#fb9f3a"
             ],
             [
              0.8888888888888888,
              "#fdca26"
             ],
             [
              1,
              "#f0f921"
             ]
            ],
            "type": "histogram2d"
           }
          ],
          "histogram2dcontour": [
           {
            "colorbar": {
             "outlinewidth": 0,
             "ticks": ""
            },
            "colorscale": [
             [
              0,
              "#0d0887"
             ],
             [
              0.1111111111111111,
              "#46039f"
             ],
             [
              0.2222222222222222,
              "#7201a8"
             ],
             [
              0.3333333333333333,
              "#9c179e"
             ],
             [
              0.4444444444444444,
              "#bd3786"
             ],
             [
              0.5555555555555556,
              "#d8576b"
             ],
             [
              0.6666666666666666,
              "#ed7953"
             ],
             [
              0.7777777777777778,
              "#fb9f3a"
             ],
             [
              0.8888888888888888,
              "#fdca26"
             ],
             [
              1,
              "#f0f921"
             ]
            ],
            "type": "histogram2dcontour"
           }
          ],
          "mesh3d": [
           {
            "colorbar": {
             "outlinewidth": 0,
             "ticks": ""
            },
            "type": "mesh3d"
           }
          ],
          "parcoords": [
           {
            "line": {
             "colorbar": {
              "outlinewidth": 0,
              "ticks": ""
             }
            },
            "type": "parcoords"
           }
          ],
          "pie": [
           {
            "automargin": true,
            "type": "pie"
           }
          ],
          "scatter": [
           {
            "marker": {
             "colorbar": {
              "outlinewidth": 0,
              "ticks": ""
             }
            },
            "type": "scatter"
           }
          ],
          "scatter3d": [
           {
            "line": {
             "colorbar": {
              "outlinewidth": 0,
              "ticks": ""
             }
            },
            "marker": {
             "colorbar": {
              "outlinewidth": 0,
              "ticks": ""
             }
            },
            "type": "scatter3d"
           }
          ],
          "scattercarpet": [
           {
            "marker": {
             "colorbar": {
              "outlinewidth": 0,
              "ticks": ""
             }
            },
            "type": "scattercarpet"
           }
          ],
          "scattergeo": [
           {
            "marker": {
             "colorbar": {
              "outlinewidth": 0,
              "ticks": ""
             }
            },
            "type": "scattergeo"
           }
          ],
          "scattergl": [
           {
            "marker": {
             "colorbar": {
              "outlinewidth": 0,
              "ticks": ""
             }
            },
            "type": "scattergl"
           }
          ],
          "scattermapbox": [
           {
            "marker": {
             "colorbar": {
              "outlinewidth": 0,
              "ticks": ""
             }
            },
            "type": "scattermapbox"
           }
          ],
          "scatterpolar": [
           {
            "marker": {
             "colorbar": {
              "outlinewidth": 0,
              "ticks": ""
             }
            },
            "type": "scatterpolar"
           }
          ],
          "scatterpolargl": [
           {
            "marker": {
             "colorbar": {
              "outlinewidth": 0,
              "ticks": ""
             }
            },
            "type": "scatterpolargl"
           }
          ],
          "scatterternary": [
           {
            "marker": {
             "colorbar": {
              "outlinewidth": 0,
              "ticks": ""
             }
            },
            "type": "scatterternary"
           }
          ],
          "surface": [
           {
            "colorbar": {
             "outlinewidth": 0,
             "ticks": ""
            },
            "colorscale": [
             [
              0,
              "#0d0887"
             ],
             [
              0.1111111111111111,
              "#46039f"
             ],
             [
              0.2222222222222222,
              "#7201a8"
             ],
             [
              0.3333333333333333,
              "#9c179e"
             ],
             [
              0.4444444444444444,
              "#bd3786"
             ],
             [
              0.5555555555555556,
              "#d8576b"
             ],
             [
              0.6666666666666666,
              "#ed7953"
             ],
             [
              0.7777777777777778,
              "#fb9f3a"
             ],
             [
              0.8888888888888888,
              "#fdca26"
             ],
             [
              1,
              "#f0f921"
             ]
            ],
            "type": "surface"
           }
          ],
          "table": [
           {
            "cells": {
             "fill": {
              "color": "#EBF0F8"
             },
             "line": {
              "color": "white"
             }
            },
            "header": {
             "fill": {
              "color": "#C8D4E3"
             },
             "line": {
              "color": "white"
             }
            },
            "type": "table"
           }
          ]
         },
         "layout": {
          "annotationdefaults": {
           "arrowcolor": "#2a3f5f",
           "arrowhead": 0,
           "arrowwidth": 1
          },
          "autotypenumbers": "strict",
          "coloraxis": {
           "colorbar": {
            "outlinewidth": 0,
            "ticks": ""
           }
          },
          "colorscale": {
           "diverging": [
            [
             0,
             "#8e0152"
            ],
            [
             0.1,
             "#c51b7d"
            ],
            [
             0.2,
             "#de77ae"
            ],
            [
             0.3,
             "#f1b6da"
            ],
            [
             0.4,
             "#fde0ef"
            ],
            [
             0.5,
             "#f7f7f7"
            ],
            [
             0.6,
             "#e6f5d0"
            ],
            [
             0.7,
             "#b8e186"
            ],
            [
             0.8,
             "#7fbc41"
            ],
            [
             0.9,
             "#4d9221"
            ],
            [
             1,
             "#276419"
            ]
           ],
           "sequential": [
            [
             0,
             "#0d0887"
            ],
            [
             0.1111111111111111,
             "#46039f"
            ],
            [
             0.2222222222222222,
             "#7201a8"
            ],
            [
             0.3333333333333333,
             "#9c179e"
            ],
            [
             0.4444444444444444,
             "#bd3786"
            ],
            [
             0.5555555555555556,
             "#d8576b"
            ],
            [
             0.6666666666666666,
             "#ed7953"
            ],
            [
             0.7777777777777778,
             "#fb9f3a"
            ],
            [
             0.8888888888888888,
             "#fdca26"
            ],
            [
             1,
             "#f0f921"
            ]
           ],
           "sequentialminus": [
            [
             0,
             "#0d0887"
            ],
            [
             0.1111111111111111,
             "#46039f"
            ],
            [
             0.2222222222222222,
             "#7201a8"
            ],
            [
             0.3333333333333333,
             "#9c179e"
            ],
            [
             0.4444444444444444,
             "#bd3786"
            ],
            [
             0.5555555555555556,
             "#d8576b"
            ],
            [
             0.6666666666666666,
             "#ed7953"
            ],
            [
             0.7777777777777778,
             "#fb9f3a"
            ],
            [
             0.8888888888888888,
             "#fdca26"
            ],
            [
             1,
             "#f0f921"
            ]
           ]
          },
          "colorway": [
           "#636efa",
           "#EF553B",
           "#00cc96",
           "#ab63fa",
           "#FFA15A",
           "#19d3f3",
           "#FF6692",
           "#B6E880",
           "#FF97FF",
           "#FECB52"
          ],
          "font": {
           "color": "#2a3f5f"
          },
          "geo": {
           "bgcolor": "white",
           "lakecolor": "white",
           "landcolor": "#E5ECF6",
           "showlakes": true,
           "showland": true,
           "subunitcolor": "white"
          },
          "hoverlabel": {
           "align": "left"
          },
          "hovermode": "closest",
          "mapbox": {
           "style": "light"
          },
          "paper_bgcolor": "white",
          "plot_bgcolor": "#E5ECF6",
          "polar": {
           "angularaxis": {
            "gridcolor": "white",
            "linecolor": "white",
            "ticks": ""
           },
           "bgcolor": "#E5ECF6",
           "radialaxis": {
            "gridcolor": "white",
            "linecolor": "white",
            "ticks": ""
           }
          },
          "scene": {
           "xaxis": {
            "backgroundcolor": "#E5ECF6",
            "gridcolor": "white",
            "gridwidth": 2,
            "linecolor": "white",
            "showbackground": true,
            "ticks": "",
            "zerolinecolor": "white"
           },
           "yaxis": {
            "backgroundcolor": "#E5ECF6",
            "gridcolor": "white",
            "gridwidth": 2,
            "linecolor": "white",
            "showbackground": true,
            "ticks": "",
            "zerolinecolor": "white"
           },
           "zaxis": {
            "backgroundcolor": "#E5ECF6",
            "gridcolor": "white",
            "gridwidth": 2,
            "linecolor": "white",
            "showbackground": true,
            "ticks": "",
            "zerolinecolor": "white"
           }
          },
          "shapedefaults": {
           "line": {
            "color": "#2a3f5f"
           }
          },
          "ternary": {
           "aaxis": {
            "gridcolor": "white",
            "linecolor": "white",
            "ticks": ""
           },
           "baxis": {
            "gridcolor": "white",
            "linecolor": "white",
            "ticks": ""
           },
           "bgcolor": "#E5ECF6",
           "caxis": {
            "gridcolor": "white",
            "linecolor": "white",
            "ticks": ""
           }
          },
          "title": {
           "x": 0.05
          },
          "xaxis": {
           "automargin": true,
           "gridcolor": "white",
           "linecolor": "white",
           "ticks": "",
           "title": {
            "standoff": 15
           },
           "zerolinecolor": "white",
           "zerolinewidth": 2
          },
          "yaxis": {
           "automargin": true,
           "gridcolor": "white",
           "linecolor": "white",
           "ticks": "",
           "title": {
            "standoff": 15
           },
           "zerolinecolor": "white",
           "zerolinewidth": 2
          }
         }
        }
       }
      },
      "text/html": [
       "<div>                            <div id=\"74eda89e-c481-416b-90e1-85880cc4878a\" class=\"plotly-graph-div\" style=\"height:525px; width:100%;\"></div>            <script type=\"text/javascript\">                require([\"plotly\"], function(Plotly) {                    window.PLOTLYENV=window.PLOTLYENV || {};                                    if (document.getElementById(\"74eda89e-c481-416b-90e1-85880cc4878a\")) {                    Plotly.newPlot(                        \"74eda89e-c481-416b-90e1-85880cc4878a\",                        [{\"customdata\": [0.11, 0.17, 2.1, 1.56, 5.41, 0.64, 15.97, 1.26, 3.17, 5.68, 0.09, 3.21, 1.56, 3.72, 15.03, 2.82, 0.07, 1.9, 3.46, 6.48, 5.07, 8.18, 0.0, 0.05, 0.0, 6.57, 6.3, 5.41, 5.81, 6.65, 0.08, 6.21, 7.54, 0.8, 0.72, 0.01, 6.3, 82.4, 5.69, 0.0, 3.21, 2.35, 0.19, 3.94, 6.91, 4.62, 12.95, 14.06, 0.02, 1.28, 6.12, 6.67, 0.19, 0.54, 4.38, 6.86, 3.09, 0.02, 1.06, 0.49, 7.03, 6.44, 1.74, 7.02, 2.67, 1.44, 14.5, 62.39, 4.38, 6.31, 6.81, 0.02, 6.28, 1.23, 5.8, 7.07, 7.75, 56.15, 26.3, 18.33, 0, 0, 0, 0, 0], \"hovertemplate\": \"Country: %{label} <BR> Continent: %{parent} <BR> %{value} <BR> per hundered: %{color}%\", \"labels\": [\"Albania\", \"Algeria\", \"Andorra\", \"Argentina\", \"Austria\", \"Azerbaijan\", \"Bahrain\", \"Bangladesh\", \"Barbados\", \"Belgium\", \"Bolivia\", \"Brazil\", \"Bulgaria\", \"Canada\", \"Chile\", \"China\", \"Colombia\", \"Costa Rica\", \"Croatia\", \"Cyprus\", \"Czechia\", \"Denmark\", \"Dominican Republic\", \"Ecuador\", \"Egypt\", \"Estonia\", \"Finland\", \"France\", \"Germany\", \"Greece\", \"Guyana\", \"Hungary\", \"Iceland\", \"India\", \"Indonesia\", \"Iran\", \"Ireland\", \"Israel\", \"Italy\", \"Japan\", \"Kuwait\", \"Latvia\", \"Lebanon\", \"Liechtenstein\", \"Lithuania\", \"Luxembourg\", \"Maldives\", \"Malta\", \"Mauritius\", \"Mexico\", \"Monaco\", \"Morocco\", \"Myanmar\", \"Nepal\", \"Netherlands\", \"Norway\", \"Oman\", \"Pakistan\", \"Panama\", \"Peru\", \"Poland\", \"Portugal\", \"Qatar\", \"Romania\", \"Russia\", \"Saudi Arabia\", \"Serbia\", \"Seychelles\", \"Singapore\", \"Slovakia\", \"Slovenia\", \"South Africa\", \"Spain\", \"Sri Lanka\", \"Sweden\", \"Switzerland\", \"Turkey\", \"United Arab Emirates\", \"United Kingdom\", \"United States\", \"Africa\", \"Asia\", \"North America\", \"Europe\", \"South America\"], \"marker\": {\"colors\": [0.11, 0.17, 2.1, 1.56, 5.41, 0.64, 15.97, 1.26, 3.17, 5.68, 0.09, 3.21, 1.56, 3.72, 15.03, 2.82, 0.07, 1.9, 3.46, 6.48, 5.07, 8.18, 0.0, 0.05, 0.0, 6.57, 6.3, 5.41, 5.81, 6.65, 0.08, 6.21, 7.54, 0.8, 0.72, 0.01, 6.3, 82.4, 5.69, 0.0, 3.21, 2.35, 0.19, 3.94, 6.91, 4.62, 12.95, 14.06, 0.02, 1.28, 6.12, 6.67, 0.19, 0.54, 4.38, 6.86, 3.09, 0.02, 1.06, 0.49, 7.03, 6.44, 1.74, 7.02, 2.67, 1.44, 14.5, 62.39, 4.38, 6.31, 6.81, 0.02, 6.28, 1.23, 5.8, 7.07, 7.75, 56.15, 26.3, 18.33, 0, 0, 0, 0, 0], \"colorscale\": [[0.0, \"#440154\"], [0.1111111111111111, \"#482878\"], [0.2222222222222222, \"#3e4989\"], [0.3333333333333333, \"#31688e\"], [0.4444444444444444, \"#26828e\"], [0.5555555555555556, \"#1f9e89\"], [0.6666666666666666, \"#35b779\"], [0.7777777777777778, \"#6ece58\"], [0.8888888888888888, \"#b5de2b\"], [1.0, \"#fde725\"]], \"showscale\": true}, \"name\": \"Total Vaccinations\", \"parents\": [\"Europe\", \"Africa\", \"Europe\", \"South America\", \"Europe\", \"Asia\", \"Asia\", \"Asia\", \"North America\", \"Europe\", \"South America\", \"South America\", \"Europe\", \"North America\", \"South America\", \"Asia\", \"South America\", \"North America\", \"Europe\", \"Europe\", \"Europe\", \"Europe\", \"North America\", \"South America\", \"Africa\", \"Europe\", \"Europe\", \"Europe\", \"Europe\", \"Europe\", \"South America\", \"Europe\", \"Europe\", \"Asia\", \"Asia\", \"Asia\", \"Europe\", \"Asia\", \"Europe\", \"Asia\", \"Asia\", \"Europe\", \"Asia\", \"Europe\", \"Europe\", \"Europe\", \"Asia\", \"Europe\", \"Africa\", \"North America\", \"Europe\", \"Africa\", \"Asia\", \"Asia\", \"Europe\", \"Europe\", \"Asia\", \"Asia\", \"North America\", \"South America\", \"Europe\", \"Europe\", \"Asia\", \"Europe\", \"Europe\", \"Asia\", \"Europe\", \"Africa\", \"Asia\", \"Europe\", \"Europe\", \"Africa\", \"Europe\", \"Asia\", \"Europe\", \"Europe\", \"Asia\", \"Asia\", \"Europe\", \"North America\", \"\", \"\", \"\", \"\", \"\"], \"type\": \"sunburst\", \"values\": [3049.0, 75000.0, 1622.0, 707148.0, 486888.0, 65000.0, 271749.0, 2082877.0, 9115.0, 658193.0, 10167.0, 6813168.0, 108356.0, 1402139.0, 2873389.0, 40520000.0, 33140.0, 96948.0, 142222.0, 56791.0, 542779.0, 473945.0, 373.0, 8190.0, 1315.0, 87147.0, 349139.0, 3668121.0, 4869641.0, 693436.0, 668.0, 600048.0, 25718.0, 11085173.0, 1956725.0, 10000.0, 310900.0, 7132468.0, 3439703.0, 5039.0, 137000.0, 44323.0, 12677.0, 1504.0, 188010.0, 28933.0, 70009.0, 62059.0, 207.0, 1656304.0, 2400.0, 2461192.0, 103142.0, 158487.0, 750899.0, 371630.0, 157742.0, 52768.0, 45535.0, 161113.0, 2660776.0, 656411.0, 50000.0, 1351280.0, 3900000.0, 501710.0, 987000.0, 61351.0, 256000.0, 344450.0, 141581.0, 10414.0, 2936011.0, 263779.0, 585843.0, 611842.0, 6533510.0, 5553391.0, 17852327.0, 61289500.0, 0, 0, 0, 0, 0], \"visible\": true}],                        {\"template\": {\"data\": {\"bar\": [{\"error_x\": {\"color\": \"#2a3f5f\"}, \"error_y\": {\"color\": \"#2a3f5f\"}, \"marker\": {\"line\": {\"color\": \"#E5ECF6\", \"width\": 0.5}}, \"type\": \"bar\"}], \"barpolar\": [{\"marker\": {\"line\": {\"color\": \"#E5ECF6\", \"width\": 0.5}}, \"type\": \"barpolar\"}], \"carpet\": [{\"aaxis\": {\"endlinecolor\": \"#2a3f5f\", \"gridcolor\": \"white\", \"linecolor\": \"white\", \"minorgridcolor\": \"white\", \"startlinecolor\": \"#2a3f5f\"}, \"baxis\": {\"endlinecolor\": \"#2a3f5f\", \"gridcolor\": \"white\", \"linecolor\": \"white\", \"minorgridcolor\": \"white\", \"startlinecolor\": \"#2a3f5f\"}, \"type\": \"carpet\"}], \"choropleth\": [{\"colorbar\": {\"outlinewidth\": 0, \"ticks\": \"\"}, \"type\": \"choropleth\"}], \"contour\": [{\"colorbar\": {\"outlinewidth\": 0, \"ticks\": \"\"}, \"colorscale\": [[0.0, \"#0d0887\"], [0.1111111111111111, \"#46039f\"], [0.2222222222222222, \"#7201a8\"], [0.3333333333333333, \"#9c179e\"], [0.4444444444444444, \"#bd3786\"], [0.5555555555555556, \"#d8576b\"], [0.6666666666666666, \"#ed7953\"], [0.7777777777777778, \"#fb9f3a\"], [0.8888888888888888, \"#fdca26\"], [1.0, \"#f0f921\"]], \"type\": \"contour\"}], \"contourcarpet\": [{\"colorbar\": {\"outlinewidth\": 0, \"ticks\": \"\"}, \"type\": \"contourcarpet\"}], \"heatmap\": [{\"colorbar\": {\"outlinewidth\": 0, \"ticks\": \"\"}, \"colorscale\": [[0.0, \"#0d0887\"], [0.1111111111111111, \"#46039f\"], [0.2222222222222222, \"#7201a8\"], [0.3333333333333333, \"#9c179e\"], [0.4444444444444444, \"#bd3786\"], [0.5555555555555556, \"#d8576b\"], [0.6666666666666666, \"#ed7953\"], [0.7777777777777778, \"#fb9f3a\"], [0.8888888888888888, \"#fdca26\"], [1.0, \"#f0f921\"]], \"type\": \"heatmap\"}], \"heatmapgl\": [{\"colorbar\": {\"outlinewidth\": 0, \"ticks\": \"\"}, \"colorscale\": [[0.0, \"#0d0887\"], [0.1111111111111111, \"#46039f\"], [0.2222222222222222, \"#7201a8\"], [0.3333333333333333, \"#9c179e\"], [0.4444444444444444, \"#bd3786\"], [0.5555555555555556, \"#d8576b\"], [0.6666666666666666, \"#ed7953\"], [0.7777777777777778, \"#fb9f3a\"], [0.8888888888888888, \"#fdca26\"], [1.0, \"#f0f921\"]], \"type\": \"heatmapgl\"}], \"histogram\": [{\"marker\": {\"colorbar\": {\"outlinewidth\": 0, \"ticks\": \"\"}}, \"type\": \"histogram\"}], \"histogram2d\": [{\"colorbar\": {\"outlinewidth\": 0, \"ticks\": \"\"}, \"colorscale\": [[0.0, \"#0d0887\"], [0.1111111111111111, \"#46039f\"], [0.2222222222222222, \"#7201a8\"], [0.3333333333333333, \"#9c179e\"], [0.4444444444444444, \"#bd3786\"], [0.5555555555555556, \"#d8576b\"], [0.6666666666666666, \"#ed7953\"], [0.7777777777777778, \"#fb9f3a\"], [0.8888888888888888, \"#fdca26\"], [1.0, \"#f0f921\"]], \"type\": \"histogram2d\"}], \"histogram2dcontour\": [{\"colorbar\": {\"outlinewidth\": 0, \"ticks\": \"\"}, \"colorscale\": [[0.0, \"#0d0887\"], [0.1111111111111111, \"#46039f\"], [0.2222222222222222, \"#7201a8\"], [0.3333333333333333, \"#9c179e\"], [0.4444444444444444, \"#bd3786\"], [0.5555555555555556, \"#d8576b\"], [0.6666666666666666, \"#ed7953\"], [0.7777777777777778, \"#fb9f3a\"], [0.8888888888888888, \"#fdca26\"], [1.0, \"#f0f921\"]], \"type\": \"histogram2dcontour\"}], \"mesh3d\": [{\"colorbar\": {\"outlinewidth\": 0, \"ticks\": \"\"}, \"type\": \"mesh3d\"}], \"parcoords\": [{\"line\": {\"colorbar\": {\"outlinewidth\": 0, \"ticks\": \"\"}}, \"type\": \"parcoords\"}], \"pie\": [{\"automargin\": true, \"type\": \"pie\"}], \"scatter\": [{\"marker\": {\"colorbar\": {\"outlinewidth\": 0, \"ticks\": \"\"}}, \"type\": \"scatter\"}], \"scatter3d\": [{\"line\": {\"colorbar\": {\"outlinewidth\": 0, \"ticks\": \"\"}}, \"marker\": {\"colorbar\": {\"outlinewidth\": 0, \"ticks\": \"\"}}, \"type\": \"scatter3d\"}], \"scattercarpet\": [{\"marker\": {\"colorbar\": {\"outlinewidth\": 0, \"ticks\": \"\"}}, \"type\": \"scattercarpet\"}], \"scattergeo\": [{\"marker\": {\"colorbar\": {\"outlinewidth\": 0, \"ticks\": \"\"}}, \"type\": \"scattergeo\"}], \"scattergl\": [{\"marker\": {\"colorbar\": {\"outlinewidth\": 0, \"ticks\": \"\"}}, \"type\": \"scattergl\"}], \"scattermapbox\": [{\"marker\": {\"colorbar\": {\"outlinewidth\": 0, \"ticks\": \"\"}}, \"type\": \"scattermapbox\"}], \"scatterpolar\": [{\"marker\": {\"colorbar\": {\"outlinewidth\": 0, \"ticks\": \"\"}}, \"type\": \"scatterpolar\"}], \"scatterpolargl\": [{\"marker\": {\"colorbar\": {\"outlinewidth\": 0, \"ticks\": \"\"}}, \"type\": \"scatterpolargl\"}], \"scatterternary\": [{\"marker\": {\"colorbar\": {\"outlinewidth\": 0, \"ticks\": \"\"}}, \"type\": \"scatterternary\"}], \"surface\": [{\"colorbar\": {\"outlinewidth\": 0, \"ticks\": \"\"}, \"colorscale\": [[0.0, \"#0d0887\"], [0.1111111111111111, \"#46039f\"], [0.2222222222222222, \"#7201a8\"], [0.3333333333333333, \"#9c179e\"], [0.4444444444444444, \"#bd3786\"], [0.5555555555555556, \"#d8576b\"], [0.6666666666666666, \"#ed7953\"], [0.7777777777777778, \"#fb9f3a\"], [0.8888888888888888, \"#fdca26\"], [1.0, \"#f0f921\"]], \"type\": \"surface\"}], \"table\": [{\"cells\": {\"fill\": {\"color\": \"#EBF0F8\"}, \"line\": {\"color\": \"white\"}}, \"header\": {\"fill\": {\"color\": \"#C8D4E3\"}, \"line\": {\"color\": \"white\"}}, \"type\": \"table\"}]}, \"layout\": {\"annotationdefaults\": {\"arrowcolor\": \"#2a3f5f\", \"arrowhead\": 0, \"arrowwidth\": 1}, \"autotypenumbers\": \"strict\", \"coloraxis\": {\"colorbar\": {\"outlinewidth\": 0, \"ticks\": \"\"}}, \"colorscale\": {\"diverging\": [[0, \"#8e0152\"], [0.1, \"#c51b7d\"], [0.2, \"#de77ae\"], [0.3, \"#f1b6da\"], [0.4, \"#fde0ef\"], [0.5, \"#f7f7f7\"], [0.6, \"#e6f5d0\"], [0.7, \"#b8e186\"], [0.8, \"#7fbc41\"], [0.9, \"#4d9221\"], [1, \"#276419\"]], \"sequential\": [[0.0, \"#0d0887\"], [0.1111111111111111, \"#46039f\"], [0.2222222222222222, \"#7201a8\"], [0.3333333333333333, \"#9c179e\"], [0.4444444444444444, \"#bd3786\"], [0.5555555555555556, \"#d8576b\"], [0.6666666666666666, \"#ed7953\"], [0.7777777777777778, \"#fb9f3a\"], [0.8888888888888888, \"#fdca26\"], [1.0, \"#f0f921\"]], \"sequentialminus\": [[0.0, \"#0d0887\"], [0.1111111111111111, \"#46039f\"], [0.2222222222222222, \"#7201a8\"], [0.3333333333333333, \"#9c179e\"], [0.4444444444444444, \"#bd3786\"], [0.5555555555555556, \"#d8576b\"], [0.6666666666666666, \"#ed7953\"], [0.7777777777777778, \"#fb9f3a\"], [0.8888888888888888, \"#fdca26\"], [1.0, \"#f0f921\"]]}, \"colorway\": [\"#636efa\", \"#EF553B\", \"#00cc96\", \"#ab63fa\", \"#FFA15A\", \"#19d3f3\", \"#FF6692\", \"#B6E880\", \"#FF97FF\", \"#FECB52\"], \"font\": {\"color\": \"#2a3f5f\"}, \"geo\": {\"bgcolor\": \"white\", \"lakecolor\": \"white\", \"landcolor\": \"#E5ECF6\", \"showlakes\": true, \"showland\": true, \"subunitcolor\": \"white\"}, \"hoverlabel\": {\"align\": \"left\"}, \"hovermode\": \"closest\", \"mapbox\": {\"style\": \"light\"}, \"paper_bgcolor\": \"white\", \"plot_bgcolor\": \"#E5ECF6\", \"polar\": {\"angularaxis\": {\"gridcolor\": \"white\", \"linecolor\": \"white\", \"ticks\": \"\"}, \"bgcolor\": \"#E5ECF6\", \"radialaxis\": {\"gridcolor\": \"white\", \"linecolor\": \"white\", \"ticks\": \"\"}}, \"scene\": {\"xaxis\": {\"backgroundcolor\": \"#E5ECF6\", \"gridcolor\": \"white\", \"gridwidth\": 2, \"linecolor\": \"white\", \"showbackground\": true, \"ticks\": \"\", \"zerolinecolor\": \"white\"}, \"yaxis\": {\"backgroundcolor\": \"#E5ECF6\", \"gridcolor\": \"white\", \"gridwidth\": 2, \"linecolor\": \"white\", \"showbackground\": true, \"ticks\": \"\", \"zerolinecolor\": \"white\"}, \"zaxis\": {\"backgroundcolor\": \"#E5ECF6\", \"gridcolor\": \"white\", \"gridwidth\": 2, \"linecolor\": \"white\", \"showbackground\": true, \"ticks\": \"\", \"zerolinecolor\": \"white\"}}, \"shapedefaults\": {\"line\": {\"color\": \"#2a3f5f\"}}, \"ternary\": {\"aaxis\": {\"gridcolor\": \"white\", \"linecolor\": \"white\", \"ticks\": \"\"}, \"baxis\": {\"gridcolor\": \"white\", \"linecolor\": \"white\", \"ticks\": \"\"}, \"bgcolor\": \"#E5ECF6\", \"caxis\": {\"gridcolor\": \"white\", \"linecolor\": \"white\", \"ticks\": \"\"}}, \"title\": {\"x\": 0.05}, \"xaxis\": {\"automargin\": true, \"gridcolor\": \"white\", \"linecolor\": \"white\", \"ticks\": \"\", \"title\": {\"standoff\": 15}, \"zerolinecolor\": \"white\", \"zerolinewidth\": 2}, \"yaxis\": {\"automargin\": true, \"gridcolor\": \"white\", \"linecolor\": \"white\", \"ticks\": \"\", \"title\": {\"standoff\": 15}, \"zerolinecolor\": \"white\", \"zerolinewidth\": 2}}}},                        {\"responsive\": true}                    ).then(function(){\n",
       "                            \n",
       "var gd = document.getElementById('74eda89e-c481-416b-90e1-85880cc4878a');\n",
       "var x = new MutationObserver(function (mutations, observer) {{\n",
       "        var display = window.getComputedStyle(gd).display;\n",
       "        if (!display || display === 'none') {{\n",
       "            console.log([gd, 'removed!']);\n",
       "            Plotly.purge(gd);\n",
       "            observer.disconnect();\n",
       "        }}\n",
       "}});\n",
       "\n",
       "// Listen for the removal of the full notebook cells\n",
       "var notebookContainer = gd.closest('#notebook-container');\n",
       "if (notebookContainer) {{\n",
       "    x.observe(notebookContainer, {childList: true});\n",
       "}}\n",
       "\n",
       "// Listen for the clearing of the current output cell\n",
       "var outputEl = gd.closest('.output');\n",
       "if (outputEl) {{\n",
       "    x.observe(outputEl, {childList: true});\n",
       "}}\n",
       "\n",
       "                        })                };                });            </script>        </div>"
      ]
     },
     "metadata": {},
     "output_type": "display_data"
    }
   ],
   "source": [
    "df2 = pd.DataFrame(columns = df.columns.tolist())\n",
    "\n",
    "df3 = df.dropna(subset=['total_vaccinations'])\n",
    "for country in df3.location.unique().tolist():\n",
    "    df1 = df3.loc[df3.location == country].tail(1)\n",
    "    df2 = df2.append(df1)\n",
    "\n",
    "df2.dropna(subset=['total_deaths'],inplace=True)\n",
    "df2.dropna(subset=['continent'],inplace=True)\n",
    "\n",
    "labels = df2['location'].tolist()\n",
    "parents = df2['continent'].tolist()\n",
    "values3 = df2['total_vaccinations'].tolist()\n",
    "color3 = df2['total_vaccinations_per_hundred'].tolist()\n",
    "\n",
    "for item in set(parents):\n",
    "    if item not in labels:\n",
    "        labels.append(item)\n",
    "        parents.append('')\n",
    "        values3.append(0)\n",
    "        color3.append(0)\n",
    "\n",
    "\n",
    "\n",
    "fig = go.Figure()\n",
    "\n",
    "fig.add_trace(\n",
    "    go.Sunburst(visible=True,\n",
    "    name = 'Total Vaccinations',\n",
    "    labels = labels,\n",
    "    values = values3,\n",
    "    parents = parents,\n",
    "    customdata = color3,\n",
    "    marker=dict(colorscale='Viridis', colors=color3, showscale=True),\n",
    "    hovertemplate = 'Country: %{label} <BR> Continent: %{parent} <BR> %{value} <BR> per hundered: %{color}%'\n",
    "    ))"
   ]
  },
  {
   "cell_type": "code",
   "execution_count": 182,
   "id": "excessive-plumbing",
   "metadata": {},
   "outputs": [
    {
     "data": {
      "text/plain": [
       "[0.11,\n",
       " 0.17,\n",
       " 2.1,\n",
       " 1.56,\n",
       " 5.41,\n",
       " 0.64,\n",
       " 15.97,\n",
       " 1.26,\n",
       " 3.17,\n",
       " 5.68,\n",
       " 0.09,\n",
       " 3.21,\n",
       " 1.56,\n",
       " 3.72,\n",
       " 15.03,\n",
       " 2.82,\n",
       " 0.07,\n",
       " 1.9,\n",
       " 3.46,\n",
       " 6.48,\n",
       " 5.07,\n",
       " 8.18,\n",
       " 0.0,\n",
       " 0.05,\n",
       " 0.0,\n",
       " 6.57,\n",
       " 6.3,\n",
       " 5.41,\n",
       " 5.81,\n",
       " 6.65,\n",
       " 0.08,\n",
       " 6.21,\n",
       " 7.54,\n",
       " 0.8,\n",
       " 0.72,\n",
       " 0.01,\n",
       " 6.3,\n",
       " 82.4,\n",
       " 5.69,\n",
       " 0.0,\n",
       " 3.21,\n",
       " 2.35,\n",
       " 0.19,\n",
       " 3.94,\n",
       " 6.91,\n",
       " 4.62,\n",
       " 12.95,\n",
       " 14.06,\n",
       " 0.02,\n",
       " 1.28,\n",
       " 6.12,\n",
       " 6.67,\n",
       " 0.19,\n",
       " 0.54,\n",
       " 4.38,\n",
       " 6.86,\n",
       " 3.09,\n",
       " 0.02,\n",
       " 1.06,\n",
       " 0.49,\n",
       " 7.03,\n",
       " 6.44,\n",
       " 1.74,\n",
       " 7.02,\n",
       " 2.67,\n",
       " 1.44,\n",
       " 14.5,\n",
       " 62.39,\n",
       " 4.38,\n",
       " 6.31,\n",
       " 6.81,\n",
       " 0.02,\n",
       " 6.28,\n",
       " 1.23,\n",
       " 5.8,\n",
       " 7.07,\n",
       " 7.75,\n",
       " 56.15,\n",
       " 26.3,\n",
       " 18.33,\n",
       " 0,\n",
       " 0,\n",
       " 0,\n",
       " 0,\n",
       " 0]"
      ]
     },
     "execution_count": 182,
     "metadata": {},
     "output_type": "execute_result"
    }
   ],
   "source": [
    "color3"
   ]
  },
  {
   "cell_type": "code",
   "execution_count": null,
   "id": "absolute-contrast",
   "metadata": {},
   "outputs": [],
   "source": []
  }
 ],
 "metadata": {
  "kernelspec": {
   "display_name": "Python 3",
   "language": "python",
   "name": "python3"
  },
  "language_info": {
   "codemirror_mode": {
    "name": "ipython",
    "version": 3
   },
   "file_extension": ".py",
   "mimetype": "text/x-python",
   "name": "python",
   "nbconvert_exporter": "python",
   "pygments_lexer": "ipython3",
   "version": "3.8.3"
  }
 },
 "nbformat": 4,
 "nbformat_minor": 5
}
