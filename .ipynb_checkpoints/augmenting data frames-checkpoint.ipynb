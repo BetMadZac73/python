{
 "cells": [
  {
   "cell_type": "markdown",
   "id": "industrial-museum",
   "metadata": {},
   "source": [
    "# Augmenting using other DFs to merge\n",
    "\n",
    "**In the example we are using 3 DF's, name, birthday and sign, then we are doing some functions as well**\n",
    "> Take the name, merge birthday and the sign\n",
    "> - Calculate the day of week person was born on\n",
    "> - Calculate the age\n",
    "> - then use Title or Capitalize to neaten the data up"
   ]
  },
  {
   "cell_type": "code",
   "execution_count": 164,
   "id": "stunning-annotation",
   "metadata": {},
   "outputs": [],
   "source": [
    "import pandas as pd\n",
    "import datetime as dt\n",
    "from IPython.display import Markdown, display, HTML\n",
    "\n",
    "def load():\n",
    "    name = pd.DataFrame({'name': ['carl', 'beth', 'madz', 'zack', 'yvonne', 'anna', 'sue', 'ginny'],\n",
    "                         'middle' : ['warneford', 'paige', 'faith', 'tyler', 'joan', 'louise', 'jane', 'alexandra'],\n",
    "                        'family-name': ['langton', 'langton', 'langton', 'langton', 'langton', 'langton', 'lenihan', 'carlson']})\n",
    "    birthday = pd.DataFrame({'name': ['carl', 'beth', 'madz', 'zack', 'yvonne', 'anna', 'sue', 'ginny'],\n",
    "                        'dob': [pd.Timestamp(\"1973-04-19\"), pd.Timestamp(\"2000-04-04\"),\n",
    "                               pd.Timestamp(\"2002-01-24\"), pd.Timestamp(\"2007-05-17\"),\n",
    "                               pd.Timestamp(\"1944-07-28\"), pd.Timestamp(\"1969-10-13\"),\n",
    "                               pd.Timestamp(\"1971-06-26\"), pd.Timestamp(\"1975-06-12\")]})\n",
    "    sign = pd.DataFrame({'name': ['carl', 'beth', 'madz', 'zack', 'yvonne', 'anna', 'sue', 'ginny'],\n",
    "                         'sign': ['aries', 'aries', 'aquarius', 'taurus', 'leo', 'libra', 'cancer', 'gemini']})\n",
    "    return name, birthday, sign"
   ]
  },
  {
   "cell_type": "code",
   "execution_count": 165,
   "id": "stunning-modern",
   "metadata": {},
   "outputs": [],
   "source": [
    "name, birthday, sign = load()"
   ]
  },
  {
   "cell_type": "code",
   "execution_count": 221,
   "id": "discrete-storm",
   "metadata": {},
   "outputs": [
    {
     "data": {
      "text/html": [
       "<table border=\"1\" class=\"dataframe\">\n",
       "  <thead style=\"background-color:purple; color:white;\">\n",
       "    <tr style=\"text-align: right;\">\n",
       "      <th style=\"text-align:left;\">name</th>\n",
       "      <th style=\"text-align:left;\">middle</th>\n",
       "      <th style=\"text-align:left;\">family-name</th>\n",
       "      <th style=\"text-align:left;\">dob</th>\n",
       "      <th style=\"text-align:left;\">sign</th>\n",
       "      <th style=\"text-align:left;\">born-day</th>\n",
       "      <th style=\"text-align:left;\">age</th>\n",
       "    </tr>\n",
       "  </thead>\n",
       "  <tbody>\n",
       "    <tr style=\"background-color:lavender; font-weight:bold;;\">\n",
       "      <td style=\"text-align:left;\">Yvonne</td>\n",
       "      <td style=\"text-align:left;\">Joan</td>\n",
       "      <td style=\"text-align:left;\">Langton</td>\n",
       "      <td style=\"text-align:left;\">1944-07-28</td>\n",
       "      <td style=\"text-align:left;\">Leo</td>\n",
       "      <td style=\"text-align:left;\">Fri</td>\n",
       "      <td style=\"text-align:left;\">76 Years 193 Days</td>\n",
       "    </tr>\n",
       "    <tr style=\"background-color:lavender; font-weight:bold;;\">\n",
       "      <td style=\"text-align:left;\">Anna</td>\n",
       "      <td style=\"text-align:left;\">Louise</td>\n",
       "      <td style=\"text-align:left;\">Langton</td>\n",
       "      <td style=\"text-align:left;\">1969-10-13</td>\n",
       "      <td style=\"text-align:left;\">Libra</td>\n",
       "      <td style=\"text-align:left;\">Mon</td>\n",
       "      <td style=\"text-align:left;\">51 Years 116 Days</td>\n",
       "    </tr>\n",
       "    <tr style=\"background-color:lavender; font-weight:bold;;\">\n",
       "      <td style=\"text-align:left;\">Sue</td>\n",
       "      <td style=\"text-align:left;\">Jane</td>\n",
       "      <td style=\"text-align:left;\">Lenihan</td>\n",
       "      <td style=\"text-align:left;\">1971-06-26</td>\n",
       "      <td style=\"text-align:left;\">Cancer</td>\n",
       "      <td style=\"text-align:left;\">Sat</td>\n",
       "      <td style=\"text-align:left;\">49 Years 225 Days</td>\n",
       "    </tr>\n",
       "    <tr style=\"background-color:lavender; font-weight:bold;;\">\n",
       "      <td style=\"text-align:left;\">Carl</td>\n",
       "      <td style=\"text-align:left;\">Warneford</td>\n",
       "      <td style=\"text-align:left;\">Langton</td>\n",
       "      <td style=\"text-align:left;\">1973-04-19</td>\n",
       "      <td style=\"text-align:left;\">Aries</td>\n",
       "      <td style=\"text-align:left;\">Thu</td>\n",
       "      <td style=\"text-align:left;\">47 Years 293 Days</td>\n",
       "    </tr>\n",
       "    <tr style=\"background-color:lavender; font-weight:bold;;\">\n",
       "      <td style=\"text-align:left;\">Ginny</td>\n",
       "      <td style=\"text-align:left;\">Alexandra</td>\n",
       "      <td style=\"text-align:left;\">Carlson</td>\n",
       "      <td style=\"text-align:left;\">1975-06-12</td>\n",
       "      <td style=\"text-align:left;\">Gemini</td>\n",
       "      <td style=\"text-align:left;\">Thu</td>\n",
       "      <td style=\"text-align:left;\">45 Years 239 Days</td>\n",
       "    </tr>\n",
       "    <tr style=\"background-color:lavender; font-weight:bold;;\">\n",
       "      <td style=\"text-align:left;\">Beth</td>\n",
       "      <td style=\"text-align:left;\">Paige</td>\n",
       "      <td style=\"text-align:left;\">Langton</td>\n",
       "      <td style=\"text-align:left;\">2000-04-04</td>\n",
       "      <td style=\"text-align:left;\">Aries</td>\n",
       "      <td style=\"text-align:left;\">Tue</td>\n",
       "      <td style=\"text-align:left;\">20 Years 308 Days</td>\n",
       "    </tr>\n",
       "    <tr style=\"background-color:lavender; font-weight:bold;;\">\n",
       "      <td style=\"text-align:left;\">Madz</td>\n",
       "      <td style=\"text-align:left;\">Faith</td>\n",
       "      <td style=\"text-align:left;\">Langton</td>\n",
       "      <td style=\"text-align:left;\">2002-01-24</td>\n",
       "      <td style=\"text-align:left;\">Aquarius</td>\n",
       "      <td style=\"text-align:left;\">Thu</td>\n",
       "      <td style=\"text-align:left;\">19 Years 13 Days</td>\n",
       "    </tr>\n",
       "    <tr style=\"background-color:lavender; font-weight:bold;;\">\n",
       "      <td style=\"text-align:left;\">Zack</td>\n",
       "      <td style=\"text-align:left;\">Tyler</td>\n",
       "      <td style=\"text-align:left;\">Langton</td>\n",
       "      <td style=\"text-align:left;\">2007-05-17</td>\n",
       "      <td style=\"text-align:left;\">Taurus</td>\n",
       "      <td style=\"text-align:left;\">Thu</td>\n",
       "      <td style=\"text-align:left;\">13 Years 265 Days</td>\n",
       "    </tr>\n",
       "  </tbody>\n",
       "</table>"
      ],
      "text/plain": [
       "<IPython.core.display.HTML object>"
      ]
     },
     "metadata": {},
     "output_type": "display_data"
    }
   ],
   "source": [
    "def prettify(table):\n",
    "    table = table.replace('<thead>','<thead style=\"background-color:purple; color:white;\">')\n",
    "    table = table.replace('<tr>', '<tr style=\"background-color:lavender; font-weight:bold;;\">')\n",
    "    table = table.replace('<td>', '<td style=\"text-align:left;\">')\n",
    "    table = table.replace('<th>', '<th style=\"text-align:left;\">')\n",
    "    return table\n",
    "\n",
    "df = name.merge(birthday).merge(sign)\n",
    "df['born-day'] = df.apply(lambda x: x.dob.strftime('%a'), axis=1)\n",
    "df['age'] = df.apply(lambda x: f'{int((dt.datetime.now() - x.dob).days // 365.25)} years'\n",
    "                     f' {int((dt.datetime.now() - x.dob).days % 365.25)} days' , axis=1)\n",
    "for col in ['name', 'middle', 'family-name', 'sign', 'age']:\n",
    "    df[col] = df[col].str.title() # capitalize()\n",
    "    \n",
    "    \n",
    "display(HTML(prettify(df.sort_values('dob').to_html(index=False))))"
   ]
  },
  {
   "cell_type": "code",
   "execution_count": 223,
   "id": "labeled-passport",
   "metadata": {},
   "outputs": [
    {
     "data": {
      "text/plain": [
       "'<table border=\"1\" class=\"dataframe\">\\n  <thead style=\"background-color:purple; color:white;\">\\n    <tr style=\"text-align: right;\">\\n      <th style=\"text-align:left;\"></th>\\n      <th style=\"text-align:left;\">name</th>\\n      <th style=\"text-align:left;\">middle</th>\\n      <th style=\"text-align:left;\">family-name</th>\\n      <th style=\"text-align:left;\">dob</th>\\n      <th style=\"text-align:left;\">sign</th>\\n      <th style=\"text-align:left;\">born-day</th>\\n      <th style=\"text-align:left;\">age</th>\\n    </tr>\\n  </thead>\\n  <tbody>\\n    <tr style=\"background-color:lavender; font-weight:bold;;\">\\n      <th style=\"text-align:left;\">0</th>\\n      <td style=\"text-align:left;\">Carl</td>\\n      <td style=\"text-align:left;\">Warneford</td>\\n      <td style=\"text-align:left;\">Langton</td>\\n      <td style=\"text-align:left;\">1973-04-19</td>\\n      <td style=\"text-align:left;\">Aries</td>\\n      <td style=\"text-align:left;\">Thu</td>\\n      <td style=\"text-align:left;\">47 Years 293 Days</td>\\n    </tr>\\n    <tr style=\"background-color:lavender; font-weight:bold;;\">\\n      <th style=\"text-align:left;\">1</th>\\n      <td style=\"text-align:left;\">Beth</td>\\n      <td style=\"text-align:left;\">Paige</td>\\n      <td style=\"text-align:left;\">Langton</td>\\n      <td style=\"text-align:left;\">2000-04-04</td>\\n      <td style=\"text-align:left;\">Aries</td>\\n      <td style=\"text-align:left;\">Tue</td>\\n      <td style=\"text-align:left;\">20 Years 308 Days</td>\\n    </tr>\\n    <tr style=\"background-color:lavender; font-weight:bold;;\">\\n      <th style=\"text-align:left;\">2</th>\\n      <td style=\"text-align:left;\">Madz</td>\\n      <td style=\"text-align:left;\">Faith</td>\\n      <td style=\"text-align:left;\">Langton</td>\\n      <td style=\"text-align:left;\">2002-01-24</td>\\n      <td style=\"text-align:left;\">Aquarius</td>\\n      <td style=\"text-align:left;\">Thu</td>\\n      <td style=\"text-align:left;\">19 Years 13 Days</td>\\n    </tr>\\n    <tr style=\"background-color:lavender; font-weight:bold;;\">\\n      <th style=\"text-align:left;\">3</th>\\n      <td style=\"text-align:left;\">Zack</td>\\n      <td style=\"text-align:left;\">Tyler</td>\\n      <td style=\"text-align:left;\">Langton</td>\\n      <td style=\"text-align:left;\">2007-05-17</td>\\n      <td style=\"text-align:left;\">Taurus</td>\\n      <td style=\"text-align:left;\">Thu</td>\\n      <td style=\"text-align:left;\">13 Years 265 Days</td>\\n    </tr>\\n    <tr style=\"background-color:lavender; font-weight:bold;;\">\\n      <th style=\"text-align:left;\">4</th>\\n      <td style=\"text-align:left;\">Yvonne</td>\\n      <td style=\"text-align:left;\">Joan</td>\\n      <td style=\"text-align:left;\">Langton</td>\\n      <td style=\"text-align:left;\">1944-07-28</td>\\n      <td style=\"text-align:left;\">Leo</td>\\n      <td style=\"text-align:left;\">Fri</td>\\n      <td style=\"text-align:left;\">76 Years 193 Days</td>\\n    </tr>\\n    <tr style=\"background-color:lavender; font-weight:bold;;\">\\n      <th style=\"text-align:left;\">5</th>\\n      <td style=\"text-align:left;\">Anna</td>\\n      <td style=\"text-align:left;\">Louise</td>\\n      <td style=\"text-align:left;\">Langton</td>\\n      <td style=\"text-align:left;\">1969-10-13</td>\\n      <td style=\"text-align:left;\">Libra</td>\\n      <td style=\"text-align:left;\">Mon</td>\\n      <td style=\"text-align:left;\">51 Years 116 Days</td>\\n    </tr>\\n    <tr style=\"background-color:lavender; font-weight:bold;;\">\\n      <th style=\"text-align:left;\">6</th>\\n      <td style=\"text-align:left;\">Sue</td>\\n      <td style=\"text-align:left;\">Jane</td>\\n      <td style=\"text-align:left;\">Lenihan</td>\\n      <td style=\"text-align:left;\">1971-06-26</td>\\n      <td style=\"text-align:left;\">Cancer</td>\\n      <td style=\"text-align:left;\">Sat</td>\\n      <td style=\"text-align:left;\">49 Years 225 Days</td>\\n    </tr>\\n    <tr style=\"background-color:lavender; font-weight:bold;;\">\\n      <th style=\"text-align:left;\">7</th>\\n      <td style=\"text-align:left;\">Ginny</td>\\n      <td style=\"text-align:left;\">Alexandra</td>\\n      <td style=\"text-align:left;\">Carlson</td>\\n      <td style=\"text-align:left;\">1975-06-12</td>\\n      <td style=\"text-align:left;\">Gemini</td>\\n      <td style=\"text-align:left;\">Thu</td>\\n      <td style=\"text-align:left;\">45 Years 239 Days</td>\\n    </tr>\\n  </tbody>\\n</table>'"
      ]
     },
     "execution_count": 223,
     "metadata": {},
     "output_type": "execute_result"
    }
   ],
   "source": [
    "prettify(df.to_html())"
   ]
  },
  {
   "cell_type": "code",
   "execution_count": 224,
   "id": "dated-combining",
   "metadata": {},
   "outputs": [
    {
     "data": {
      "text/html": [
       "<table border=\"1\" class=\"dataframe\">\n",
       "  <thead style=\"background-color:purple; color:white;\">\n",
       "    <tr style=\"text-align: right;\">\n",
       "      <th>name</th>\n",
       "      <th>middle</th>\n",
       "      <th>family-name</th>\n",
       "      <th>dob</th>\n",
       "      <th>sign</th>\n",
       "      <th>born-day</th>\n",
       "      <th>age</th>\n",
       "    </tr>\n",
       "  </thead>\n",
       "  <tbody>\n",
       "    <tr style=\"background-color:lavender; font-weight:bold;;\">\n",
       "      <td style=\"text-align:left;\">Carl</td>\n",
       "      <td style=\"text-align:left;\">Warneford</td>\n",
       "      <td style=\"text-align:left;\">Langton</td>\n",
       "      <td style=\"text-align:left;\">1973-04-19</td>\n",
       "      <td style=\"text-align:left;\">Aries</td>\n",
       "      <td style=\"text-align:left;\">Thu</td>\n",
       "      <td style=\"text-align:left;\">47 Years 293 Days</td>\n",
       "    </tr>\n",
       "    <tr style=\"background-color:lavender; font-weight:bold;;\">\n",
       "      <td style=\"text-align:left;\">Beth</td>\n",
       "      <td style=\"text-align:left;\">Paige</td>\n",
       "      <td style=\"text-align:left;\">Langton</td>\n",
       "      <td style=\"text-align:left;\">2000-04-04</td>\n",
       "      <td style=\"text-align:left;\">Aries</td>\n",
       "      <td style=\"text-align:left;\">Tue</td>\n",
       "      <td style=\"text-align:left;\">20 Years 308 Days</td>\n",
       "    </tr>\n",
       "    <tr style=\"background-color:lavender; font-weight:bold;;\">\n",
       "      <td style=\"text-align:left;\">Madz</td>\n",
       "      <td style=\"text-align:left;\">Faith</td>\n",
       "      <td style=\"text-align:left;\">Langton</td>\n",
       "      <td style=\"text-align:left;\">2002-01-24</td>\n",
       "      <td style=\"text-align:left;\">Aquarius</td>\n",
       "      <td style=\"text-align:left;\">Thu</td>\n",
       "      <td style=\"text-align:left;\">19 Years 13 Days</td>\n",
       "    </tr>\n",
       "    <tr style=\"background-color:lavender; font-weight:bold;;\">\n",
       "      <td style=\"text-align:left;\">Zack</td>\n",
       "      <td style=\"text-align:left;\">Tyler</td>\n",
       "      <td style=\"text-align:left;\">Langton</td>\n",
       "      <td style=\"text-align:left;\">2007-05-17</td>\n",
       "      <td style=\"text-align:left;\">Taurus</td>\n",
       "      <td style=\"text-align:left;\">Thu</td>\n",
       "      <td style=\"text-align:left;\">13 Years 265 Days</td>\n",
       "    </tr>\n",
       "    <tr style=\"background-color:lavender; font-weight:bold;;\">\n",
       "      <td style=\"text-align:left;\">Yvonne</td>\n",
       "      <td style=\"text-align:left;\">Joan</td>\n",
       "      <td style=\"text-align:left;\">Langton</td>\n",
       "      <td style=\"text-align:left;\">1944-07-28</td>\n",
       "      <td style=\"text-align:left;\">Leo</td>\n",
       "      <td style=\"text-align:left;\">Fri</td>\n",
       "      <td style=\"text-align:left;\">76 Years 193 Days</td>\n",
       "    </tr>\n",
       "    <tr style=\"background-color:lavender; font-weight:bold;;\">\n",
       "      <td style=\"text-align:left;\">Anna</td>\n",
       "      <td style=\"text-align:left;\">Louise</td>\n",
       "      <td style=\"text-align:left;\">Langton</td>\n",
       "      <td style=\"text-align:left;\">1969-10-13</td>\n",
       "      <td style=\"text-align:left;\">Libra</td>\n",
       "      <td style=\"text-align:left;\">Mon</td>\n",
       "      <td style=\"text-align:left;\">51 Years 116 Days</td>\n",
       "    </tr>\n",
       "    <tr style=\"background-color:lavender; font-weight:bold;;\">\n",
       "      <td style=\"text-align:left;\">Sue</td>\n",
       "      <td style=\"text-align:left;\">Jane</td>\n",
       "      <td style=\"text-align:left;\">Lenihan</td>\n",
       "      <td style=\"text-align:left;\">1971-06-26</td>\n",
       "      <td style=\"text-align:left;\">Cancer</td>\n",
       "      <td style=\"text-align:left;\">Sat</td>\n",
       "      <td style=\"text-align:left;\">49 Years 225 Days</td>\n",
       "    </tr>\n",
       "    <tr style=\"background-color:lavender; font-weight:bold;;\">\n",
       "      <td style=\"text-align:left;\">Ginny</td>\n",
       "      <td style=\"text-align:left;\">Alexandra</td>\n",
       "      <td style=\"text-align:left;\">Carlson</td>\n",
       "      <td style=\"text-align:left;\">1975-06-12</td>\n",
       "      <td style=\"text-align:left;\">Gemini</td>\n",
       "      <td style=\"text-align:left;\">Thu</td>\n",
       "      <td style=\"text-align:left;\">45 Years 239 Days</td>\n",
       "    </tr>\n",
       "  </tbody>\n",
       "</table>"
      ],
      "text/plain": [
       "<IPython.core.display.HTML object>"
      ]
     },
     "metadata": {},
     "output_type": "display_data"
    }
   ],
   "source": [
    "table = df.to_html(index=False).replace('<thead>','<thead style=\"background-color:purple; color:white;\">')\n",
    "table = table.replace('<tr>', '<tr style=\"background-color:lavender; font-weight:bold;;\">')\n",
    "table = table.replace('<td>', '<td style=\"text-align:left;\">')\n",
    "display(HTML(table))"
   ]
  },
  {
   "cell_type": "code",
   "execution_count": 225,
   "id": "centered-width",
   "metadata": {},
   "outputs": [
    {
     "data": {
      "text/html": [
       "<table border=\"3\" class=\"dataframe\">\n",
       "  <thead style=\"background-color:purple; color:white;\">\n",
       "    <tr style=\"text-align: right;\">\n",
       "      <th style=\"text-align:left;\">name</th>\n",
       "      <th style=\"text-align:left;\">age</th>\n",
       "    </tr>\n",
       "  </thead>\n",
       "  <tbody>\n",
       "    <tr style=\"background-color:lavender; font-weight:bold;;\">\n",
       "      <td style=\"text-align:left;\">Carl</td>\n",
       "      <td style=\"text-align:left;\">47 Years 293 Days</td>\n",
       "    </tr>\n",
       "    <tr style=\"background-color:lavender; font-weight:bold;;\">\n",
       "      <td style=\"text-align:left;\">Beth</td>\n",
       "      <td style=\"text-align:left;\">20 Years 308 Days</td>\n",
       "    </tr>\n",
       "    <tr style=\"background-color:lavender; font-weight:bold;;\">\n",
       "      <td style=\"text-align:left;\">Madz</td>\n",
       "      <td style=\"text-align:left;\">19 Years 13 Days</td>\n",
       "    </tr>\n",
       "    <tr style=\"background-color:lavender; font-weight:bold;;\">\n",
       "      <td style=\"text-align:left;\">Zack</td>\n",
       "      <td style=\"text-align:left;\">13 Years 265 Days</td>\n",
       "    </tr>\n",
       "    <tr style=\"background-color:lavender; font-weight:bold;;\">\n",
       "      <td style=\"text-align:left;\">Yvonne</td>\n",
       "      <td style=\"text-align:left;\">76 Years 193 Days</td>\n",
       "    </tr>\n",
       "    <tr style=\"background-color:lavender; font-weight:bold;;\">\n",
       "      <td style=\"text-align:left;\">Anna</td>\n",
       "      <td style=\"text-align:left;\">51 Years 116 Days</td>\n",
       "    </tr>\n",
       "    <tr style=\"background-color:lavender; font-weight:bold;;\">\n",
       "      <td style=\"text-align:left;\">Sue</td>\n",
       "      <td style=\"text-align:left;\">49 Years 225 Days</td>\n",
       "    </tr>\n",
       "    <tr style=\"background-color:lavender; font-weight:bold;;\">\n",
       "      <td style=\"text-align:left;\">Ginny</td>\n",
       "      <td style=\"text-align:left;\">45 Years 239 Days</td>\n",
       "    </tr>\n",
       "  </tbody>\n",
       "</table>"
      ],
      "text/plain": [
       "<IPython.core.display.HTML object>"
      ]
     },
     "metadata": {},
     "output_type": "display_data"
    }
   ],
   "source": [
    "display(HTML(prettify(df.to_html(columns= ['name', 'age'], index=False, border=3, header=True))))"
   ]
  },
  {
   "cell_type": "code",
   "execution_count": 196,
   "id": "unnecessary-novelty",
   "metadata": {},
   "outputs": [
    {
     "data": {
      "text/html": [
       "<table border=\"1\" class=\"dataframe\">\n",
       "  <thead>\n",
       "    <tr style=\"text-align: right;\">\n",
       "      <th>name</th>\n",
       "      <th>middle</th>\n",
       "      <th>family-name</th>\n",
       "      <th>dob</th>\n",
       "      <th>sign</th>\n",
       "      <th>born-day</th>\n",
       "      <th>age</th>\n",
       "    </tr>\n",
       "  </thead>\n",
       "  <tbody>\n",
       "    <tr>\n",
       "      <td>Carl</td>\n",
       "      <td>Warneford</td>\n",
       "      <td>Langton</td>\n",
       "      <td>1973-04-19</td>\n",
       "      <td>Aries</td>\n",
       "      <td>Thu</td>\n",
       "      <td>47 Years 293 Days</td>\n",
       "    </tr>\n",
       "    <tr>\n",
       "      <td>Beth</td>\n",
       "      <td>Paige</td>\n",
       "      <td>Langton</td>\n",
       "      <td>2000-04-04</td>\n",
       "      <td>Aries</td>\n",
       "      <td>Tue</td>\n",
       "      <td>20 Years 308 Days</td>\n",
       "    </tr>\n",
       "    <tr>\n",
       "      <td>Madz</td>\n",
       "      <td>Faith</td>\n",
       "      <td>Langton</td>\n",
       "      <td>2002-01-24</td>\n",
       "      <td>Aquarius</td>\n",
       "      <td>Thu</td>\n",
       "      <td>19 Years 13 Days</td>\n",
       "    </tr>\n",
       "    <tr>\n",
       "      <td>Zack</td>\n",
       "      <td>Tyler</td>\n",
       "      <td>Langton</td>\n",
       "      <td>2007-05-17</td>\n",
       "      <td>Taurus</td>\n",
       "      <td>Thu</td>\n",
       "      <td>13 Years 265 Days</td>\n",
       "    </tr>\n",
       "    <tr>\n",
       "      <td>Yvonne</td>\n",
       "      <td>Joan</td>\n",
       "      <td>Langton</td>\n",
       "      <td>1944-07-28</td>\n",
       "      <td>Leo</td>\n",
       "      <td>Fri</td>\n",
       "      <td>76 Years 193 Days</td>\n",
       "    </tr>\n",
       "    <tr>\n",
       "      <td>Anna</td>\n",
       "      <td>Louise</td>\n",
       "      <td>Langton</td>\n",
       "      <td>1969-10-13</td>\n",
       "      <td>Libra</td>\n",
       "      <td>Mon</td>\n",
       "      <td>51 Years 116 Days</td>\n",
       "    </tr>\n",
       "    <tr>\n",
       "      <td>Sue</td>\n",
       "      <td>Jane</td>\n",
       "      <td>Lenihan</td>\n",
       "      <td>1971-06-26</td>\n",
       "      <td>Cancer</td>\n",
       "      <td>Sat</td>\n",
       "      <td>49 Years 225 Days</td>\n",
       "    </tr>\n",
       "    <tr>\n",
       "      <td>Ginny</td>\n",
       "      <td>Alexandra</td>\n",
       "      <td>Carlson</td>\n",
       "      <td>1975-06-12</td>\n",
       "      <td>Gemini</td>\n",
       "      <td>Thu</td>\n",
       "      <td>45 Years 239 Days</td>\n",
       "    </tr>\n",
       "  </tbody>\n",
       "</table>"
      ],
      "text/plain": [
       "<IPython.core.display.HTML object>"
      ]
     },
     "metadata": {},
     "output_type": "display_data"
    }
   ],
   "source": [
    "display(HTML(df.to_html(index=False, notebook=False)))"
   ]
  },
  {
   "cell_type": "code",
   "execution_count": 174,
   "id": "terminal-crime",
   "metadata": {},
   "outputs": [
    {
     "data": {
      "text/html": [
       "<table border=\"1\" class=\"dataframe\">\n",
       "  <thead style=\"background-color:purple; color:white;\">\n",
       "    <tr style=\"text-align: right;\">\n",
       "      <th></th>\n",
       "      <th>name</th>\n",
       "      <th>middle</th>\n",
       "      <th>family-name</th>\n",
       "      <th>dob</th>\n",
       "      <th>sign</th>\n",
       "      <th>born-day</th>\n",
       "      <th>age</th>\n",
       "    </tr>\n",
       "  </thead>\n",
       "  <tbody>\n",
       "    <tr>\n",
       "      <th>0</th>\n",
       "      <td>Carl</td>\n",
       "      <td>Warneford</td>\n",
       "      <td>Langton</td>\n",
       "      <td>1973-04-19</td>\n",
       "      <td>Aries</td>\n",
       "      <td>Thu</td>\n",
       "      <td>47 Years 293 Days</td>\n",
       "    </tr>\n",
       "    <tr>\n",
       "      <th>1</th>\n",
       "      <td>Beth</td>\n",
       "      <td>Paige</td>\n",
       "      <td>Langton</td>\n",
       "      <td>2000-04-04</td>\n",
       "      <td>Aries</td>\n",
       "      <td>Tue</td>\n",
       "      <td>20 Years 308 Days</td>\n",
       "    </tr>\n",
       "    <tr>\n",
       "      <th>2</th>\n",
       "      <td>Madz</td>\n",
       "      <td>Faith</td>\n",
       "      <td>Langton</td>\n",
       "      <td>2002-01-24</td>\n",
       "      <td>Aquarius</td>\n",
       "      <td>Thu</td>\n",
       "      <td>19 Years 13 Days</td>\n",
       "    </tr>\n",
       "    <tr>\n",
       "      <th>3</th>\n",
       "      <td>Zack</td>\n",
       "      <td>Tyler</td>\n",
       "      <td>Langton</td>\n",
       "      <td>2007-05-17</td>\n",
       "      <td>Taurus</td>\n",
       "      <td>Thu</td>\n",
       "      <td>13 Years 265 Days</td>\n",
       "    </tr>\n",
       "    <tr>\n",
       "      <th>4</th>\n",
       "      <td>Yvonne</td>\n",
       "      <td>Joan</td>\n",
       "      <td>Langton</td>\n",
       "      <td>1944-07-28</td>\n",
       "      <td>Leo</td>\n",
       "      <td>Fri</td>\n",
       "      <td>76 Years 193 Days</td>\n",
       "    </tr>\n",
       "    <tr>\n",
       "      <th>5</th>\n",
       "      <td>Anna</td>\n",
       "      <td>Louise</td>\n",
       "      <td>Langton</td>\n",
       "      <td>1969-10-13</td>\n",
       "      <td>Libra</td>\n",
       "      <td>Mon</td>\n",
       "      <td>51 Years 116 Days</td>\n",
       "    </tr>\n",
       "    <tr>\n",
       "      <th>6</th>\n",
       "      <td>Sue</td>\n",
       "      <td>Jane</td>\n",
       "      <td>Lenihan</td>\n",
       "      <td>1971-06-26</td>\n",
       "      <td>Cancer</td>\n",
       "      <td>Sat</td>\n",
       "      <td>49 Years 225 Days</td>\n",
       "    </tr>\n",
       "    <tr>\n",
       "      <th>7</th>\n",
       "      <td>Ginny</td>\n",
       "      <td>Alexandra</td>\n",
       "      <td>Carlson</td>\n",
       "      <td>1975-06-12</td>\n",
       "      <td>Gemini</td>\n",
       "      <td>Thu</td>\n",
       "      <td>45 Years 239 Days</td>\n",
       "    </tr>\n",
       "  </tbody>\n",
       "</table>"
      ],
      "text/plain": [
       "<IPython.core.display.HTML object>"
      ]
     },
     "metadata": {},
     "output_type": "display_data"
    }
   ],
   "source": [
    "display(HTML(df.to_html().replace('<thead>','<thead style=\"background-color:purple; color:white;\">')))"
   ]
  },
  {
   "cell_type": "code",
   "execution_count": 177,
   "id": "atlantic-novel",
   "metadata": {},
   "outputs": [
    {
     "data": {
      "text/plain": [
       "'<table border=\"1\" class=\"dataframe\">\\n  <thead style=\"background-color:purple; color:white;\">\\n    <tr style=\"text-align: right;\">\\n      <th></th>\\n      <th>name</th>\\n      <th>middle</th>\\n      <th>family-name</th>\\n      <th>dob</th>\\n      <th>sign</th>\\n      <th>born-day</th>\\n      <th>age</th>\\n    </tr>\\n  </thead>\\n  <tbody style=\"background-color:lavender;\">\\n    <tr>\\n      <th>0</th>\\n      <td>Carl</td>\\n      <td>Warneford</td>\\n      <td>Langton</td>\\n      <td>1973-04-19</td>\\n      <td>Aries</td>\\n      <td>Thu</td>\\n      <td>47 Years 293 Days</td>\\n    </tr>\\n    <tr>\\n      <th>1</th>\\n      <td>Beth</td>\\n      <td>Paige</td>\\n      <td>Langton</td>\\n      <td>2000-04-04</td>\\n      <td>Aries</td>\\n      <td>Tue</td>\\n      <td>20 Years 308 Days</td>\\n    </tr>\\n    <tr>\\n      <th>2</th>\\n      <td>Madz</td>\\n      <td>Faith</td>\\n      <td>Langton</td>\\n      <td>2002-01-24</td>\\n      <td>Aquarius</td>\\n      <td>Thu</td>\\n      <td>19 Years 13 Days</td>\\n    </tr>\\n    <tr>\\n      <th>3</th>\\n      <td>Zack</td>\\n      <td>Tyler</td>\\n      <td>Langton</td>\\n      <td>2007-05-17</td>\\n      <td>Taurus</td>\\n      <td>Thu</td>\\n      <td>13 Years 265 Days</td>\\n    </tr>\\n    <tr>\\n      <th>4</th>\\n      <td>Yvonne</td>\\n      <td>Joan</td>\\n      <td>Langton</td>\\n      <td>1944-07-28</td>\\n      <td>Leo</td>\\n      <td>Fri</td>\\n      <td>76 Years 193 Days</td>\\n    </tr>\\n    <tr>\\n      <th>5</th>\\n      <td>Anna</td>\\n      <td>Louise</td>\\n      <td>Langton</td>\\n      <td>1969-10-13</td>\\n      <td>Libra</td>\\n      <td>Mon</td>\\n      <td>51 Years 116 Days</td>\\n    </tr>\\n    <tr>\\n      <th>6</th>\\n      <td>Sue</td>\\n      <td>Jane</td>\\n      <td>Lenihan</td>\\n      <td>1971-06-26</td>\\n      <td>Cancer</td>\\n      <td>Sat</td>\\n      <td>49 Years 225 Days</td>\\n    </tr>\\n    <tr>\\n      <th>7</th>\\n      <td>Ginny</td>\\n      <td>Alexandra</td>\\n      <td>Carlson</td>\\n      <td>1975-06-12</td>\\n      <td>Gemini</td>\\n      <td>Thu</td>\\n      <td>45 Years 239 Days</td>\\n    </tr>\\n  </tbody>\\n</table>'"
      ]
     },
     "execution_count": 177,
     "metadata": {},
     "output_type": "execute_result"
    }
   ],
   "source": [
    "table"
   ]
  },
  {
   "cell_type": "code",
   "execution_count": 185,
   "id": "manual-hollywood",
   "metadata": {},
   "outputs": [
    {
     "name": "stdout",
     "output_type": "stream",
     "text": [
      "<class 'pandas.core.frame.DataFrame'>\n",
      "Int64Index: 8 entries, 0 to 7\n",
      "Data columns (total 7 columns):\n",
      " #   Column       Non-Null Count  Dtype         \n",
      "---  ------       --------------  -----         \n",
      " 0   name         8 non-null      object        \n",
      " 1   middle       8 non-null      object        \n",
      " 2   family-name  8 non-null      object        \n",
      " 3   dob          8 non-null      datetime64[ns]\n",
      " 4   sign         8 non-null      object        \n",
      " 5   born-day     8 non-null      object        \n",
      " 6   age          8 non-null      object        \n",
      "dtypes: datetime64[ns](1), object(6)\n",
      "memory usage: 512.0+ bytes\n"
     ]
    }
   ],
   "source": [
    "df.info()"
   ]
  },
  {
   "cell_type": "code",
   "execution_count": 192,
   "id": "appreciated-forty",
   "metadata": {},
   "outputs": [
    {
     "data": {
      "text/plain": [
       "'<table border=\"1\" class=\"dataframe\">\\n  <thead>\\n    <tr style=\"text-align: right;\">\\n      <th>name</th>\\n      <th>middle</th>\\n      <th>family-name</th>\\n      <th>dob</th>\\n      <th>sign</th>\\n      <th>born-day</th>\\n      <th>age</th>\\n    </tr>\\n  </thead>\\n  <tbody>\\n    <tr>\\n      <td>Carl</td>\\n      <td>Warneford</td>\\n      <td>Langton</td>\\n      <td>1973-04-19</td>\\n      <td>Aries</td>\\n      <td>Thu</td>\\n      <td>47 Years 293 Days</td>\\n    </tr>\\n    <tr>\\n      <td>Beth</td>\\n      <td>Paige</td>\\n      <td>Langton</td>\\n      <td>2000-04-04</td>\\n      <td>Aries</td>\\n      <td>Tue</td>\\n      <td>20 Years 308 Days</td>\\n    </tr>\\n    <tr>\\n      <td>Madz</td>\\n      <td>Faith</td>\\n      <td>Langton</td>\\n      <td>2002-01-24</td>\\n      <td>Aquarius</td>\\n      <td>Thu</td>\\n      <td>19 Years 13 Days</td>\\n    </tr>\\n    <tr>\\n      <td>Zack</td>\\n      <td>Tyler</td>\\n      <td>Langton</td>\\n      <td>2007-05-17</td>\\n      <td>Taurus</td>\\n      <td>Thu</td>\\n      <td>13 Years 265 Days</td>\\n    </tr>\\n    <tr>\\n      <td>Yvonne</td>\\n      <td>Joan</td>\\n      <td>Langton</td>\\n      <td>1944-07-28</td>\\n      <td>Leo</td>\\n      <td>Fri</td>\\n      <td>76 Years 193 Days</td>\\n    </tr>\\n    <tr>\\n      <td>Anna</td>\\n      <td>Louise</td>\\n      <td>Langton</td>\\n      <td>1969-10-13</td>\\n      <td>Libra</td>\\n      <td>Mon</td>\\n      <td>51 Years 116 Days</td>\\n    </tr>\\n    <tr>\\n      <td>Sue</td>\\n      <td>Jane</td>\\n      <td>Lenihan</td>\\n      <td>1971-06-26</td>\\n      <td>Cancer</td>\\n      <td>Sat</td>\\n      <td>49 Years 225 Days</td>\\n    </tr>\\n    <tr>\\n      <td>Ginny</td>\\n      <td>Alexandra</td>\\n      <td>Carlson</td>\\n      <td>1975-06-12</td>\\n      <td>Gemini</td>\\n      <td>Thu</td>\\n      <td>45 Years 239 Days</td>\\n    </tr>\\n  </tbody>\\n</table>'"
      ]
     },
     "execution_count": 192,
     "metadata": {},
     "output_type": "execute_result"
    }
   ],
   "source": [
    "df.to_html(index=False)"
   ]
  },
  {
   "cell_type": "code",
   "execution_count": 199,
   "id": "special-portland",
   "metadata": {},
   "outputs": [
    {
     "data": {
      "text/plain": [
       "1"
      ]
     },
     "execution_count": 199,
     "metadata": {},
     "output_type": "execute_result"
    }
   ],
   "source": [
    "pd.options.display.html.border"
   ]
  },
  {
   "cell_type": "code",
   "execution_count": null,
   "id": "subtle-synthesis",
   "metadata": {},
   "outputs": [],
   "source": []
  }
 ],
 "metadata": {
  "kernelspec": {
   "display_name": "Python 3",
   "language": "python",
   "name": "python3"
  },
  "language_info": {
   "codemirror_mode": {
    "name": "ipython",
    "version": 3
   },
   "file_extension": ".py",
   "mimetype": "text/x-python",
   "name": "python",
   "nbconvert_exporter": "python",
   "pygments_lexer": "ipython3",
   "version": "3.8.3"
  }
 },
 "nbformat": 4,
 "nbformat_minor": 5
}
