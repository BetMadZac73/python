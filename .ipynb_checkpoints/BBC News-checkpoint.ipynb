{
 "cells": [
  {
   "cell_type": "code",
   "execution_count": null,
   "id": "defined-creator",
   "metadata": {},
   "outputs": [],
   "source": [
    "## Beautiful Soup example to get BBC News\n",
    "\n",
    "# note - right click on the web page choose inspect\n",
    "#        if it's not showing the div name CTL+SHFT+C \n",
    "import requests\n",
    "from bs4 import BeautifulSoup as bs\n",
    "from IPython.core.display import display, HTML    # this is so we can display HTML in Jupyter\n",
    "import win32com.client as win32   # enable us to use the outlook client\n",
    "\n",
    "recipients = \"carllangton@aol.com\"\n",
    "#recipients = \"yjlangton@gmail.com; aldx2@yahoo.co.uk; suelenihan71@yahoo.com; ginnycarlson75@gmail.com; carllangton73@gmail.com\"\n",
    "url = 'https://www.bbc.co.uk/news'    # this is where we are fetching the news from\n",
    "news = requests.get(url)    # this is requesting the html back from the url\n",
    "\n",
    "soup = bs(news.content, 'html.parser')    # this makes the soup\n",
    "\n",
    "# This class will create a story and the bits of info we need\n",
    "class Story:\n",
    "    # initialise\n",
    "    def __init__(self, url, title):\n",
    "        # I get sometimes a dublication in the url string, so we take the rightmost https: address\n",
    "        self.url = f\"https{url.split('https')[-1]}\"    # clean up the url string\n",
    "        self.title = title\n",
    "        self.html = requests.get(self.url)    # use requests to get the output\n",
    "        self.soup = bs(self.html.content, 'html.parser')    # make the soup\n",
    "        summary = ''\n",
    "        for p in self.soup.article.findAll('p')[:5]:\n",
    "            summary += f\" {p.text}\"\n",
    "        self.summary = summary\n",
    "            \n",
    "# Now the main piece - find all divs in the soup of the class type - these are headlines on the main news page\n",
    "divs = soup.findAll(\"div\", class_ = [\"gs-c-promo-body\"])\n",
    "stories = []    # create an empty list, this is so we can avoid duplicating the stories\n",
    "msgBody = ''    # create an empty string to hold output HTM code\n",
    "# next work our way through each div\n",
    "for div in divs:\n",
    "    if not div.h3.text in stories:    # if it's not alreayd in the list of stories \n",
    "        stories.append(div.h3.text)    # then add it to the list and try\n",
    "        try:\n",
    "            story = Story(f\"https://www.bbc.co.uk{div.a['href']}\", div.h3.text)    # create the story using the class Story\n",
    "            msgBody += f\"<a href='{story.url}'><h3>{story.title}</h3></a><p>{story.summary}</p>\"\n",
    "            print(f\"\\n\\n{story.title} - {story.url} \\n{story.summary}\")\n",
    "        except:\n",
    "            pass\n",
    "        \n",
    "outlook = win32.Dispatch(\"Outlook.Application\")\n",
    "mail = outlook.CreateItem(0)\n",
    "mail.To = recipients\n",
    "mail.Subject = \"BBC News Summary\"\n",
    "mail.HTMLBody = msgBody\n",
    "mail.Send()\n",
    "       \n"
   ]
  },
  {
   "cell_type": "code",
   "execution_count": null,
   "id": "cooked-webmaster",
   "metadata": {},
   "outputs": [],
   "source": [
    "display(HTML(msgBody))"
   ]
  },
  {
   "cell_type": "code",
   "execution_count": null,
   "id": "ahead-secretariat",
   "metadata": {},
   "outputs": [],
   "source": [
    "\n"
   ]
  }
 ],
 "metadata": {
  "kernelspec": {
   "display_name": "Python 3",
   "language": "python",
   "name": "python3"
  },
  "language_info": {
   "codemirror_mode": {
    "name": "ipython",
    "version": 3
   },
   "file_extension": ".py",
   "mimetype": "text/x-python",
   "name": "python",
   "nbconvert_exporter": "python",
   "pygments_lexer": "ipython3",
   "version": "3.8.3"
  }
 },
 "nbformat": 4,
 "nbformat_minor": 5
}
