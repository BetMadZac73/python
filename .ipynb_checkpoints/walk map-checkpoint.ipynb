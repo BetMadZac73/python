{
 "cells": [
  {
   "cell_type": "code",
   "execution_count": 1,
   "id": "material-links",
   "metadata": {},
   "outputs": [
    {
     "ename": "ModuleNotFoundError",
     "evalue": "No module named 'pandas_read_xml'",
     "output_type": "error",
     "traceback": [
      "\u001b[1;31m---------------------------------------------------------------------------\u001b[0m",
      "\u001b[1;31mModuleNotFoundError\u001b[0m                       Traceback (most recent call last)",
      "\u001b[1;32m<ipython-input-1-6a47ef6d8023>\u001b[0m in \u001b[0;36m<module>\u001b[1;34m\u001b[0m\n\u001b[0;32m      2\u001b[0m \u001b[1;32mimport\u001b[0m \u001b[0mplotly\u001b[0m\u001b[1;33m.\u001b[0m\u001b[0mgraph_objects\u001b[0m \u001b[1;32mas\u001b[0m \u001b[0mgo\u001b[0m\u001b[1;33m\u001b[0m\u001b[1;33m\u001b[0m\u001b[0m\n\u001b[0;32m      3\u001b[0m \u001b[1;31m#!pip install pandas_read_xml\u001b[0m\u001b[1;33m\u001b[0m\u001b[1;33m\u001b[0m\u001b[1;33m\u001b[0m\u001b[0m\n\u001b[1;32m----> 4\u001b[1;33m \u001b[1;32mimport\u001b[0m \u001b[0mpandas_read_xml\u001b[0m \u001b[1;32mas\u001b[0m \u001b[0mpdx\u001b[0m\u001b[1;33m\u001b[0m\u001b[1;33m\u001b[0m\u001b[0m\n\u001b[0m\u001b[0;32m      5\u001b[0m \u001b[1;31m#!pip install geopy\u001b[0m\u001b[1;33m\u001b[0m\u001b[1;33m\u001b[0m\u001b[1;33m\u001b[0m\u001b[0m\n\u001b[0;32m      6\u001b[0m \u001b[1;32mimport\u001b[0m \u001b[0mgeopy\u001b[0m\u001b[1;33m.\u001b[0m\u001b[0mdistance\u001b[0m\u001b[1;33m\u001b[0m\u001b[1;33m\u001b[0m\u001b[0m\n",
      "\u001b[1;31mModuleNotFoundError\u001b[0m: No module named 'pandas_read_xml'"
     ]
    }
   ],
   "source": [
    "import pandas as pd\n",
    "import plotly.graph_objects as go\n",
    "#!pip install pandas_read_xml\n",
    "import pandas_read_xml as pdx\n",
    "#!pip install geopy\n",
    "import geopy.distance"
   ]
  },
  {
   "cell_type": "markdown",
   "id": "circular-austria",
   "metadata": {},
   "source": [
    "You will go to Google maps, go to 'your maps' find a place, and direction, get the second place\n",
    "Export map as KMZ file and then in Notepad cut out just the coordinates.  \n",
    "then feed it in below"
   ]
  },
  {
   "cell_type": "code",
   "execution_count": null,
   "id": "exact-timer",
   "metadata": {},
   "outputs": [],
   "source": [
    "walk = open('C:\\\\users\\\\clangton2\\\\downloads\\\\walk.kml','r')\n",
    "lon, lat, km, labels = [], [], [], []\n",
    "\n",
    "walked = 2500    # How far have they already walked. KM\n",
    "\n",
    "dist = float(0)\n",
    "i = 0\n",
    "label = ''\n",
    "for line in walk:\n",
    "    line.strip()\n",
    "    a, b, c = line.split(',')\n",
    "    lon.append(a)\n",
    "    lat.append(b)\n",
    "    \n",
    "    if i >= 1:\n",
    "        dist += geopy.distance.geodesic( (a0, b0), (a, b)).km\n",
    "        label = str(f'{dist:,.3f}km')\n",
    "    a0 , b0 = a, b\n",
    "    km.append(dist)\n",
    "    labels.append(label)\n",
    "    i += 1\n",
    "\n",
    "df = pd.DataFrame({'lon' :lon, 'lat' :lat, 'km' :km, 'labels': labels})"
   ]
  },
  {
   "cell_type": "code",
   "execution_count": null,
   "id": "celtic-inventory",
   "metadata": {},
   "outputs": [],
   "source": [
    "df1 = df.query(f'km < {walked}')\n",
    "df2 = df.query(f'km > {walked}')\n",
    "\n",
    "fig = go.Figure(go.Scattermapbox(\n",
    "    mode = \"markers+lines\",\n",
    "    lon = df1.lon,\n",
    "    lat = df1.lat,\n",
    "    ids = df1.labels,\n",
    "    text = df1.labels,\n",
    "    name='completed',\n",
    "    marker = {'size': 4, 'color':'red'}))\n",
    "\n",
    "fig.update_traces(\n",
    "    line=dict(color='red', width=3),\n",
    "    )\n",
    "\n",
    "fig.add_trace(go.Scattermapbox(\n",
    "    mode = \"markers+lines\",\n",
    "    lon = df2.lon,\n",
    "    lat = df2.lat,\n",
    "    ids = df2.labels,\n",
    "    text = df2.labels,\n",
    "    name='road ahead',\n",
    "    marker = {'size': 4, 'color':'lightblue'}))\n",
    "\n",
    "\n",
    "fig.update_layout(\n",
    "    margin ={'l':0,'t':0,'b':0,'r':0},\n",
    "    mapbox = {\n",
    "        'style': \"stamen-terrain\",\n",
    "        'center': {'lon': 30, 'lat': -15},\n",
    "        'zoom': 3},\n",
    ")\n",
    "\n",
    "fig.update_layout(title = 'The long Walk from Cape Town to Moscow')\n",
    "\n",
    "fig.show()\n",
    "fig.write_html('C:\\\\users\\clangton2\\downloads\\Capetown-to-Moscow.html')"
   ]
  },
  {
   "cell_type": "code",
   "execution_count": null,
   "id": "happy-cotton",
   "metadata": {},
   "outputs": [],
   "source": []
  }
 ],
 "metadata": {
  "kernelspec": {
   "display_name": "Python 3",
   "language": "python",
   "name": "python3"
  },
  "language_info": {
   "codemirror_mode": {
    "name": "ipython",
    "version": 3
   },
   "file_extension": ".py",
   "mimetype": "text/x-python",
   "name": "python",
   "nbconvert_exporter": "python",
   "pygments_lexer": "ipython3",
   "version": "3.8.3"
  }
 },
 "nbformat": 4,
 "nbformat_minor": 5
}
