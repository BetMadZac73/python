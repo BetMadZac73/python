{
 "cells": [
  {
   "cell_type": "code",
   "execution_count": null,
   "id": "innocent-virginia",
   "metadata": {},
   "outputs": [],
   "source": [
    "## we are going to grab instagram pics\n",
    "import requests\n",
    "from bs4 import BeautifulSoup as bs\n",
    "from IPython.core.display import display, HTML    # this is so we can display HTML in Jupyter\n",
    "from pathlib import Path\n",
    "folder = f'{Path.home()}\\\\Downloads\\\\Yahoo'\n",
    "i = 0\n",
    "\n",
    "import os\n",
    "if not os.path.exists(folder):\n",
    "    print('making folder')\n",
    "    os.makedirs(folder)\n",
    "    \n",
    "who = input('Paste the person to search :> ')\n",
    "opt = input('option (0) :> ') or '0'\n",
    "folder += f'\\\\{who}'\n",
    "if not os.path.exists(folder):\n",
    "    print('making folder')\n",
    "    os.makedirs(folder)\n",
    "\n",
    "names = who.replace(' ', '+')\n",
    "if opt == '1':\n",
    "    names = 'hot+' + names\n",
    "    i = 100\n",
    "\n",
    "url = f'https://uk.images.search.yahoo.com/search/images?p={names}'\n",
    "\n",
    "soup = bs(requests.get(url).content, 'html.parser')\n",
    "\n",
    "imgs = soup.findAll('img')\n",
    "\n",
    "html_out = f'<h2> {who} </h2>'\n",
    "html_out += '<table>'\n",
    "\n",
    "for img in imgs[1::2]:\n",
    "    src = img['src'].replace(\"300\",\"1000\")\n",
    "    if i % 2 == 0:\n",
    "        html_out += f\"<tr><td><img src='{src}'></td>\"\n",
    "    else:\n",
    "        html_out += f\"<td><img src='{src}'></td></tr>\"\n",
    "        \n",
    "    with open(f\"{folder}/{who}_{i}.jpg\", \"wb\") as writer:\n",
    "        i+=1\n",
    "        writer.write(requests.get(src).content)\n",
    "html_out += '</table>'\n",
    "HTML(html_out)\n"
   ]
  }
 ],
 "metadata": {
  "kernelspec": {
   "display_name": "Python 3",
   "language": "python",
   "name": "python3"
  },
  "language_info": {
   "codemirror_mode": {
    "name": "ipython",
    "version": 3
   },
   "file_extension": ".py",
   "mimetype": "text/x-python",
   "name": "python",
   "nbconvert_exporter": "python",
   "pygments_lexer": "ipython3",
   "version": "3.8.3"
  }
 },
 "nbformat": 4,
 "nbformat_minor": 5
}
