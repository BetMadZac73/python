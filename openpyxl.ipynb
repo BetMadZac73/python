{
 "cells": [
  {
   "cell_type": "code",
   "execution_count": 123,
   "id": "attended-citizenship",
   "metadata": {},
   "outputs": [],
   "source": [
    "import pandas as pd\n",
    "import datetime as dt\n",
    "from IPython.display import Markdown, display, HTML\n",
    "\n",
    "def load():\n",
    "    name = pd.DataFrame({'name': ['carl', 'beth', 'madz', 'zack', 'yvonne', 'anna', 'sue', 'ginny'],\n",
    "                         'middle' : ['warneford', 'paige', 'faith', 'tyler', 'joan', 'louise', 'jane', 'alexandra'],\n",
    "                        'family-name': ['langton', 'langton', 'langton', 'langton', 'langton', 'langton', 'lenihan', 'carlson']})\n",
    "    birthday = pd.DataFrame({'name': ['carl', 'beth', 'madz', 'zack', 'yvonne', 'anna', 'sue', 'ginny'],\n",
    "                        'dob': [pd.Timestamp(\"1973-04-19\"), pd.Timestamp(\"2000-04-04\"),\n",
    "                               pd.Timestamp(\"2002-01-24\"), pd.Timestamp(\"2007-05-17\"),\n",
    "                               pd.Timestamp(\"1944-07-28\"), pd.Timestamp(\"1969-10-13\"),\n",
    "                               pd.Timestamp(\"1971-06-26\"), pd.Timestamp(\"1975-06-12\")]})\n",
    "    sign = pd.DataFrame({'name': ['carl', 'beth', 'madz', 'zack', 'yvonne', 'anna', 'sue', 'ginny'],\n",
    "                         'sign': ['aries', 'aries', 'aquarius', 'taurus', 'leo', 'libra', 'cancer', 'gemini']})\n",
    "    return name, birthday, sign"
   ]
  },
  {
   "cell_type": "code",
   "execution_count": 124,
   "id": "running-quarter",
   "metadata": {},
   "outputs": [],
   "source": [
    "import openpyxl\n",
    "\n",
    "wb = openpyxl.Workbook()\n",
    "ws = wb.active\n",
    "\n",
    "name, birthday, sign = load()"
   ]
  },
  {
   "cell_type": "code",
   "execution_count": 125,
   "id": "colonial-timeline",
   "metadata": {},
   "outputs": [
    {
     "data": {
      "text/plain": [
       "['Sheet']"
      ]
     },
     "execution_count": 125,
     "metadata": {},
     "output_type": "execute_result"
    }
   ],
   "source": [
    "wb.sheetnames"
   ]
  },
  {
   "cell_type": "code",
   "execution_count": 126,
   "id": "compound-weather",
   "metadata": {},
   "outputs": [],
   "source": [
    "ws.title = 'Name'"
   ]
  },
  {
   "cell_type": "code",
   "execution_count": 127,
   "id": "opponent-baseline",
   "metadata": {},
   "outputs": [
    {
     "name": "stdout",
     "output_type": "stream",
     "text": [
      "2 - carl\n",
      "3 - beth\n",
      "4 - madz\n",
      "5 - zack\n",
      "6 - yvonne\n",
      "7 - anna\n",
      "8 - sue\n",
      "9 - ginny\n"
     ]
    },
    {
     "data": {
      "text/plain": [
       "<bound method Workbook.close of <openpyxl.workbook.workbook.Workbook object at 0x0000020EED59B280>>"
      ]
     },
     "execution_count": 127,
     "metadata": {},
     "output_type": "execute_result"
    }
   ],
   "source": [
    "r = 1\n",
    "ws.cell(row = r, column = 1, value = 'Name')\n",
    "ws.cell(row = r, column = 2, value = 'Middle')\n",
    "ws.cell(row = r, column = 3, value = 'Surname')\n",
    "r = 2\n",
    "\n",
    "def my(x):\n",
    "    global r\n",
    "    print(f'{r} - {x[0]}')\n",
    "    ws.cell(row = r, column = 1, value = x[0])\n",
    "    ws.cell(row = r, column = 2, value = x[1])\n",
    "    ws.cell(row = r, column = 3, value = x[2])\n",
    "    r+=1\n",
    "\n",
    "name.apply(lambda x: my(x), axis=1)\n",
    "\n",
    "wb.save('test.xlsx')\n",
    "wb.close"
   ]
  },
  {
   "cell_type": "markdown",
   "id": "green-meter",
   "metadata": {},
   "source": [
    "# Read a workbook\n",
    "\n",
    "## Read in the workbook created above, and apply some styling to it. "
   ]
  },
  {
   "cell_type": "code",
   "execution_count": 132,
   "id": "permanent-jersey",
   "metadata": {},
   "outputs": [],
   "source": [
    "wb = openpyxl.load_workbook(filename = 'test.xlsx')\n",
    "ws = wb.active\n",
    "fillhd = openpyxl.styles.PatternFill(\"solid\", fgColor=\"FF9400D3\")    # Purple\n",
    "fillodd = openpyxl.styles.PatternFill(\"solid\", fgColor=\"FF90EE90\")    # Light Green\n",
    "filleven = openpyxl.styles.PatternFill(\"solid\", fgColor=\"FFFFFF99\")    # Light Yellow\n",
    "\n",
    "hdfont = openpyxl.styles.Font('Arial', color='FFFFFFFF', size=12, bold=True)    # White\n",
    "oddfont = openpyxl.styles.Font('Arial', color='FF9400D3', size=12, bold=True)    # Purple\n",
    "evenfont = openpyxl.styles.Font('Arial', color='FF1E90FF', size=12, bold=True)    # Blue\n",
    "\n",
    "for row in ws.rows:\n",
    "    for cell in row:\n",
    "        if cell.row == 1:\n",
    "            myfill, myfont = fillhd, hdfont\n",
    "        elif cell.row % 2 == 0:\n",
    "            myfill, myfont = filleven, evenfont\n",
    "        else:\n",
    "            myfill, myfont = fillodd, oddfont\n",
    "        cell.fill = myfill\n",
    "        cell.font = myfont\n",
    "        cell.value = cell.value.capitalize()\n",
    "for char in ['A', 'B', 'C']:\n",
    "    ws.column_dimensions[char].width = 17\n",
    "\n",
    "wb.save('test.xlsx')\n",
    "wb.close()"
   ]
  },
  {
   "cell_type": "code",
   "execution_count": 109,
   "id": "caring-heart",
   "metadata": {},
   "outputs": [],
   "source": [
    "ws.column_dimensions['A'].width = 15"
   ]
  },
  {
   "cell_type": "code",
   "execution_count": 114,
   "id": "wound-prairie",
   "metadata": {},
   "outputs": [
    {
     "data": {
      "text/plain": [
       "<function str.capitalize()>"
      ]
     },
     "execution_count": 114,
     "metadata": {},
     "output_type": "execute_result"
    }
   ],
   "source": [
    "cell.value.capitalize"
   ]
  },
  {
   "cell_type": "code",
   "execution_count": null,
   "id": "bronze-beads",
   "metadata": {},
   "outputs": [],
   "source": []
  }
 ],
 "metadata": {
  "kernelspec": {
   "display_name": "Python 3",
   "language": "python",
   "name": "python3"
  },
  "language_info": {
   "codemirror_mode": {
    "name": "ipython",
    "version": 3
   },
   "file_extension": ".py",
   "mimetype": "text/x-python",
   "name": "python",
   "nbconvert_exporter": "python",
   "pygments_lexer": "ipython3",
   "version": "3.8.3"
  }
 },
 "nbformat": 4,
 "nbformat_minor": 5
}
